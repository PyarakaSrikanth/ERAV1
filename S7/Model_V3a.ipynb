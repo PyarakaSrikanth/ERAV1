{
  "nbformat": 4,
  "nbformat_minor": 0,
  "metadata": {
    "colab": {
      "provenance": []
    },
    "kernelspec": {
      "name": "python3",
      "display_name": "Python 3"
    },
    "accelerator": "GPU"
  },
  "cells": [
    {
      "cell_type": "markdown",
      "metadata": {
        "id": "8fjxXU20NKEW"
      },
      "source": [
        "# Model Version 3a\n",
        "\n",
        "Objective : To Improve learning - Apply LR Scheduler .. No change to Model Architecture."
      ]
    },
    {
      "cell_type": "markdown",
      "metadata": {
        "id": "HYuuJQm7NFQr"
      },
      "source": [
        "## Importing Libraries\n",
        "\n"
      ]
    },
    {
      "cell_type": "code",
      "metadata": {
        "id": "ZpuLN2ULMV5l"
      },
      "source": [
        "import torch\n",
        "import torch.nn as nn # All NN Layers\n",
        "import torch.nn.functional as F # to get loss fucnction\n",
        "import torch.optim as optim # Optimizer Fucntion\n",
        "from torchvision import datasets, transforms #Loading Dataset and transform function to perform transformation\n",
        "from torchsummary import summary # To view summary\n",
        "%matplotlib inline\n",
        "import matplotlib.pyplot as plt # To plot graphs\n",
        "from torch.optim.lr_scheduler import StepLR,OneCycleLR, ReduceLROnPlateau\n",
        "from tqdm import tqdm\n",
        "from model import Model_3 # model.py\n",
        "from utils import *\n",
        "from torch.utils.data import DataLoader, Dataset\n",
        "\n"
      ],
      "execution_count": 9,
      "outputs": []
    },
    {
      "cell_type": "markdown",
      "metadata": {
        "id": "maL35NB8OF_2"
      },
      "source": [
        "## Data Transformation\n",
        "\n",
        "We first start with defining our data transformations. We need to think what our data is and how can we augment it to correct represent images which it might not see otherwise."
      ]
    },
    {
      "cell_type": "code",
      "metadata": {
        "id": "_dbYptsbNcb7"
      },
      "source": [
        "# Train Phase transformations\n",
        "train_transforms = transforms.Compose([\n",
        "                                       transforms.RandomRotation(fill=(0,),degrees=(-5,5)),\n",
        "                                       transforms.ToTensor(), # Converting to Tensor\n",
        "                                       transforms.Normalize((0.1307,),(0.3081,)) # Normalizing the dataset with the mean and std\n",
        "                                      ])\n",
        "\n",
        "# Test Phase transformations\n",
        "test_transforms = transforms.Compose([\n",
        "                                    transforms.ToTensor(), # Converting to Tensor\n",
        "                                    transforms.Normalize((0.1307,),(0.3081,))  # Normalizing the dataset using mean and std\n",
        "                                  ])"
      ],
      "execution_count": 3,
      "outputs": []
    },
    {
      "cell_type": "markdown",
      "metadata": {
        "id": "PkctICa0PReE"
      },
      "source": [
        "## Dataset Cleaning and Train/Test Split"
      ]
    },
    {
      "cell_type": "code",
      "metadata": {
        "id": "1MwqVDPdPJ9S"
      },
      "source": [
        "train = datasets.MNIST('./data',train= True,download= True, transform = train_transforms) # Downloading Train set\n",
        "test = datasets.MNIST('./data',train= False,download= True, transform = test_transforms) # Downloading Test set"
      ],
      "execution_count": 4,
      "outputs": []
    },
    {
      "cell_type": "markdown",
      "metadata": {
        "id": "bMgM30nFQNjA"
      },
      "source": [
        "## CONSTANTS"
      ]
    },
    {
      "cell_type": "code",
      "metadata": {
        "id": "oUx3HlPmQMmH"
      },
      "source": [
        "SEED = 1\n",
        "BATCHSIZE = 128\n",
        "BATCHSIZE_2 = 64\n",
        "NUM_OF_WORKER = 4\n",
        "EPOCHS = 15"
      ],
      "execution_count": 5,
      "outputs": []
    },
    {
      "cell_type": "markdown",
      "metadata": {
        "id": "G7dpXe2LPums"
      },
      "source": [
        "## Data Loading"
      ]
    },
    {
      "cell_type": "code",
      "metadata": {
        "id": "7QEmj4g1Phay",
        "colab": {
          "base_uri": "https://localhost:8080/"
        },
        "outputId": "f438f038-4540-4b6f-d4bd-12fbbe55001c"
      },
      "source": [
        "# Checking for CUDA\n",
        "cuda = torch.cuda.is_available()\n",
        "print(\"CUDA Available\",cuda)\n",
        "\n",
        "torch.manual_seed(SEED)\n",
        "if cuda:\n",
        "  torch.cuda.manual_seed(SEED)\n",
        "\n",
        "kwargs = {'shuffle' : True,'batch_size' : BATCHSIZE,'num_workers': 4, 'pin_memory': True} if cuda else {'shuffle' : True,'batch_size' : BATCHSIZE_2}\n",
        "\n",
        "train_loader = torch.utils.data.DataLoader(train, **kwargs) # creating train data loader\n",
        "test_loader = torch.utils.data.DataLoader(test, **kwargs) # creating test dataloader"
      ],
      "execution_count": 6,
      "outputs": [
        {
          "output_type": "stream",
          "name": "stdout",
          "text": [
            "CUDA Available True\n"
          ]
        },
        {
          "output_type": "stream",
          "name": "stderr",
          "text": [
            "/usr/local/lib/python3.10/dist-packages/torch/utils/data/dataloader.py:560: UserWarning: This DataLoader will create 4 worker processes in total. Our suggested max number of worker in current system is 2, which is smaller than what this DataLoader is going to create. Please be aware that excessive worker creation might get DataLoader running slow or even freeze, lower the worker number to avoid potential slowness/freeze if necessary.\n",
            "  warnings.warn(_create_warning_msg(\n"
          ]
        }
      ]
    },
    {
      "cell_type": "markdown",
      "metadata": {
        "id": "u2WAhtOTWXc9"
      },
      "source": [
        "## Model Summary\n"
      ]
    },
    {
      "cell_type": "code",
      "source": [
        "cuda = torch.cuda.is_available()\n",
        "device = torch.device(\"cuda\" if cuda else \"cpu\")\n",
        "model = Model_3().to(device)\n",
        "summary(model,input_size=(1,28,28))"
      ],
      "metadata": {
        "colab": {
          "base_uri": "https://localhost:8080/"
        },
        "id": "nuJmuU9eGv8c",
        "outputId": "9e8d2e8e-4f79-4fde-8a4d-88027aada80b"
      },
      "execution_count": 7,
      "outputs": [
        {
          "output_type": "stream",
          "name": "stdout",
          "text": [
            "----------------------------------------------------------------\n",
            "        Layer (type)               Output Shape         Param #\n",
            "================================================================\n",
            "            Conv2d-1            [-1, 9, 26, 26]              81\n",
            "       BatchNorm2d-2            [-1, 9, 26, 26]              18\n",
            "         Dropout2d-3            [-1, 9, 26, 26]               0\n",
            "            Conv2d-4           [-1, 18, 24, 24]           1,458\n",
            "       BatchNorm2d-5           [-1, 18, 24, 24]              36\n",
            "         Dropout2d-6           [-1, 18, 24, 24]               0\n",
            "            Conv2d-7           [-1, 12, 24, 24]             216\n",
            "         MaxPool2d-8           [-1, 12, 12, 12]               0\n",
            "            Conv2d-9           [-1, 18, 10, 10]           1,944\n",
            "      BatchNorm2d-10           [-1, 18, 10, 10]              36\n",
            "        Dropout2d-11           [-1, 18, 10, 10]               0\n",
            "           Conv2d-12             [-1, 18, 8, 8]           2,916\n",
            "      BatchNorm2d-13             [-1, 18, 8, 8]              36\n",
            "        Dropout2d-14             [-1, 18, 8, 8]               0\n",
            "           Conv2d-15             [-1, 18, 6, 6]           2,916\n",
            "      BatchNorm2d-16             [-1, 18, 6, 6]              36\n",
            "        Dropout2d-17             [-1, 18, 6, 6]               0\n",
            "        AvgPool2d-18             [-1, 18, 1, 1]               0\n",
            "           Conv2d-19             [-1, 10, 1, 1]             180\n",
            "================================================================\n",
            "Total params: 9,873\n",
            "Trainable params: 9,873\n",
            "Non-trainable params: 0\n",
            "----------------------------------------------------------------\n",
            "Input size (MB): 0.00\n",
            "Forward/backward pass size (MB): 0.53\n",
            "Params size (MB): 0.04\n",
            "Estimated Total Size (MB): 0.57\n",
            "----------------------------------------------------------------\n"
          ]
        }
      ]
    },
    {
      "cell_type": "markdown",
      "metadata": {
        "id": "Zt9h3ejzRlJX"
      },
      "source": [
        "## Model training"
      ]
    },
    {
      "cell_type": "code",
      "metadata": {
        "id": "1tFHIM-siTaR",
        "colab": {
          "base_uri": "https://localhost:8080/"
        },
        "outputId": "df82ee96-04c0-4877-a233-ddcad941b343"
      },
      "source": [
        "model =  Model_3().to(device)\n",
        "optimizer = optim.SGD(model.parameters(), lr=0.01, momentum=0.9)\n",
        "scheduler = StepLR(optimizer, step_size=10, gamma=0.1)\n",
        "criterion = F.nll_loss\n",
        "num_epochs = 15\n",
        "\n",
        "for epoch in range(1, num_epochs+1):\n",
        "  print(f'Epoch {epoch}')\n",
        "  train(model, device, train_loader, optimizer, criterion)\n",
        "  scheduler.step()\n",
        "  test(model, device, test_loader, criterion)"
      ],
      "execution_count": 10,
      "outputs": [
        {
          "output_type": "stream",
          "name": "stdout",
          "text": [
            "Epoch 1\n"
          ]
        },
        {
          "output_type": "stream",
          "name": "stderr",
          "text": [
            "Train: Loss=0.1108 Batch_id=468 Accuracy=89.47: 100%|██████████| 469/469 [00:22<00:00, 20.50it/s]\n"
          ]
        },
        {
          "output_type": "stream",
          "name": "stdout",
          "text": [
            "Test set: Average loss: 0.0896, Accuracy: 9775/10000 (97.75%)\n",
            "\n",
            "Epoch 2\n"
          ]
        },
        {
          "output_type": "stream",
          "name": "stderr",
          "text": [
            "Train: Loss=0.0459 Batch_id=468 Accuracy=97.61: 100%|██████████| 469/469 [00:23<00:00, 20.34it/s]\n"
          ]
        },
        {
          "output_type": "stream",
          "name": "stdout",
          "text": [
            "Test set: Average loss: 0.0522, Accuracy: 9851/10000 (98.51%)\n",
            "\n",
            "Epoch 3\n"
          ]
        },
        {
          "output_type": "stream",
          "name": "stderr",
          "text": [
            "Train: Loss=0.0116 Batch_id=468 Accuracy=98.20: 100%|██████████| 469/469 [00:22<00:00, 20.85it/s]\n"
          ]
        },
        {
          "output_type": "stream",
          "name": "stdout",
          "text": [
            "Test set: Average loss: 0.0425, Accuracy: 9863/10000 (98.63%)\n",
            "\n",
            "Epoch 4\n"
          ]
        },
        {
          "output_type": "stream",
          "name": "stderr",
          "text": [
            "Train: Loss=0.0536 Batch_id=468 Accuracy=98.47: 100%|██████████| 469/469 [00:24<00:00, 19.48it/s]\n"
          ]
        },
        {
          "output_type": "stream",
          "name": "stdout",
          "text": [
            "Test set: Average loss: 0.0420, Accuracy: 9878/10000 (98.78%)\n",
            "\n",
            "Epoch 5\n"
          ]
        },
        {
          "output_type": "stream",
          "name": "stderr",
          "text": [
            "Train: Loss=0.0148 Batch_id=468 Accuracy=98.67: 100%|██████████| 469/469 [00:21<00:00, 21.34it/s]\n"
          ]
        },
        {
          "output_type": "stream",
          "name": "stdout",
          "text": [
            "Test set: Average loss: 0.0340, Accuracy: 9895/10000 (98.95%)\n",
            "\n",
            "Epoch 6\n"
          ]
        },
        {
          "output_type": "stream",
          "name": "stderr",
          "text": [
            "Train: Loss=0.0302 Batch_id=468 Accuracy=98.84: 100%|██████████| 469/469 [00:21<00:00, 21.49it/s]\n"
          ]
        },
        {
          "output_type": "stream",
          "name": "stdout",
          "text": [
            "Test set: Average loss: 0.0299, Accuracy: 9916/10000 (99.16%)\n",
            "\n",
            "Epoch 7\n"
          ]
        },
        {
          "output_type": "stream",
          "name": "stderr",
          "text": [
            "Train: Loss=0.0182 Batch_id=468 Accuracy=98.92: 100%|██████████| 469/469 [00:22<00:00, 21.24it/s]\n"
          ]
        },
        {
          "output_type": "stream",
          "name": "stdout",
          "text": [
            "Test set: Average loss: 0.0291, Accuracy: 9918/10000 (99.18%)\n",
            "\n",
            "Epoch 8\n"
          ]
        },
        {
          "output_type": "stream",
          "name": "stderr",
          "text": [
            "Train: Loss=0.0286 Batch_id=468 Accuracy=98.98: 100%|██████████| 469/469 [00:22<00:00, 20.73it/s]\n"
          ]
        },
        {
          "output_type": "stream",
          "name": "stdout",
          "text": [
            "Test set: Average loss: 0.0315, Accuracy: 9905/10000 (99.05%)\n",
            "\n",
            "Epoch 9\n"
          ]
        },
        {
          "output_type": "stream",
          "name": "stderr",
          "text": [
            "Train: Loss=0.0295 Batch_id=468 Accuracy=99.04: 100%|██████████| 469/469 [00:23<00:00, 20.11it/s]\n"
          ]
        },
        {
          "output_type": "stream",
          "name": "stdout",
          "text": [
            "Test set: Average loss: 0.0240, Accuracy: 9933/10000 (99.33%)\n",
            "\n",
            "Epoch 10\n"
          ]
        },
        {
          "output_type": "stream",
          "name": "stderr",
          "text": [
            "Train: Loss=0.0090 Batch_id=468 Accuracy=99.09: 100%|██████████| 469/469 [00:24<00:00, 19.25it/s]\n"
          ]
        },
        {
          "output_type": "stream",
          "name": "stdout",
          "text": [
            "Test set: Average loss: 0.0250, Accuracy: 9922/10000 (99.22%)\n",
            "\n",
            "Epoch 11\n"
          ]
        },
        {
          "output_type": "stream",
          "name": "stderr",
          "text": [
            "Train: Loss=0.0095 Batch_id=468 Accuracy=99.35: 100%|██████████| 469/469 [00:23<00:00, 20.23it/s]\n"
          ]
        },
        {
          "output_type": "stream",
          "name": "stdout",
          "text": [
            "Test set: Average loss: 0.0202, Accuracy: 9943/10000 (99.43%)\n",
            "\n",
            "Epoch 12\n"
          ]
        },
        {
          "output_type": "stream",
          "name": "stderr",
          "text": [
            "Train: Loss=0.0071 Batch_id=468 Accuracy=99.41: 100%|██████████| 469/469 [00:22<00:00, 20.50it/s]\n"
          ]
        },
        {
          "output_type": "stream",
          "name": "stdout",
          "text": [
            "Test set: Average loss: 0.0196, Accuracy: 9940/10000 (99.40%)\n",
            "\n",
            "Epoch 13\n"
          ]
        },
        {
          "output_type": "stream",
          "name": "stderr",
          "text": [
            "Train: Loss=0.0165 Batch_id=468 Accuracy=99.38: 100%|██████████| 469/469 [00:23<00:00, 20.33it/s]\n"
          ]
        },
        {
          "output_type": "stream",
          "name": "stdout",
          "text": [
            "Test set: Average loss: 0.0196, Accuracy: 9941/10000 (99.41%)\n",
            "\n",
            "Epoch 14\n"
          ]
        },
        {
          "output_type": "stream",
          "name": "stderr",
          "text": [
            "Train: Loss=0.0304 Batch_id=468 Accuracy=99.42: 100%|██████████| 469/469 [00:23<00:00, 20.37it/s]\n"
          ]
        },
        {
          "output_type": "stream",
          "name": "stdout",
          "text": [
            "Test set: Average loss: 0.0197, Accuracy: 9943/10000 (99.43%)\n",
            "\n",
            "Epoch 15\n"
          ]
        },
        {
          "output_type": "stream",
          "name": "stderr",
          "text": [
            "Train: Loss=0.0624 Batch_id=468 Accuracy=99.43: 100%|██████████| 469/469 [00:22<00:00, 20.62it/s]\n"
          ]
        },
        {
          "output_type": "stream",
          "name": "stdout",
          "text": [
            "Test set: Average loss: 0.0198, Accuracy: 9943/10000 (99.43%)\n",
            "\n"
          ]
        }
      ]
    },
    {
      "cell_type": "code",
      "metadata": {
        "id": "0PZeGEuRbB2D",
        "colab": {
          "base_uri": "https://localhost:8080/",
          "height": 871
        },
        "outputId": "087f3089-a0d0-4aa8-c891-cda9e30477a2"
      },
      "source": [
        "fig, axs = plt.subplots(2,2,figsize=(15,10))\n",
        "axs[0, 0].plot(train_losses)\n",
        "axs[0, 0].set_title(\"Training Loss\")\n",
        "axs[1, 0].plot(train_acc)\n",
        "axs[1, 0].set_title(\"Training Accuracy\")\n",
        "axs[0, 1].plot(test_losses)\n",
        "axs[0, 1].set_title(\"Test Loss\")\n",
        "axs[1, 1].plot(test_acc)\n",
        "axs[1, 1].set_title(\"Test Accuracy\")"
      ],
      "execution_count": 11,
      "outputs": [
        {
          "output_type": "execute_result",
          "data": {
            "text/plain": [
              "Text(0.5, 1.0, 'Test Accuracy')"
            ]
          },
          "metadata": {},
          "execution_count": 11
        },
        {
          "output_type": "display_data",
          "data": {
            "text/plain": [
              "<Figure size 1500x1000 with 4 Axes>"
            ],
            "image/png": "[encoded data removed]"
          },
          "metadata": {}
        }
      ]
    },
    {
      "cell_type": "code",
      "metadata": {
        "id": "tvKgA6NDjffj",
        "colab": {
          "base_uri": "https://localhost:8080/"
        },
        "outputId": "ccba637b-b592-4e8e-df14-08fbd1141ddf"
      },
      "source": [
        "print(f'Training Accuracy : {max(train_acc)}')\n",
        "print(f'Test Accuracy:{max(test_acc)}')"
      ],
      "execution_count": 12,
      "outputs": [
        {
          "output_type": "stream",
          "name": "stdout",
          "text": [
            "Training Accuracy : 99.42666666666666\n",
            "Test Accuracy:99.43\n"
          ]
        }
      ]
    },
    {
      "cell_type": "markdown",
      "source": [
        "## Results :\n",
        "\n",
        "* Model : Model_3a\n",
        "* Targets: Handle Overfitting and Improve Accuracy\n",
        "* Results:\n",
        "    - Training Accuracy : 99.42\n",
        "    - Test Accuracy : 99.43\n",
        "    - Parameters : 9873\n",
        "\n",
        "### Analysis:\n",
        "* Added Dropout layer to Handle Overfitting with Dropout value 0.01\n",
        "* Added Transformation (RandomRotation) augmentation\n",
        "* Model is not Overfitting and Generalizing well with LR scheduler at step 10\n",
        "* From Epoch 11 - Model Consistently giving test accuracy > 99.4.\n",
        "* Next step is to reduce parameter to make it < 8k"
      ],
      "metadata": {
        "id": "XGDrBfBJMypz"
      }
    }
  ]
}
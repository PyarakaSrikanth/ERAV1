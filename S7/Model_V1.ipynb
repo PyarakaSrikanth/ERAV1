{
  "nbformat": 4,
  "nbformat_minor": 0,
  "metadata": {
    "colab": {
      "provenance": []
    },
    "kernelspec": {
      "name": "python3",
      "display_name": "Python 3"
    },
    "accelerator": "GPU"
  },
  "cells": [
    {
      "cell_type": "markdown",
      "metadata": {
        "id": "8fjxXU20NKEW"
      },
      "source": [
        "# Model Version 1\n",
        "\n",
        "Objective : To build Skeleton Model with decent accuracy."
      ]
    },
    {
      "cell_type": "markdown",
      "metadata": {
        "id": "HYuuJQm7NFQr"
      },
      "source": [
        "## Importing Libraries\n",
        "\n"
      ]
    },
    {
      "cell_type": "code",
      "metadata": {
        "id": "ZpuLN2ULMV5l"
      },
      "source": [
        "import torch\n",
        "import torch.nn as nn # All NN Layers\n",
        "import torch.nn.functional as F # to get loss fucnction\n",
        "import torch.optim as optim # Optimizer Fucntion\n",
        "from torchvision import datasets, transforms #Loading Dataset and transform function to perform transformation\n",
        "from torchsummary import summary # To view summary\n",
        "%matplotlib inline\n",
        "import matplotlib.pyplot as plt # To plot graphs\n",
        "from torch.optim.lr_scheduler import StepLR,OneCycleLR, ReduceLROnPlateau\n",
        "from tqdm import tqdm\n",
        "from model import Model_1 # model.py\n",
        "from utils import *\n",
        "from torch.utils.data import DataLoader, Dataset\n",
        "\n"
      ],
      "execution_count": 22,
      "outputs": []
    },
    {
      "cell_type": "markdown",
      "metadata": {
        "id": "maL35NB8OF_2"
      },
      "source": [
        "## Data Transformation\n",
        "\n",
        "We first start with defining our data transformations. We need to think what our data is and how can we augment it to correct represent images which it might not see otherwise."
      ]
    },
    {
      "cell_type": "code",
      "metadata": {
        "id": "_dbYptsbNcb7"
      },
      "source": [
        "# Train Phase transformations\n",
        "train_transforms = transforms.Compose([\n",
        "                                       transforms.ToTensor(), # Converting to Tensor\n",
        "                                       transforms.Normalize((0.1307,),(0.3081,)) # Normalizing the dataset with the mean and std\n",
        "                                      ])\n",
        "\n",
        "# Test Phase transformations\n",
        "test_transforms = transforms.Compose([\n",
        "                                    transforms.ToTensor(), # Converting to Tensor\n",
        "                                    transforms.Normalize((0.1307,),(0.3081,))  # Normalizing the dataset using mean and std\n",
        "                                  ])"
      ],
      "execution_count": 3,
      "outputs": []
    },
    {
      "cell_type": "markdown",
      "metadata": {
        "id": "PkctICa0PReE"
      },
      "source": [
        "## Dataset Cleaning and Train/Test Split"
      ]
    },
    {
      "cell_type": "code",
      "metadata": {
        "id": "1MwqVDPdPJ9S"
      },
      "source": [
        "train = datasets.MNIST('./data',train= True,download= True, transform = train_transforms) # Downloading Train set\n",
        "test = datasets.MNIST('./data',train= False,download= True, transform = test_transforms) # Downloading Test set"
      ],
      "execution_count": 15,
      "outputs": []
    },
    {
      "cell_type": "markdown",
      "metadata": {
        "id": "bMgM30nFQNjA"
      },
      "source": [
        "## CONSTANTS"
      ]
    },
    {
      "cell_type": "code",
      "metadata": {
        "id": "oUx3HlPmQMmH"
      },
      "source": [
        "SEED = 1\n",
        "BATCHSIZE = 128\n",
        "BATCHSIZE_2 = 64\n",
        "NUM_OF_WORKER = 4\n",
        "EPOCHS = 15"
      ],
      "execution_count": 5,
      "outputs": []
    },
    {
      "cell_type": "markdown",
      "metadata": {
        "id": "G7dpXe2LPums"
      },
      "source": [
        "## Data Loading"
      ]
    },
    {
      "cell_type": "code",
      "metadata": {
        "id": "7QEmj4g1Phay",
        "colab": {
          "base_uri": "https://localhost:8080/"
        },
        "outputId": "0b531093-a3e9-4602-dfdb-53912ea00eea"
      },
      "source": [
        "# Checking for CUDA\n",
        "cuda = torch.cuda.is_available()\n",
        "print(\"CUDA Available\",cuda)\n",
        "\n",
        "torch.manual_seed(SEED)\n",
        "if cuda:\n",
        "  torch.cuda.manual_seed(SEED)\n",
        "\n",
        "kwargs = {'shuffle' : True,'batch_size' : BATCHSIZE,'num_workers': 4, 'pin_memory': True} if cuda else {'shuffle' : True,'batch_size' : BATCHSIZE_2}\n",
        "\n",
        "train_loader = torch.utils.data.DataLoader(train, **kwargs) # creating train data loader\n",
        "test_loader = torch.utils.data.DataLoader(test, **kwargs) # creating test dataloader"
      ],
      "execution_count": 17,
      "outputs": [
        {
          "output_type": "stream",
          "name": "stdout",
          "text": [
            "CUDA Available True\n"
          ]
        },
        {
          "output_type": "stream",
          "name": "stderr",
          "text": [
            "/usr/local/lib/python3.10/dist-packages/torch/utils/data/dataloader.py:560: UserWarning: This DataLoader will create 4 worker processes in total. Our suggested max number of worker in current system is 2, which is smaller than what this DataLoader is going to create. Please be aware that excessive worker creation might get DataLoader running slow or even freeze, lower the worker number to avoid potential slowness/freeze if necessary.\n",
            "  warnings.warn(_create_warning_msg(\n"
          ]
        }
      ]
    },
    {
      "cell_type": "markdown",
      "metadata": {
        "id": "u2WAhtOTWXc9"
      },
      "source": [
        "## Model Summary\n"
      ]
    },
    {
      "cell_type": "code",
      "source": [
        "cuda = torch.cuda.is_available()\n",
        "device = torch.device(\"cuda\" if cuda else \"cpu\")\n",
        "model = Model_1().to(device)\n",
        "summary(model,input_size=(1,28,28))"
      ],
      "metadata": {
        "colab": {
          "base_uri": "https://localhost:8080/"
        },
        "id": "nuJmuU9eGv8c",
        "outputId": "65b91633-8c0c-49f7-fb06-6ad758a376f2"
      },
      "execution_count": 20,
      "outputs": [
        {
          "output_type": "stream",
          "name": "stdout",
          "text": [
            "----------------------------------------------------------------\n",
            "        Layer (type)               Output Shape         Param #\n",
            "================================================================\n",
            "            Conv2d-1           [-1, 16, 26, 26]             144\n",
            "       BatchNorm2d-2           [-1, 16, 26, 26]              32\n",
            "            Conv2d-3           [-1, 64, 24, 24]           9,216\n",
            "       BatchNorm2d-4           [-1, 64, 24, 24]             128\n",
            "            Conv2d-5           [-1, 32, 24, 24]           2,048\n",
            "         MaxPool2d-6           [-1, 32, 12, 12]               0\n",
            "            Conv2d-7           [-1, 64, 10, 10]          18,432\n",
            "       BatchNorm2d-8           [-1, 64, 10, 10]             128\n",
            "            Conv2d-9             [-1, 64, 8, 8]          36,864\n",
            "      BatchNorm2d-10             [-1, 64, 8, 8]             128\n",
            "           Conv2d-11             [-1, 64, 6, 6]          36,864\n",
            "      BatchNorm2d-12             [-1, 64, 6, 6]             128\n",
            "        AvgPool2d-13             [-1, 64, 1, 1]               0\n",
            "           Conv2d-14             [-1, 10, 1, 1]             640\n",
            "================================================================\n",
            "Total params: 104,752\n",
            "Trainable params: 104,752\n",
            "Non-trainable params: 0\n",
            "----------------------------------------------------------------\n",
            "Input size (MB): 0.00\n",
            "Forward/backward pass size (MB): 1.10\n",
            "Params size (MB): 0.40\n",
            "Estimated Total Size (MB): 1.50\n",
            "----------------------------------------------------------------\n"
          ]
        }
      ]
    },
    {
      "cell_type": "markdown",
      "metadata": {
        "id": "Zt9h3ejzRlJX"
      },
      "source": [
        "## Model training"
      ]
    },
    {
      "cell_type": "code",
      "metadata": {
        "id": "1tFHIM-siTaR",
        "colab": {
          "base_uri": "https://localhost:8080/"
        },
        "outputId": "6d66c8dc-cbc6-410d-a162-52648afb2f09"
      },
      "source": [
        "model =  Model_1().to(device)\n",
        "optimizer = optim.SGD(model.parameters(), lr=0.01, momentum=0.9)\n",
        "criterion = F.nll_loss\n",
        "num_epochs = 15\n",
        "\n",
        "for epoch in range(1, num_epochs+1):\n",
        "  print(f'Epoch {epoch}')\n",
        "  train(model, device, train_loader, optimizer, criterion)\n",
        "  test(model, device, test_loader, criterion)"
      ],
      "execution_count": 24,
      "outputs": [
        {
          "output_type": "stream",
          "name": "stdout",
          "text": [
            "Epoch 1\n"
          ]
        },
        {
          "output_type": "stream",
          "name": "stderr",
          "text": [
            "Train: Loss=0.0510 Batch_id=468 Accuracy=94.99: 100%|██████████| 469/469 [00:17<00:00, 27.38it/s]\n"
          ]
        },
        {
          "output_type": "stream",
          "name": "stdout",
          "text": [
            "Test set: Average loss: 0.0466, Accuracy: 9886/10000 (98.86%)\n",
            "\n",
            "Epoch 2\n"
          ]
        },
        {
          "output_type": "stream",
          "name": "stderr",
          "text": [
            "Train: Loss=0.0376 Batch_id=468 Accuracy=98.88: 100%|██████████| 469/469 [00:17<00:00, 27.11it/s]\n"
          ]
        },
        {
          "output_type": "stream",
          "name": "stdout",
          "text": [
            "Test set: Average loss: 0.0515, Accuracy: 9854/10000 (98.54%)\n",
            "\n",
            "Epoch 3\n"
          ]
        },
        {
          "output_type": "stream",
          "name": "stderr",
          "text": [
            "Train: Loss=0.0382 Batch_id=468 Accuracy=99.14: 100%|██████████| 469/469 [00:17<00:00, 27.28it/s]\n"
          ]
        },
        {
          "output_type": "stream",
          "name": "stdout",
          "text": [
            "Test set: Average loss: 0.0262, Accuracy: 9934/10000 (99.34%)\n",
            "\n",
            "Epoch 4\n"
          ]
        },
        {
          "output_type": "stream",
          "name": "stderr",
          "text": [
            "Train: Loss=0.0040 Batch_id=468 Accuracy=99.32: 100%|██████████| 469/469 [00:16<00:00, 27.79it/s]\n"
          ]
        },
        {
          "output_type": "stream",
          "name": "stdout",
          "text": [
            "Test set: Average loss: 0.0248, Accuracy: 9930/10000 (99.30%)\n",
            "\n",
            "Epoch 5\n"
          ]
        },
        {
          "output_type": "stream",
          "name": "stderr",
          "text": [
            "Train: Loss=0.0139 Batch_id=468 Accuracy=99.47: 100%|██████████| 469/469 [00:17<00:00, 26.70it/s]\n"
          ]
        },
        {
          "output_type": "stream",
          "name": "stdout",
          "text": [
            "Test set: Average loss: 0.0227, Accuracy: 9932/10000 (99.32%)\n",
            "\n",
            "Epoch 6\n"
          ]
        },
        {
          "output_type": "stream",
          "name": "stderr",
          "text": [
            "Train: Loss=0.0171 Batch_id=468 Accuracy=99.58: 100%|██████████| 469/469 [00:16<00:00, 28.00it/s]\n"
          ]
        },
        {
          "output_type": "stream",
          "name": "stdout",
          "text": [
            "Test set: Average loss: 0.0200, Accuracy: 9936/10000 (99.36%)\n",
            "\n",
            "Epoch 7\n"
          ]
        },
        {
          "output_type": "stream",
          "name": "stderr",
          "text": [
            "Train: Loss=0.0031 Batch_id=468 Accuracy=99.63: 100%|██████████| 469/469 [00:18<00:00, 25.78it/s]\n"
          ]
        },
        {
          "output_type": "stream",
          "name": "stdout",
          "text": [
            "Test set: Average loss: 0.0180, Accuracy: 9943/10000 (99.43%)\n",
            "\n",
            "Epoch 8\n"
          ]
        },
        {
          "output_type": "stream",
          "name": "stderr",
          "text": [
            "Train: Loss=0.0079 Batch_id=468 Accuracy=99.71: 100%|██████████| 469/469 [00:17<00:00, 26.92it/s]\n"
          ]
        },
        {
          "output_type": "stream",
          "name": "stdout",
          "text": [
            "Test set: Average loss: 0.0214, Accuracy: 9934/10000 (99.34%)\n",
            "\n",
            "Epoch 9\n"
          ]
        },
        {
          "output_type": "stream",
          "name": "stderr",
          "text": [
            "Train: Loss=0.0097 Batch_id=468 Accuracy=99.80: 100%|██████████| 469/469 [00:18<00:00, 25.44it/s]\n"
          ]
        },
        {
          "output_type": "stream",
          "name": "stdout",
          "text": [
            "Test set: Average loss: 0.0209, Accuracy: 9938/10000 (99.38%)\n",
            "\n",
            "Epoch 10\n"
          ]
        },
        {
          "output_type": "stream",
          "name": "stderr",
          "text": [
            "Train: Loss=0.0061 Batch_id=468 Accuracy=99.85: 100%|██████████| 469/469 [00:18<00:00, 25.99it/s]\n"
          ]
        },
        {
          "output_type": "stream",
          "name": "stdout",
          "text": [
            "Test set: Average loss: 0.0180, Accuracy: 9951/10000 (99.51%)\n",
            "\n",
            "Epoch 11\n"
          ]
        },
        {
          "output_type": "stream",
          "name": "stderr",
          "text": [
            "Train: Loss=0.0067 Batch_id=468 Accuracy=99.86: 100%|██████████| 469/469 [00:19<00:00, 24.40it/s]\n"
          ]
        },
        {
          "output_type": "stream",
          "name": "stdout",
          "text": [
            "Test set: Average loss: 0.0178, Accuracy: 9941/10000 (99.41%)\n",
            "\n",
            "Epoch 12\n"
          ]
        },
        {
          "output_type": "stream",
          "name": "stderr",
          "text": [
            "Train: Loss=0.0008 Batch_id=468 Accuracy=99.89: 100%|██████████| 469/469 [00:17<00:00, 26.29it/s]\n"
          ]
        },
        {
          "output_type": "stream",
          "name": "stdout",
          "text": [
            "Test set: Average loss: 0.0167, Accuracy: 9944/10000 (99.44%)\n",
            "\n",
            "Epoch 13\n"
          ]
        },
        {
          "output_type": "stream",
          "name": "stderr",
          "text": [
            "Train: Loss=0.0027 Batch_id=468 Accuracy=99.92: 100%|██████████| 469/469 [00:18<00:00, 25.44it/s]\n"
          ]
        },
        {
          "output_type": "stream",
          "name": "stdout",
          "text": [
            "Test set: Average loss: 0.0156, Accuracy: 9948/10000 (99.48%)\n",
            "\n",
            "Epoch 14\n"
          ]
        },
        {
          "output_type": "stream",
          "name": "stderr",
          "text": [
            "Train: Loss=0.0025 Batch_id=468 Accuracy=99.95: 100%|██████████| 469/469 [00:19<00:00, 23.45it/s]\n"
          ]
        },
        {
          "output_type": "stream",
          "name": "stdout",
          "text": [
            "Test set: Average loss: 0.0176, Accuracy: 9940/10000 (99.40%)\n",
            "\n",
            "Epoch 15\n"
          ]
        },
        {
          "output_type": "stream",
          "name": "stderr",
          "text": [
            "Train: Loss=0.0015 Batch_id=468 Accuracy=99.96: 100%|██████████| 469/469 [00:17<00:00, 27.05it/s]\n"
          ]
        },
        {
          "output_type": "stream",
          "name": "stdout",
          "text": [
            "Test set: Average loss: 0.0170, Accuracy: 9945/10000 (99.45%)\n",
            "\n"
          ]
        }
      ]
    },
    {
      "cell_type": "code",
      "metadata": {
        "id": "0PZeGEuRbB2D",
        "colab": {
          "base_uri": "https://localhost:8080/",
          "height": 871
        },
        "outputId": "dc202acf-4ac0-4d44-da2f-f8c10b56e5e5"
      },
      "source": [
        "fig, axs = plt.subplots(2,2,figsize=(15,10))\n",
        "axs[0, 0].plot(train_losses)\n",
        "axs[0, 0].set_title(\"Training Loss\")\n",
        "axs[1, 0].plot(train_acc)\n",
        "axs[1, 0].set_title(\"Training Accuracy\")\n",
        "axs[0, 1].plot(test_losses)\n",
        "axs[0, 1].set_title(\"Test Loss\")\n",
        "axs[1, 1].plot(test_acc)\n",
        "axs[1, 1].set_title(\"Test Accuracy\")"
      ],
      "execution_count": 25,
      "outputs": [
        {
          "output_type": "execute_result",
          "data": {
            "text/plain": [
              "Text(0.5, 1.0, 'Test Accuracy')"
            ]
          },
          "metadata": {},
          "execution_count": 25
        },
        {
          "output_type": "display_data",
          "data": {
            "text/plain": [
              "<Figure size 1500x1000 with 4 Axes>"
            ],
            "image/png": "[encoded data removed]"
          },
          "metadata": {}
        }
      ]
    },
    {
      "cell_type": "code",
      "metadata": {
        "id": "tvKgA6NDjffj",
        "colab": {
          "base_uri": "https://localhost:8080/"
        },
        "outputId": "4ffbc58e-3abc-4bce-dee1-e7db9ee19eda"
      },
      "source": [
        "print(f'Training Accuracy : {max(train_acc)}')\n",
        "print(f'Test Accuracy:{max(test_acc)}')"
      ],
      "execution_count": 30,
      "outputs": [
        {
          "output_type": "stream",
          "name": "stdout",
          "text": [
            "Training Accuracy : 99.96333333333334\n",
            "Test Accuracy:99.51\n"
          ]
        }
      ]
    },
    {
      "cell_type": "markdown",
      "source": [
        "## Results :\n",
        "\n",
        "* Model : Model_1\n",
        "* Targets: Consistent 99.4% Test accuracy , Less than 8k Parameters\n",
        "* Results:\n",
        "    - Training Accuracy : 99.96\n",
        "    - Test Accuracy : 99.51\n",
        "    - Parameters : 104,762\n",
        "\n",
        "### Analysis:\n",
        "* Model Overfits after 7 epoch.\n",
        "* Scope to reduce parameters and add dropout layer to regulate overfit.\n",
        "* Model reached best test accuracy at 10th epoch."
      ],
      "metadata": {
        "id": "XGDrBfBJMypz"
      }
    }
  ]
}
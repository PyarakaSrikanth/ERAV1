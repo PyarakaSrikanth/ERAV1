{
  "nbformat": 4,
  "nbformat_minor": 0,
  "metadata": {
    "colab": {
      "provenance": []
    },
    "kernelspec": {
      "name": "python3",
      "display_name": "Python 3"
    },
    "accelerator": "GPU"
  },
  "cells": [
    {
      "cell_type": "markdown",
      "metadata": {
        "id": "8fjxXU20NKEW"
      },
      "source": [
        "# Model Version 3\n",
        "\n",
        "Objective : Reduce Overfitting and Apply RandomRotation to improve accuracy"
      ]
    },
    {
      "cell_type": "markdown",
      "metadata": {
        "id": "HYuuJQm7NFQr"
      },
      "source": [
        "## Importing Libraries\n",
        "\n"
      ]
    },
    {
      "cell_type": "code",
      "metadata": {
        "id": "ZpuLN2ULMV5l"
      },
      "source": [
        "import torch\n",
        "import torch.nn as nn # All NN Layers\n",
        "import torch.nn.functional as F # to get loss fucnction\n",
        "import torch.optim as optim # Optimizer Fucntion\n",
        "from torchvision import datasets, transforms #Loading Dataset and transform function to perform transformation\n",
        "from torchsummary import summary # To view summary\n",
        "%matplotlib inline\n",
        "import matplotlib.pyplot as plt # To plot graphs\n",
        "from torch.optim.lr_scheduler import StepLR,OneCycleLR, ReduceLROnPlateau\n",
        "from tqdm import tqdm\n",
        "from model import Model_3 # model.py\n",
        "from utils import *\n",
        "from torch.utils.data import DataLoader, Dataset\n",
        "\n"
      ],
      "execution_count": 8,
      "outputs": []
    },
    {
      "cell_type": "markdown",
      "metadata": {
        "id": "maL35NB8OF_2"
      },
      "source": [
        "## Data Transformation\n",
        "\n",
        "We first start with defining our data transformations. We need to think what our data is and how can we augment it to correct represent images which it might not see otherwise."
      ]
    },
    {
      "cell_type": "code",
      "metadata": {
        "id": "_dbYptsbNcb7"
      },
      "source": [
        "# Train Phase transformations\n",
        "train_transforms = transforms.Compose([\n",
        "                                       transforms.RandomRotation(fill=(0,),degrees=(-5,5)),\n",
        "                                       transforms.ToTensor(), # Converting to Tensor\n",
        "                                       transforms.Normalize((0.1307,),(0.3081,)) # Normalizing the dataset with the mean and std\n",
        "                                      ])\n",
        "\n",
        "# Test Phase transformations\n",
        "test_transforms = transforms.Compose([\n",
        "                                    transforms.ToTensor(), # Converting to Tensor\n",
        "                                    transforms.Normalize((0.1307,),(0.3081,))  # Normalizing the dataset using mean and std\n",
        "                                  ])"
      ],
      "execution_count": 2,
      "outputs": []
    },
    {
      "cell_type": "markdown",
      "metadata": {
        "id": "PkctICa0PReE"
      },
      "source": [
        "## Dataset Cleaning and Train/Test Split"
      ]
    },
    {
      "cell_type": "code",
      "metadata": {
        "id": "1MwqVDPdPJ9S",
        "colab": {
          "base_uri": "https://localhost:8080/"
        },
        "outputId": "1b8701ba-2899-4078-be6a-6ddd06403d57"
      },
      "source": [
        "train = datasets.MNIST('./data',train= True,download= True, transform = train_transforms) # Downloading Train set\n",
        "test = datasets.MNIST('./data',train= False,download= True, transform = test_transforms) # Downloading Test set"
      ],
      "execution_count": 3,
      "outputs": [
        {
          "output_type": "stream",
          "name": "stdout",
          "text": [
            "Downloading http://yann.lecun.com/exdb/mnist/train-images-idx3-ubyte.gz\n",
            "Downloading http://yann.lecun.com/exdb/mnist/train-images-idx3-ubyte.gz to ./data/MNIST/raw/train-images-idx3-ubyte.gz\n"
          ]
        },
        {
          "output_type": "stream",
          "name": "stderr",
          "text": [
            "100%|██████████| 9912422/9912422 [00:00<00:00, 468474554.01it/s]"
          ]
        },
        {
          "output_type": "stream",
          "name": "stdout",
          "text": [
            "Extracting ./data/MNIST/raw/train-images-idx3-ubyte.gz to ./data/MNIST/raw\n"
          ]
        },
        {
          "output_type": "stream",
          "name": "stderr",
          "text": [
            "\n"
          ]
        },
        {
          "output_type": "stream",
          "name": "stdout",
          "text": [
            "\n",
            "Downloading http://yann.lecun.com/exdb/mnist/train-labels-idx1-ubyte.gz\n",
            "Downloading http://yann.lecun.com/exdb/mnist/train-labels-idx1-ubyte.gz to ./data/MNIST/raw/train-labels-idx1-ubyte.gz\n"
          ]
        },
        {
          "output_type": "stream",
          "name": "stderr",
          "text": [
            "100%|██████████| 28881/28881 [00:00<00:00, 113529235.07it/s]\n"
          ]
        },
        {
          "output_type": "stream",
          "name": "stdout",
          "text": [
            "Extracting ./data/MNIST/raw/train-labels-idx1-ubyte.gz to ./data/MNIST/raw\n",
            "\n",
            "Downloading http://yann.lecun.com/exdb/mnist/t10k-images-idx3-ubyte.gz\n",
            "Downloading http://yann.lecun.com/exdb/mnist/t10k-images-idx3-ubyte.gz to ./data/MNIST/raw/t10k-images-idx3-ubyte.gz\n"
          ]
        },
        {
          "output_type": "stream",
          "name": "stderr",
          "text": [
            "100%|██████████| 1648877/1648877 [00:00<00:00, 93919976.60it/s]\n"
          ]
        },
        {
          "output_type": "stream",
          "name": "stdout",
          "text": [
            "Extracting ./data/MNIST/raw/t10k-images-idx3-ubyte.gz to ./data/MNIST/raw\n",
            "\n",
            "Downloading http://yann.lecun.com/exdb/mnist/t10k-labels-idx1-ubyte.gz\n",
            "Downloading http://yann.lecun.com/exdb/mnist/t10k-labels-idx1-ubyte.gz to ./data/MNIST/raw/t10k-labels-idx1-ubyte.gz\n"
          ]
        },
        {
          "output_type": "stream",
          "name": "stderr",
          "text": [
            "100%|██████████| 4542/4542 [00:00<00:00, 27176217.93it/s]\n"
          ]
        },
        {
          "output_type": "stream",
          "name": "stdout",
          "text": [
            "Extracting ./data/MNIST/raw/t10k-labels-idx1-ubyte.gz to ./data/MNIST/raw\n",
            "\n"
          ]
        }
      ]
    },
    {
      "cell_type": "markdown",
      "metadata": {
        "id": "bMgM30nFQNjA"
      },
      "source": [
        "## CONSTANTS"
      ]
    },
    {
      "cell_type": "code",
      "metadata": {
        "id": "oUx3HlPmQMmH"
      },
      "source": [
        "SEED = 1\n",
        "BATCHSIZE = 128\n",
        "BATCHSIZE_2 = 64\n",
        "NUM_OF_WORKER = 4\n",
        "EPOCHS = 15"
      ],
      "execution_count": 4,
      "outputs": []
    },
    {
      "cell_type": "markdown",
      "metadata": {
        "id": "G7dpXe2LPums"
      },
      "source": [
        "## Data Loading"
      ]
    },
    {
      "cell_type": "code",
      "metadata": {
        "id": "7QEmj4g1Phay",
        "colab": {
          "base_uri": "https://localhost:8080/"
        },
        "outputId": "7ecffebb-2874-45e5-f242-b549f74b4540"
      },
      "source": [
        "# Checking for CUDA\n",
        "cuda = torch.cuda.is_available()\n",
        "print(\"CUDA Available\",cuda)\n",
        "\n",
        "torch.manual_seed(SEED)\n",
        "if cuda:\n",
        "  torch.cuda.manual_seed(SEED)\n",
        "\n",
        "kwargs = {'shuffle' : True,'batch_size' : BATCHSIZE,'num_workers': 4, 'pin_memory': True} if cuda else {'shuffle' : True,'batch_size' : BATCHSIZE_2}\n",
        "\n",
        "train_loader = torch.utils.data.DataLoader(train, **kwargs) # creating train data loader\n",
        "test_loader = torch.utils.data.DataLoader(test, **kwargs) # creating test dataloader"
      ],
      "execution_count": 5,
      "outputs": [
        {
          "output_type": "stream",
          "name": "stdout",
          "text": [
            "CUDA Available True\n"
          ]
        },
        {
          "output_type": "stream",
          "name": "stderr",
          "text": [
            "/usr/local/lib/python3.10/dist-packages/torch/utils/data/dataloader.py:560: UserWarning: This DataLoader will create 4 worker processes in total. Our suggested max number of worker in current system is 2, which is smaller than what this DataLoader is going to create. Please be aware that excessive worker creation might get DataLoader running slow or even freeze, lower the worker number to avoid potential slowness/freeze if necessary.\n",
            "  warnings.warn(_create_warning_msg(\n"
          ]
        }
      ]
    },
    {
      "cell_type": "markdown",
      "metadata": {
        "id": "u2WAhtOTWXc9"
      },
      "source": [
        "## Model Summary\n"
      ]
    },
    {
      "cell_type": "code",
      "source": [
        "cuda = torch.cuda.is_available()\n",
        "device = torch.device(\"cuda\" if cuda else \"cpu\")\n",
        "model = Model_3().to(device)\n",
        "summary(model,input_size=(1,28,28))"
      ],
      "metadata": {
        "colab": {
          "base_uri": "https://localhost:8080/"
        },
        "id": "nuJmuU9eGv8c",
        "outputId": "5828c37c-08fa-4dc4-8d58-5b2620b7a20c"
      },
      "execution_count": 6,
      "outputs": [
        {
          "output_type": "stream",
          "name": "stdout",
          "text": [
            "----------------------------------------------------------------\n",
            "        Layer (type)               Output Shape         Param #\n",
            "================================================================\n",
            "            Conv2d-1            [-1, 9, 26, 26]              81\n",
            "       BatchNorm2d-2            [-1, 9, 26, 26]              18\n",
            "         Dropout2d-3            [-1, 9, 26, 26]               0\n",
            "            Conv2d-4           [-1, 18, 24, 24]           1,458\n",
            "       BatchNorm2d-5           [-1, 18, 24, 24]              36\n",
            "         Dropout2d-6           [-1, 18, 24, 24]               0\n",
            "            Conv2d-7           [-1, 12, 24, 24]             216\n",
            "         MaxPool2d-8           [-1, 12, 12, 12]               0\n",
            "            Conv2d-9           [-1, 18, 10, 10]           1,944\n",
            "      BatchNorm2d-10           [-1, 18, 10, 10]              36\n",
            "        Dropout2d-11           [-1, 18, 10, 10]               0\n",
            "           Conv2d-12             [-1, 18, 8, 8]           2,916\n",
            "      BatchNorm2d-13             [-1, 18, 8, 8]              36\n",
            "        Dropout2d-14             [-1, 18, 8, 8]               0\n",
            "           Conv2d-15             [-1, 18, 6, 6]           2,916\n",
            "      BatchNorm2d-16             [-1, 18, 6, 6]              36\n",
            "        Dropout2d-17             [-1, 18, 6, 6]               0\n",
            "        AvgPool2d-18             [-1, 18, 1, 1]               0\n",
            "           Conv2d-19             [-1, 10, 1, 1]             180\n",
            "================================================================\n",
            "Total params: 9,873\n",
            "Trainable params: 9,873\n",
            "Non-trainable params: 0\n",
            "----------------------------------------------------------------\n",
            "Input size (MB): 0.00\n",
            "Forward/backward pass size (MB): 0.53\n",
            "Params size (MB): 0.04\n",
            "Estimated Total Size (MB): 0.57\n",
            "----------------------------------------------------------------\n"
          ]
        }
      ]
    },
    {
      "cell_type": "markdown",
      "metadata": {
        "id": "Zt9h3ejzRlJX"
      },
      "source": [
        "## Model training"
      ]
    },
    {
      "cell_type": "code",
      "metadata": {
        "id": "1tFHIM-siTaR",
        "colab": {
          "base_uri": "https://localhost:8080/"
        },
        "outputId": "e21970d7-34c0-41fb-8613-f66109978119"
      },
      "source": [
        "model =  Model_3().to(device)\n",
        "optimizer = optim.SGD(model.parameters(), lr=0.01, momentum=0.9)\n",
        "criterion = F.nll_loss\n",
        "num_epochs = 15\n",
        "\n",
        "for epoch in range(1, num_epochs+1):\n",
        "  print(f'Epoch {epoch}')\n",
        "  train(model, device, train_loader, optimizer, criterion)\n",
        "  test(model, device, test_loader, criterion)"
      ],
      "execution_count": 9,
      "outputs": [
        {
          "output_type": "stream",
          "name": "stdout",
          "text": [
            "Epoch 1\n"
          ]
        },
        {
          "output_type": "stream",
          "name": "stderr",
          "text": [
            "\r  0%|          | 0/469 [00:00<?, ?it/s]/usr/local/lib/python3.10/dist-packages/torch/utils/data/dataloader.py:560: UserWarning: This DataLoader will create 4 worker processes in total. Our suggested max number of worker in current system is 2, which is smaller than what this DataLoader is going to create. Please be aware that excessive worker creation might get DataLoader running slow or even freeze, lower the worker number to avoid potential slowness/freeze if necessary.\n",
            "  warnings.warn(_create_warning_msg(\n",
            "Train: Loss=0.1731 Batch_id=468 Accuracy=84.28: 100%|██████████| 469/469 [00:21<00:00, 21.34it/s]\n"
          ]
        },
        {
          "output_type": "stream",
          "name": "stdout",
          "text": [
            "Test set: Average loss: 0.0980, Accuracy: 9749/10000 (97.49%)\n",
            "\n",
            "Epoch 2\n"
          ]
        },
        {
          "output_type": "stream",
          "name": "stderr",
          "text": [
            "Train: Loss=0.1307 Batch_id=468 Accuracy=95.72: 100%|██████████| 469/469 [00:22<00:00, 20.77it/s]\n"
          ]
        },
        {
          "output_type": "stream",
          "name": "stdout",
          "text": [
            "Test set: Average loss: 0.0552, Accuracy: 9850/10000 (98.50%)\n",
            "\n",
            "Epoch 3\n"
          ]
        },
        {
          "output_type": "stream",
          "name": "stderr",
          "text": [
            "Train: Loss=0.0317 Batch_id=468 Accuracy=96.75: 100%|██████████| 469/469 [00:22<00:00, 20.48it/s]\n"
          ]
        },
        {
          "output_type": "stream",
          "name": "stdout",
          "text": [
            "Test set: Average loss: 0.0445, Accuracy: 9864/10000 (98.64%)\n",
            "\n",
            "Epoch 4\n"
          ]
        },
        {
          "output_type": "stream",
          "name": "stderr",
          "text": [
            "Train: Loss=0.1146 Batch_id=468 Accuracy=97.26: 100%|██████████| 469/469 [00:22<00:00, 20.53it/s]\n"
          ]
        },
        {
          "output_type": "stream",
          "name": "stdout",
          "text": [
            "Test set: Average loss: 0.0436, Accuracy: 9865/10000 (98.65%)\n",
            "\n",
            "Epoch 5\n"
          ]
        },
        {
          "output_type": "stream",
          "name": "stderr",
          "text": [
            "Train: Loss=0.0421 Batch_id=468 Accuracy=97.55: 100%|██████████| 469/469 [00:24<00:00, 19.32it/s]\n"
          ]
        },
        {
          "output_type": "stream",
          "name": "stdout",
          "text": [
            "Test set: Average loss: 0.0334, Accuracy: 9895/10000 (98.95%)\n",
            "\n",
            "Epoch 6\n"
          ]
        },
        {
          "output_type": "stream",
          "name": "stderr",
          "text": [
            "Train: Loss=0.0360 Batch_id=468 Accuracy=97.65: 100%|██████████| 469/469 [00:22<00:00, 20.47it/s]\n"
          ]
        },
        {
          "output_type": "stream",
          "name": "stdout",
          "text": [
            "Test set: Average loss: 0.0319, Accuracy: 9894/10000 (98.94%)\n",
            "\n",
            "Epoch 7\n"
          ]
        },
        {
          "output_type": "stream",
          "name": "stderr",
          "text": [
            "Train: Loss=0.0220 Batch_id=468 Accuracy=97.86: 100%|██████████| 469/469 [00:22<00:00, 20.52it/s]\n"
          ]
        },
        {
          "output_type": "stream",
          "name": "stdout",
          "text": [
            "Test set: Average loss: 0.0319, Accuracy: 9896/10000 (98.96%)\n",
            "\n",
            "Epoch 8\n"
          ]
        },
        {
          "output_type": "stream",
          "name": "stderr",
          "text": [
            "Train: Loss=0.0450 Batch_id=468 Accuracy=97.98: 100%|██████████| 469/469 [00:22<00:00, 20.98it/s]\n"
          ]
        },
        {
          "output_type": "stream",
          "name": "stdout",
          "text": [
            "Test set: Average loss: 0.0286, Accuracy: 9915/10000 (99.15%)\n",
            "\n",
            "Epoch 9\n"
          ]
        },
        {
          "output_type": "stream",
          "name": "stderr",
          "text": [
            "Train: Loss=0.0737 Batch_id=468 Accuracy=98.01: 100%|██████████| 469/469 [00:21<00:00, 21.79it/s]\n"
          ]
        },
        {
          "output_type": "stream",
          "name": "stdout",
          "text": [
            "Test set: Average loss: 0.0276, Accuracy: 9915/10000 (99.15%)\n",
            "\n",
            "Epoch 10\n"
          ]
        },
        {
          "output_type": "stream",
          "name": "stderr",
          "text": [
            "Train: Loss=0.0437 Batch_id=468 Accuracy=98.13: 100%|██████████| 469/469 [00:21<00:00, 21.59it/s]\n"
          ]
        },
        {
          "output_type": "stream",
          "name": "stdout",
          "text": [
            "Test set: Average loss: 0.0257, Accuracy: 9917/10000 (99.17%)\n",
            "\n",
            "Epoch 11\n"
          ]
        },
        {
          "output_type": "stream",
          "name": "stderr",
          "text": [
            "Train: Loss=0.0421 Batch_id=468 Accuracy=98.18: 100%|██████████| 469/469 [00:23<00:00, 19.87it/s]\n"
          ]
        },
        {
          "output_type": "stream",
          "name": "stdout",
          "text": [
            "Test set: Average loss: 0.0256, Accuracy: 9923/10000 (99.23%)\n",
            "\n",
            "Epoch 12\n"
          ]
        },
        {
          "output_type": "stream",
          "name": "stderr",
          "text": [
            "Train: Loss=0.0239 Batch_id=468 Accuracy=98.28: 100%|██████████| 469/469 [00:22<00:00, 20.55it/s]\n"
          ]
        },
        {
          "output_type": "stream",
          "name": "stdout",
          "text": [
            "Test set: Average loss: 0.0230, Accuracy: 9926/10000 (99.26%)\n",
            "\n",
            "Epoch 13\n"
          ]
        },
        {
          "output_type": "stream",
          "name": "stderr",
          "text": [
            "Train: Loss=0.0608 Batch_id=468 Accuracy=98.28: 100%|██████████| 469/469 [00:22<00:00, 20.60it/s]\n"
          ]
        },
        {
          "output_type": "stream",
          "name": "stdout",
          "text": [
            "Test set: Average loss: 0.0230, Accuracy: 9919/10000 (99.19%)\n",
            "\n",
            "Epoch 14\n"
          ]
        },
        {
          "output_type": "stream",
          "name": "stderr",
          "text": [
            "Train: Loss=0.0919 Batch_id=468 Accuracy=98.35: 100%|██████████| 469/469 [00:23<00:00, 20.35it/s]\n"
          ]
        },
        {
          "output_type": "stream",
          "name": "stdout",
          "text": [
            "Test set: Average loss: 0.0226, Accuracy: 9930/10000 (99.30%)\n",
            "\n",
            "Epoch 15\n"
          ]
        },
        {
          "output_type": "stream",
          "name": "stderr",
          "text": [
            "Train: Loss=0.0921 Batch_id=468 Accuracy=98.39: 100%|██████████| 469/469 [00:22<00:00, 20.46it/s]\n"
          ]
        },
        {
          "output_type": "stream",
          "name": "stdout",
          "text": [
            "Test set: Average loss: 0.0211, Accuracy: 9936/10000 (99.36%)\n",
            "\n"
          ]
        }
      ]
    },
    {
      "cell_type": "code",
      "metadata": {
        "id": "0PZeGEuRbB2D",
        "colab": {
          "base_uri": "https://localhost:8080/",
          "height": 871
        },
        "outputId": "c28b3595-6ed7-4c55-a15f-31930ac59484"
      },
      "source": [
        "fig, axs = plt.subplots(2,2,figsize=(15,10))\n",
        "axs[0, 0].plot(train_losses)\n",
        "axs[0, 0].set_title(\"Training Loss\")\n",
        "axs[1, 0].plot(train_acc)\n",
        "axs[1, 0].set_title(\"Training Accuracy\")\n",
        "axs[0, 1].plot(test_losses)\n",
        "axs[0, 1].set_title(\"Test Loss\")\n",
        "axs[1, 1].plot(test_acc)\n",
        "axs[1, 1].set_title(\"Test Accuracy\")"
      ],
      "execution_count": 10,
      "outputs": [
        {
          "output_type": "execute_result",
          "data": {
            "text/plain": [
              "Text(0.5, 1.0, 'Test Accuracy')"
            ]
          },
          "metadata": {},
          "execution_count": 10
        },
        {
          "output_type": "display_data",
          "data": {
            "text/plain": [
              "<Figure size 1500x1000 with 4 Axes>"
            ],
            "image/png": "[encoded data removed]"
          },
          "metadata": {}
        }
      ]
    },
    {
      "cell_type": "code",
      "metadata": {
        "id": "tvKgA6NDjffj",
        "colab": {
          "base_uri": "https://localhost:8080/"
        },
        "outputId": "9799bfc0-f8b7-463a-b63e-dc11b4ecc4e1"
      },
      "source": [
        "print(f'Training Accuracy : {max(train_acc)}')\n",
        "print(f'Test Accuracy:{max(test_acc)}')"
      ],
      "execution_count": 11,
      "outputs": [
        {
          "output_type": "stream",
          "name": "stdout",
          "text": [
            "Training Accuracy : 98.395\n",
            "Test Accuracy:99.36\n"
          ]
        }
      ]
    },
    {
      "cell_type": "markdown",
      "source": [
        "## Results :\n",
        "\n",
        "* Model : Model_3\n",
        "* Targets: Handle Overfitting and Improve Accuracy\n",
        "* Results:\n",
        "    - Training Accuracy : 98.39\n",
        "    - Test Accuracy : 99.36\n",
        "    - Parameters : 9873\n",
        "\n",
        "### Analysis:\n",
        "* Added Dropout layer to Handle Overfitting\n",
        "* Added Transformation (RandomRotation) augmentation\n",
        "* It is evident from Train and Test accuracy that Model is generalizing well not Overfitting\n",
        "* Observed that after 8th Epoch Model may stuck at local Minima. Probably LR schedular to be used to get improve learning."
      ],
      "metadata": {
        "id": "XGDrBfBJMypz"
      }
    }
  ]
}
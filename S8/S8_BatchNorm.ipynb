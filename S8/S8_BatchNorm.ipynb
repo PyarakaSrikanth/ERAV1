{
  "cells": [
    {
      "cell_type": "markdown",
      "metadata": {
        "id": "n09vaEgP6pLj"
      },
      "source": [
        "Mounting Google Drive"
      ]
    },
    {
      "cell_type": "code",
      "execution_count": 1,
      "metadata": {
        "colab": {
          "base_uri": "https://localhost:8080/"
        },
        "id": "acQbDK8q5W8J",
        "outputId": "cbce06a3-a542-4d52-9a92-12d37a3dfe78"
      },
      "outputs": [
        {
          "output_type": "stream",
          "name": "stdout",
          "text": [
            "Looking in indexes: https://pypi.org/simple, https://us-python.pkg.dev/colab-wheels/public/simple/\n",
            "Requirement already satisfied: torchsummary in /usr/local/lib/python3.10/dist-packages (1.5.1)\n"
          ]
        }
      ],
      "source": [
        "\n",
        "!pip install torchsummary"
      ]
    },
    {
      "cell_type": "code",
      "source": [
        "%load_ext autoreload"
      ],
      "metadata": {
        "id": "C2sJiezQKqVD"
      },
      "execution_count": 2,
      "outputs": []
    },
    {
      "cell_type": "markdown",
      "metadata": {
        "id": "KKj6_A7OednD"
      },
      "source": [
        "Importing libraries"
      ]
    },
    {
      "cell_type": "code",
      "execution_count": 3,
      "metadata": {
        "id": "4-Gn4vUAqbhn"
      },
      "outputs": [],
      "source": [
        "import torch\n",
        "import torch.optim as optim\n",
        "from torchvision import datasets, transforms\n",
        "import matplotlib.pyplot as plt\n",
        "\n",
        "import numpy as np\n",
        "\n",
        "from utils import (\n",
        "   test, train, plot_losses, plot_incorrect_prediction\n",
        "\n",
        ")\n",
        "\n",
        "from model import Net\n",
        "from torchsummary import summary\n",
        "\n",
        "from torch.optim.lr_scheduler import StepLR\n",
        "%matplotlib inline"
      ]
    },
    {
      "cell_type": "markdown",
      "metadata": {
        "id": "uEYiEGJufhjT"
      },
      "source": [
        "Defining data tranformations"
      ]
    },
    {
      "cell_type": "code",
      "execution_count": 4,
      "metadata": {
        "id": "Fyf3GzN-r9Zz"
      },
      "outputs": [],
      "source": [
        "train_transforms = transforms.Compose([\n",
        "    transforms.ColorJitter(brightness=0.10, contrast=0.1, saturation=0.10, hue=0.1),\n",
        "    transforms.RandomHorizontalFlip(p=0.3),\n",
        "    transforms.RandomRotation((-10., 10.), fill=1),\n",
        "    transforms.ToTensor(),\n",
        "    transforms.Normalize((0.5, 0.5, 0.5), (0.5, 0.5, 0.5)),\n",
        "    ])\n",
        "test_transforms = transforms.Compose([\n",
        "    transforms.ToTensor(),\n",
        "    transforms.Normalize((0.5, 0.5, 0.5), (0.5, 0.5, 0.5))\n",
        "    ])"
      ]
    },
    {
      "cell_type": "markdown",
      "metadata": {
        "id": "ST8TJshBfmy3"
      },
      "source": [
        "\n",
        "Downloading MNIST dataset and splitting to train and test set"
      ]
    },
    {
      "cell_type": "code",
      "execution_count": 5,
      "metadata": {
        "colab": {
          "base_uri": "https://localhost:8080/"
        },
        "id": "EZ9yOVWor9cT",
        "outputId": "709a8ffd-5585-46f0-da88-9b466738b7a7"
      },
      "outputs": [
        {
          "output_type": "stream",
          "name": "stdout",
          "text": [
            "Files already downloaded and verified\n",
            "Files already downloaded and verified\n"
          ]
        }
      ],
      "source": [
        "train_data = datasets.CIFAR10('../data', train=True, download=True, transform=train_transforms)\n",
        "test_data = datasets.CIFAR10('../data', train=False, download=True, transform=test_transforms)"
      ]
    },
    {
      "cell_type": "code",
      "source": [
        "SEED = 1\n",
        "BATCHSIZE = 128\n",
        "BATCHSIZE_2 = 64\n",
        "NUM_OF_WORKER = 4\n",
        "EPOCHS = 15"
      ],
      "metadata": {
        "id": "gv1fwbtkCDJW"
      },
      "execution_count": 6,
      "outputs": []
    },
    {
      "cell_type": "code",
      "source": [
        "# Checking for CUDA\n",
        "cuda = torch.cuda.is_available()\n",
        "print(\"CUDA Available\",cuda)\n",
        "\n",
        "torch.manual_seed(SEED)\n",
        "if cuda:\n",
        "  torch.cuda.manual_seed(SEED)\n",
        "\n",
        "kwargs = {'shuffle' : True,'batch_size' : BATCHSIZE,'num_workers': 4, 'pin_memory': True} if cuda else {'shuffle' : True,'batch_size' : BATCHSIZE_2}\n",
        "\n",
        "train_loader = torch.utils.data.DataLoader(train_data, **kwargs) # creating train data loader\n",
        "test_loader = torch.utils.data.DataLoader(test_data, **kwargs) # creating test dataloader"
      ],
      "metadata": {
        "colab": {
          "base_uri": "https://localhost:8080/"
        },
        "id": "8itsr_96CEpa",
        "outputId": "b32f7a6d-fa4e-4b6a-b711-fe12aca45da2"
      },
      "execution_count": 7,
      "outputs": [
        {
          "output_type": "stream",
          "name": "stdout",
          "text": [
            "CUDA Available True\n"
          ]
        },
        {
          "output_type": "stream",
          "name": "stderr",
          "text": [
            "/usr/local/lib/python3.10/dist-packages/torch/utils/data/dataloader.py:560: UserWarning: This DataLoader will create 4 worker processes in total. Our suggested max number of worker in current system is 2, which is smaller than what this DataLoader is going to create. Please be aware that excessive worker creation might get DataLoader running slow or even freeze, lower the worker number to avoid potential slowness/freeze if necessary.\n",
            "  warnings.warn(_create_warning_msg(\n"
          ]
        }
      ]
    },
    {
      "cell_type": "code",
      "execution_count": 8,
      "metadata": {
        "id": "byIUQefEfvEC"
      },
      "outputs": [],
      "source": [
        "classes = ['plane', 'car', 'bird', 'cat','deer', 'dog', 'frog', 'horse', 'ship', 'truck']\n"
      ]
    },
    {
      "cell_type": "markdown",
      "metadata": {
        "id": "YOetik29fsPF"
      },
      "source": [
        "Creating Data Loaders from train data and test data"
      ]
    },
    {
      "cell_type": "code",
      "execution_count": 9,
      "metadata": {
        "colab": {
          "base_uri": "https://localhost:8080/",
          "height": 677
        },
        "id": "Hx7QkLcw4Epc",
        "outputId": "ce1dc7de-a514-43cc-a91d-ff985e23771f"
      },
      "outputs": [
        {
          "output_type": "stream",
          "name": "stderr",
          "text": [
            "WARNING:matplotlib.image:Clipping input data to the valid range for imshow with RGB data ([0..1] for floats or [0..255] for integers).\n",
            "WARNING:matplotlib.image:Clipping input data to the valid range for imshow with RGB data ([0..1] for floats or [0..255] for integers).\n",
            "WARNING:matplotlib.image:Clipping input data to the valid range for imshow with RGB data ([0..1] for floats or [0..255] for integers).\n",
            "WARNING:matplotlib.image:Clipping input data to the valid range for imshow with RGB data ([0..1] for floats or [0..255] for integers).\n",
            "WARNING:matplotlib.image:Clipping input data to the valid range for imshow with RGB data ([0..1] for floats or [0..255] for integers).\n",
            "WARNING:matplotlib.image:Clipping input data to the valid range for imshow with RGB data ([0..1] for floats or [0..255] for integers).\n",
            "WARNING:matplotlib.image:Clipping input data to the valid range for imshow with RGB data ([0..1] for floats or [0..255] for integers).\n",
            "WARNING:matplotlib.image:Clipping input data to the valid range for imshow with RGB data ([0..1] for floats or [0..255] for integers).\n",
            "WARNING:matplotlib.image:Clipping input data to the valid range for imshow with RGB data ([0..1] for floats or [0..255] for integers).\n",
            "WARNING:matplotlib.image:Clipping input data to the valid range for imshow with RGB data ([0..1] for floats or [0..255] for integers).\n",
            "WARNING:matplotlib.image:Clipping input data to the valid range for imshow with RGB data ([0..1] for floats or [0..255] for integers).\n",
            "WARNING:matplotlib.image:Clipping input data to the valid range for imshow with RGB data ([0..1] for floats or [0..255] for integers).\n"
          ]
        },
        {
          "output_type": "display_data",
          "data": {
            "text/plain": [
              "<Figure size 640x480 with 12 Axes>"
            ],
            "image/png": "[encoded data removed]"
          },
          "metadata": {}
        }
      ],
      "source": [
        "batch_data, batch_label = next(iter(train_loader))\n",
        "fig = plt.figure()\n",
        "for i in range(12):\n",
        "    plt.subplot(3,4,i+1)\n",
        "    plt.tight_layout()\n",
        "    plt.imshow(np.transpose(batch_data[i], (1, 2, 0)), cmap='gray')\n",
        "    plt.title(classes[batch_label[i].item()])\n",
        "    plt.xticks([])\n",
        "    plt.yticks([])\n",
        "plt.show()"
      ]
    },
    {
      "cell_type": "markdown",
      "metadata": {
        "id": "AIkEMM01gDLg"
      },
      "source": [
        "Transferring model to GPU and printing model summary"
      ]
    },
    {
      "cell_type": "code",
      "source": [
        "cuda = torch.cuda.is_available()\n",
        "device = torch.device(\"cuda\" if cuda else \"cpu\")\n",
        "model = Net(norm=\"BN\").to(device)\n",
        "summary(model, input_size=(3, 32, 32))"
      ],
      "metadata": {
        "colab": {
          "base_uri": "https://localhost:8080/"
        },
        "id": "r47cDTDucquL",
        "outputId": "de3a933a-b6f6-4988-9523-9d989e71788e"
      },
      "execution_count": 11,
      "outputs": [
        {
          "output_type": "stream",
          "name": "stdout",
          "text": [
            "----------------------------------------------------------------\n",
            "        Layer (type)               Output Shape         Param #\n",
            "================================================================\n",
            "            Conv2d-1           [-1, 10, 32, 32]             270\n",
            "       BatchNorm2d-2           [-1, 10, 32, 32]              20\n",
            "         Dropout2d-3           [-1, 10, 32, 32]               0\n",
            "            Conv2d-4           [-1, 10, 32, 32]             900\n",
            "       BatchNorm2d-5           [-1, 10, 32, 32]              20\n",
            "         Dropout2d-6           [-1, 10, 32, 32]               0\n",
            "            Conv2d-7           [-1, 16, 32, 32]             160\n",
            "         MaxPool2d-8           [-1, 16, 16, 16]               0\n",
            "            Conv2d-9           [-1, 24, 16, 16]           3,456\n",
            "      BatchNorm2d-10           [-1, 24, 16, 16]              48\n",
            "        Dropout2d-11           [-1, 24, 16, 16]               0\n",
            "           Conv2d-12           [-1, 16, 16, 16]           3,456\n",
            "      BatchNorm2d-13           [-1, 16, 16, 16]              32\n",
            "        Dropout2d-14           [-1, 16, 16, 16]               0\n",
            "           Conv2d-15           [-1, 32, 16, 16]           4,608\n",
            "      BatchNorm2d-16           [-1, 32, 16, 16]              64\n",
            "        Dropout2d-17           [-1, 32, 16, 16]               0\n",
            "           Conv2d-18           [-1, 16, 16, 16]             512\n",
            "        MaxPool2d-19             [-1, 16, 8, 8]               0\n",
            "           Conv2d-20             [-1, 32, 8, 8]           4,608\n",
            "      BatchNorm2d-21             [-1, 32, 8, 8]              64\n",
            "        Dropout2d-22             [-1, 32, 8, 8]               0\n",
            "           Conv2d-23             [-1, 32, 8, 8]           9,216\n",
            "      BatchNorm2d-24             [-1, 32, 8, 8]              64\n",
            "        Dropout2d-25             [-1, 32, 8, 8]               0\n",
            "           Conv2d-26             [-1, 32, 8, 8]           9,216\n",
            "      BatchNorm2d-27             [-1, 32, 8, 8]              64\n",
            "        Dropout2d-28             [-1, 32, 8, 8]               0\n",
            "        AvgPool2d-29             [-1, 32, 1, 1]               0\n",
            "           Conv2d-30             [-1, 10, 1, 1]             320\n",
            "================================================================\n",
            "Total params: 37,098\n",
            "Trainable params: 37,098\n",
            "Non-trainable params: 0\n",
            "----------------------------------------------------------------\n",
            "Input size (MB): 0.01\n",
            "Forward/backward pass size (MB): 1.23\n",
            "Params size (MB): 0.14\n",
            "Estimated Total Size (MB): 1.38\n",
            "----------------------------------------------------------------\n"
          ]
        }
      ]
    },
    {
      "cell_type": "code",
      "execution_count": null,
      "metadata": {
        "colab": {
          "base_uri": "https://localhost:8080/"
        },
        "id": "SHTcO-7U5W8O",
        "outputId": "8a9c67eb-3f26-43b9-a6e7-e3a23f87439c"
      },
      "outputs": [
        {
          "metadata": {
            "tags": null
          },
          "name": "stdout",
          "output_type": "stream",
          "text": [
            "EPOCH: 0\n"
          ]
        },
        {
          "metadata": {
            "tags": null
          },
          "name": "stderr",
          "output_type": "stream",
          "text": [
            "Train: Loss=1.2561 Batch_id=390 Accuracy=41.28: 100%|██████████| 391/391 [00:45<00:00,  8.63it/s]\n"
          ]
        },
        {
          "metadata": {
            "tags": null
          },
          "name": "stdout",
          "output_type": "stream",
          "text": [
            "Test set: Average loss: 1.3283, Accuracy: 5073/10000 (50.73%)\n",
            "\n",
            "EPOCH: 1\n"
          ]
        },
        {
          "metadata": {
            "tags": null
          },
          "name": "stderr",
          "output_type": "stream",
          "text": [
            "Train: Loss=1.2849 Batch_id=390 Accuracy=54.57: 100%|██████████| 391/391 [00:48<00:00,  8.09it/s]\n"
          ]
        },
        {
          "metadata": {
            "tags": null
          },
          "name": "stdout",
          "output_type": "stream",
          "text": [
            "Test set: Average loss: 1.1224, Accuracy: 5976/10000 (59.76%)\n",
            "\n",
            "EPOCH: 2\n"
          ]
        },
        {
          "metadata": {
            "tags": null
          },
          "name": "stderr",
          "output_type": "stream",
          "text": [
            "Train: Loss=1.0658 Batch_id=390 Accuracy=59.82: 100%|██████████| 391/391 [00:44<00:00,  8.81it/s]\n"
          ]
        },
        {
          "metadata": {
            "tags": null
          },
          "name": "stdout",
          "output_type": "stream",
          "text": [
            "Test set: Average loss: 0.9711, Accuracy: 6518/10000 (65.18%)\n",
            "\n",
            "EPOCH: 3\n"
          ]
        },
        {
          "output_type": "stream",
          "name": "stderr",
          "text": [
            "Train: Loss=1.0777 Batch_id=390 Accuracy=63.25: 100%|██████████| 391/391 [00:43<00:00,  8.91it/s]\n"
          ]
        },
        {
          "output_type": "stream",
          "name": "stdout",
          "text": [
            "Test set: Average loss: 0.9428, Accuracy: 6633/10000 (66.33%)\n",
            "\n",
            "EPOCH: 4\n"
          ]
        },
        {
          "output_type": "stream",
          "name": "stderr",
          "text": [
            "Train: Loss=0.9964 Batch_id=150 Accuracy=65.07:  38%|███▊      | 150/391 [00:17<00:28,  8.60it/s]"
          ]
        }
      ],
      "source": [
        "model =  Net(norm='BN').to(device)\n",
        "optimizer = optim.SGD(model.parameters(), lr=0.01, momentum=0.9)\n",
        "EPOCHS = 20\n",
        "for epoch in range(EPOCHS):\n",
        "    print(\"EPOCH:\", epoch)\n",
        "    train(model, device, train_loader, optimizer)\n",
        "    test(model, device, test_loader)"
      ]
    },
    {
      "cell_type": "code",
      "execution_count": null,
      "metadata": {
        "id": "Wu0l7dli4eC9"
      },
      "outputs": [],
      "source": [
        "plot_losses()"
      ]
    },
    {
      "cell_type": "code",
      "source": [
        "torch.save(model.state_dict(), 'model_bn.pth')"
      ],
      "metadata": {
        "id": "sjgET8_yLBy-"
      },
      "execution_count": 12,
      "outputs": []
    },
    {
      "cell_type": "code",
      "source": [
        "model1 = Net(norm=\"BN\").to(device)\n",
        "model1.load_state_dict(torch.load('model_bn.pth'))"
      ],
      "metadata": {
        "colab": {
          "base_uri": "https://localhost:8080/"
        },
        "id": "lsI2D_oTLfnN",
        "outputId": "89bdbb40-d73d-4087-b644-1c9cd0081528"
      },
      "execution_count": 13,
      "outputs": [
        {
          "output_type": "execute_result",
          "data": {
            "text/plain": [
              "<All keys matched successfully>"
            ]
          },
          "metadata": {},
          "execution_count": 13
        }
      ]
    },
    {
      "cell_type": "markdown",
      "metadata": {
        "id": "9ElX1g4V4j1m"
      },
      "source": [
        "## Plot Losses"
      ]
    },
    {
      "cell_type": "code",
      "execution_count": 14,
      "metadata": {
        "id": "5c4nuH_whv_t",
        "colab": {
          "base_uri": "https://localhost:8080/",
          "height": 611
        },
        "outputId": "65ddefc3-35e0-441d-a607-b541ba3d5ea7"
      },
      "outputs": [
        {
          "output_type": "stream",
          "name": "stderr",
          "text": [
            "WARNING:matplotlib.image:Clipping input data to the valid range for imshow with RGB data ([0..1] for floats or [0..255] for integers).\n",
            "WARNING:matplotlib.image:Clipping input data to the valid range for imshow with RGB data ([0..1] for floats or [0..255] for integers).\n",
            "WARNING:matplotlib.image:Clipping input data to the valid range for imshow with RGB data ([0..1] for floats or [0..255] for integers).\n",
            "WARNING:matplotlib.image:Clipping input data to the valid range for imshow with RGB data ([0..1] for floats or [0..255] for integers).\n",
            "WARNING:matplotlib.image:Clipping input data to the valid range for imshow with RGB data ([0..1] for floats or [0..255] for integers).\n",
            "WARNING:matplotlib.image:Clipping input data to the valid range for imshow with RGB data ([0..1] for floats or [0..255] for integers).\n",
            "WARNING:matplotlib.image:Clipping input data to the valid range for imshow with RGB data ([0..1] for floats or [0..255] for integers).\n",
            "WARNING:matplotlib.image:Clipping input data to the valid range for imshow with RGB data ([0..1] for floats or [0..255] for integers).\n",
            "WARNING:matplotlib.image:Clipping input data to the valid range for imshow with RGB data ([0..1] for floats or [0..255] for integers).\n",
            "WARNING:matplotlib.image:Clipping input data to the valid range for imshow with RGB data ([0..1] for floats or [0..255] for integers).\n"
          ]
        },
        {
          "output_type": "display_data",
          "data": {
            "text/plain": [
              "<Figure size 1000x500 with 10 Axes>"
            ],
            "image/png": "[encoded data removed]"
          },
          "metadata": {}
        }
      ],
      "source": [
        "wrong_prediction_list = []\n",
        "model1.eval()\n",
        "for images, labels in test_loader:\n",
        "    images, labels = images.to(device), labels.to(device)\n",
        "    output = model1(images)\n",
        "    pred = output.argmax(dim=1, keepdim=True)  # get the index of the maximum probabilities\n",
        "    match = pred.eq(labels.view_as(pred)).to('cpu').numpy()\n",
        "    for j, i in enumerate(match):\n",
        "        if(i == False):\n",
        "            wrong_prediction_list.append((images[j], pred[j].item(), labels[j].item()))\n",
        "plot_incorrect_prediction(wrong_prediction_list, n=10 )"
      ]
    },
    {
      "cell_type": "code",
      "source": [
        "from utils import get_all_predictions, get_incorrrect_predictions, prepare_confusion_matrix\n",
        "from visualize import plot_confusion_matrix\n",
        "\n",
        "all_preds, all_targets = get_all_predictions(model1, test_loader, device)\n",
        "confusion_matrix = prepare_confusion_matrix(all_preds, all_targets, class_map)\n",
        "plot_confusion_matrix(confusion_matrix, class_map, False)"
      ],
      "metadata": {
        "colab": {
          "base_uri": "https://localhost:8080/",
          "height": 383
        },
        "id": "Gkzod0GQI2pD",
        "outputId": "15cba1f3-6182-437c-dcd1-dce67c64fb18"
      },
      "execution_count": 18,
      "outputs": [
        {
          "output_type": "error",
          "ename": "ImportError",
          "evalue": "ignored",
          "traceback": [
            "\u001b[0;31m---------------------------------------------------------------------------\u001b[0m",
            "\u001b[0;31mImportError\u001b[0m                               Traceback (most recent call last)",
            "\u001b[0;32m<ipython-input-18-1757d001d523>\u001b[0m in \u001b[0;36m<cell line: 1>\u001b[0;34m()\u001b[0m\n\u001b[0;32m----> 1\u001b[0;31m \u001b[0;32mfrom\u001b[0m \u001b[0mutils\u001b[0m \u001b[0;32mimport\u001b[0m \u001b[0mget_all_predictions\u001b[0m\u001b[0;34m,\u001b[0m \u001b[0mget_incorrrect_predictions\u001b[0m\u001b[0;34m,\u001b[0m \u001b[0mprepare_confusion_matrix\u001b[0m\u001b[0;34m\u001b[0m\u001b[0;34m\u001b[0m\u001b[0m\n\u001b[0m\u001b[1;32m      2\u001b[0m \u001b[0;32mfrom\u001b[0m \u001b[0mvisualize\u001b[0m \u001b[0;32mimport\u001b[0m \u001b[0mplot_confusion_matrix\u001b[0m\u001b[0;34m\u001b[0m\u001b[0;34m\u001b[0m\u001b[0m\n\u001b[1;32m      3\u001b[0m \u001b[0;34m\u001b[0m\u001b[0m\n\u001b[1;32m      4\u001b[0m \u001b[0mall_preds\u001b[0m\u001b[0;34m,\u001b[0m \u001b[0mall_targets\u001b[0m \u001b[0;34m=\u001b[0m \u001b[0mget_all_predictions\u001b[0m\u001b[0;34m(\u001b[0m\u001b[0mmodel1\u001b[0m\u001b[0;34m,\u001b[0m \u001b[0mtest_loader\u001b[0m\u001b[0;34m,\u001b[0m \u001b[0mdevice\u001b[0m\u001b[0;34m)\u001b[0m\u001b[0;34m\u001b[0m\u001b[0;34m\u001b[0m\u001b[0m\n\u001b[1;32m      5\u001b[0m \u001b[0mconfusion_matrix\u001b[0m \u001b[0;34m=\u001b[0m \u001b[0mprepare_confusion_matrix\u001b[0m\u001b[0;34m(\u001b[0m\u001b[0mall_preds\u001b[0m\u001b[0;34m,\u001b[0m \u001b[0mall_targets\u001b[0m\u001b[0;34m,\u001b[0m \u001b[0mclass_map\u001b[0m\u001b[0;34m)\u001b[0m\u001b[0;34m\u001b[0m\u001b[0;34m\u001b[0m\u001b[0m\n",
            "\u001b[0;31mImportError\u001b[0m: cannot import name 'get_incorrrect_predictions' from 'utils' (/content/utils.py)",
            "",
            "\u001b[0;31m---------------------------------------------------------------------------\u001b[0;32m\nNOTE: If your import is failing due to a missing package, you can\nmanually install dependencies using either !pip or !apt.\n\nTo view examples of installing some common dependencies, click the\n\"Open Examples\" button below.\n\u001b[0;31m---------------------------------------------------------------------------\u001b[0m\n"
          ],
          "errorDetails": {
            "actions": [
              {
                "action": "open_url",
                "actionText": "Open Examples",
                "url": "/notebooks/snippets/importing_libraries.ipynb"
              }
            ]
          }
        }
      ]
    },
    {
      "cell_type": "code",
      "execution_count": null,
      "metadata": {
        "id": "LhW6J39GNlO4"
      },
      "outputs": [],
      "source": []
    }
  ],
  "metadata": {
    "accelerator": "GPU",
    "colab": {
      "gpuType": "T4",
      "provenance": []
    },
    "kernelspec": {
      "display_name": "Python 3",
      "name": "python3"
    },
    "language_info": {
      "codemirror_mode": {
        "name": "ipython",
        "version": 3
      },
      "file_extension": ".py",
      "mimetype": "text/x-python",
      "name": "python",
      "nbconvert_exporter": "python",
      "pygments_lexer": "ipython3",
      "version": "3.9.10"
    }
  },
  "nbformat": 4,
  "nbformat_minor": 0
}
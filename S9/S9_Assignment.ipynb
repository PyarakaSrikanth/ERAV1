{
  "cells": [
    {
      "cell_type": "markdown",
      "metadata": {
        "id": "n09vaEgP6pLj"
      },
      "source": [
        "## S9 - Assignment Objective:\n",
        "\n",
        "1. Write a new network that  architecture to C1C2C3C40 (No MaxPooling, but 3 convolutions, where the last one has a stride of 2 instead) (If you can figure out how to use Dilated kernels here instead of MP or strided convolution, then 200pts extra!)\n",
        "2. Total RF must be more than 44\n",
        "3. one of the layers must use Depthwise Separable Convolution\n",
        "4. one of the layers must use Dilated Convolution\n",
        "5. use GAP (compulsory):- add FC after GAP to target #of classes (optional)\n",
        "6. use albumentation library and apply:\n",
        " * horizontal flip\n",
        " * shiftScaleRotate\n",
        " * coarseDropout (max_holes = 1, max_height=16px, max_width=16, min_holes = 1, min_height=16px, min_width=16px, fill_value=(mean of your dataset), mask_fill_value = None)\n",
        "7. Achieve 85% accuracy, as many epochs as you want. Total Params to be less than 200k.\n",
        "make sure you're following code-modularity (else 0 for full assignment)\n",
        "8. upload to Github\n",
        "\n",
        "-----\n",
        "\n",
        "\n"
      ]
    },
    {
      "cell_type": "code",
      "source": [
        "%load_ext autoreload\n",
        "%autoreload 2"
      ],
      "metadata": {
        "id": "C2sJiezQKqVD"
      },
      "execution_count": 1,
      "outputs": []
    },
    {
      "cell_type": "code",
      "execution_count": 2,
      "metadata": {
        "colab": {
          "base_uri": "https://localhost:8080/"
        },
        "id": "acQbDK8q5W8J",
        "outputId": "e9f78e1f-d05a-4e43-df8f-f177e521fb6c"
      },
      "outputs": [
        {
          "output_type": "stream",
          "name": "stdout",
          "text": [
            "Requirement already satisfied: torchsummary in /usr/local/lib/python3.10/dist-packages (1.5.1)\n",
            "Requirement already satisfied: albumentations in /usr/local/lib/python3.10/dist-packages (1.2.1)\n",
            "Requirement already satisfied: numpy>=1.11.1 in /usr/local/lib/python3.10/dist-packages (from albumentations) (1.22.4)\n",
            "Requirement already satisfied: scipy in /usr/local/lib/python3.10/dist-packages (from albumentations) (1.10.1)\n",
            "Requirement already satisfied: scikit-image>=0.16.1 in /usr/local/lib/python3.10/dist-packages (from albumentations) (0.19.3)\n",
            "Requirement already satisfied: PyYAML in /usr/local/lib/python3.10/dist-packages (from albumentations) (6.0)\n",
            "Requirement already satisfied: qudida>=0.0.4 in /usr/local/lib/python3.10/dist-packages (from albumentations) (0.0.4)\n",
            "Requirement already satisfied: opencv-python-headless>=4.1.1 in /usr/local/lib/python3.10/dist-packages (from albumentations) (4.7.0.72)\n",
            "Requirement already satisfied: scikit-learn>=0.19.1 in /usr/local/lib/python3.10/dist-packages (from qudida>=0.0.4->albumentations) (1.2.2)\n",
            "Requirement already satisfied: typing-extensions in /usr/local/lib/python3.10/dist-packages (from qudida>=0.0.4->albumentations) (4.6.3)\n",
            "Requirement already satisfied: networkx>=2.2 in /usr/local/lib/python3.10/dist-packages (from scikit-image>=0.16.1->albumentations) (3.1)\n",
            "Requirement already satisfied: pillow!=7.1.0,!=7.1.1,!=8.3.0,>=6.1.0 in /usr/local/lib/python3.10/dist-packages (from scikit-image>=0.16.1->albumentations) (8.4.0)\n",
            "Requirement already satisfied: imageio>=2.4.1 in /usr/local/lib/python3.10/dist-packages (from scikit-image>=0.16.1->albumentations) (2.25.1)\n",
            "Requirement already satisfied: tifffile>=2019.7.26 in /usr/local/lib/python3.10/dist-packages (from scikit-image>=0.16.1->albumentations) (2023.4.12)\n",
            "Requirement already satisfied: PyWavelets>=1.1.1 in /usr/local/lib/python3.10/dist-packages (from scikit-image>=0.16.1->albumentations) (1.4.1)\n",
            "Requirement already satisfied: packaging>=20.0 in /usr/local/lib/python3.10/dist-packages (from scikit-image>=0.16.1->albumentations) (23.1)\n",
            "Requirement already satisfied: joblib>=1.1.1 in /usr/local/lib/python3.10/dist-packages (from scikit-learn>=0.19.1->qudida>=0.0.4->albumentations) (1.2.0)\n",
            "Requirement already satisfied: threadpoolctl>=2.0.0 in /usr/local/lib/python3.10/dist-packages (from scikit-learn>=0.19.1->qudida>=0.0.4->albumentations) (3.1.0)\n"
          ]
        }
      ],
      "source": [
        "\n",
        "!pip install torchsummary\n",
        "!pip install albumentations"
      ]
    },
    {
      "cell_type": "markdown",
      "metadata": {
        "id": "KKj6_A7OednD"
      },
      "source": [
        "Importing libraries"
      ]
    },
    {
      "cell_type": "code",
      "execution_count": 3,
      "metadata": {
        "id": "4-Gn4vUAqbhn"
      },
      "outputs": [],
      "source": [
        "import torch\n",
        "import torch.optim as optim\n",
        "from torchvision import datasets, transforms\n",
        "import matplotlib.pyplot as plt\n",
        "%matplotlib inline\n",
        "import numpy as np\n",
        "\n",
        "from utils import test, train, plot_curves,get_incorrect_predictions,get_stats,get_train_loader,get_test_loader,get_summary,get_device\n",
        "from visualize import print_samples,print_class_scale,plot_confusion_matrix,plot_incorrect_predictions\n",
        "from transformation import get_train_aug_transform,get_test_aug_transform\n",
        "\n",
        "from model import Net\n",
        "from torchsummary import summary\n",
        "\n",
        "from torch.optim.lr_scheduler import StepLR\n",
        "\n",
        "import warnings\n",
        "warnings.filterwarnings('ignore')"
      ]
    },
    {
      "cell_type": "markdown",
      "metadata": {
        "id": "uEYiEGJufhjT"
      },
      "source": [
        "Loading data and Tranformations"
      ]
    },
    {
      "cell_type": "code",
      "source": [
        "trainloader = get_train_loader(transform=None)"
      ],
      "metadata": {
        "colab": {
          "base_uri": "https://localhost:8080/"
        },
        "id": "R8AH5M7UVqAI",
        "outputId": "eb677318-4ecf-4787-e999-8033c7af2fdf"
      },
      "execution_count": 4,
      "outputs": [
        {
          "output_type": "stream",
          "name": "stdout",
          "text": [
            "Files already downloaded and verified\n"
          ]
        }
      ]
    },
    {
      "cell_type": "code",
      "source": [
        "## Calculating Mean and Std for Normalization\n",
        "mean, std = get_stats(trainloader)"
      ],
      "metadata": {
        "colab": {
          "base_uri": "https://localhost:8080/"
        },
        "id": "KTx3UWOlVqWi",
        "outputId": "12219147-42f5-4515-8560-b99f6e2b6542"
      },
      "execution_count": 5,
      "outputs": [
        {
          "output_type": "stream",
          "name": "stdout",
          "text": [
            "[Train]\n",
            " - Numpy Shape: (50000, 32, 32, 3)\n",
            " - Tensor Shape: (50000, 32, 32, 3)\n",
            " - min: 0\n",
            " - max: 255\n",
            "\n",
            "Dataset Mean - [0.49139968 0.48215841 0.44653091]\n",
            "Dataset Std - [0.24703223 0.24348513 0.26158784] \n"
          ]
        }
      ]
    },
    {
      "cell_type": "code",
      "source": [
        "## Function normalize and augment images\n",
        "## Apply HorizontalFlip\n",
        "## ShiftScaleRotate\n",
        "## CoarseDropout\n",
        "train_transform = get_train_aug_transform(mean, std)\n",
        "test_transform = get_test_aug_transform(mean, std)"
      ],
      "metadata": {
        "id": "haueQotdVqhu"
      },
      "execution_count": 6,
      "outputs": []
    },
    {
      "cell_type": "code",
      "source": [
        "train_loader = get_train_loader(transform=train_transform)\n",
        "test_loader = get_test_loader(transform=test_transform)"
      ],
      "metadata": {
        "colab": {
          "base_uri": "https://localhost:8080/"
        },
        "id": "JvdinlHbYYoE",
        "outputId": "46a6673b-3e07-4924-e655-612b502a9567"
      },
      "execution_count": 7,
      "outputs": [
        {
          "output_type": "stream",
          "name": "stdout",
          "text": [
            "Files already downloaded and verified\n",
            "Files already downloaded and verified\n"
          ]
        }
      ]
    },
    {
      "cell_type": "code",
      "execution_count": 8,
      "metadata": {
        "id": "byIUQefEfvEC"
      },
      "outputs": [],
      "source": [
        "classes = ['plane', 'car', 'bird', 'cat','deer', 'dog', 'frog', 'horse', 'ship', 'truck']\n"
      ]
    },
    {
      "cell_type": "code",
      "source": [
        "## After Augmentation printing samples\n",
        "print_samples(train_loader,classes)"
      ],
      "metadata": {
        "colab": {
          "base_uri": "https://localhost:8080/",
          "height": 578
        },
        "id": "wIErTVibT7Rm",
        "outputId": "726b45fa-cfae-48a8-d211-808ea65fcb8a"
      },
      "execution_count": 9,
      "outputs": [
        {
          "output_type": "stream",
          "name": "stderr",
          "text": [
            "WARNING:matplotlib.image:Clipping input data to the valid range for imshow with RGB data ([0..1] for floats or [0..255] for integers).\n",
            "WARNING:matplotlib.image:Clipping input data to the valid range for imshow with RGB data ([0..1] for floats or [0..255] for integers).\n",
            "WARNING:matplotlib.image:Clipping input data to the valid range for imshow with RGB data ([0..1] for floats or [0..255] for integers).\n",
            "WARNING:matplotlib.image:Clipping input data to the valid range for imshow with RGB data ([0..1] for floats or [0..255] for integers).\n",
            "WARNING:matplotlib.image:Clipping input data to the valid range for imshow with RGB data ([0..1] for floats or [0..255] for integers).\n",
            "WARNING:matplotlib.image:Clipping input data to the valid range for imshow with RGB data ([0..1] for floats or [0..255] for integers).\n",
            "WARNING:matplotlib.image:Clipping input data to the valid range for imshow with RGB data ([0..1] for floats or [0..255] for integers).\n",
            "WARNING:matplotlib.image:Clipping input data to the valid range for imshow with RGB data ([0..1] for floats or [0..255] for integers).\n",
            "WARNING:matplotlib.image:Clipping input data to the valid range for imshow with RGB data ([0..1] for floats or [0..255] for integers).\n",
            "WARNING:matplotlib.image:Clipping input data to the valid range for imshow with RGB data ([0..1] for floats or [0..255] for integers).\n",
            "WARNING:matplotlib.image:Clipping input data to the valid range for imshow with RGB data ([0..1] for floats or [0..255] for integers).\n",
            "WARNING:matplotlib.image:Clipping input data to the valid range for imshow with RGB data ([0..1] for floats or [0..255] for integers).\n",
            "WARNING:matplotlib.image:Clipping input data to the valid range for imshow with RGB data ([0..1] for floats or [0..255] for integers).\n",
            "WARNING:matplotlib.image:Clipping input data to the valid range for imshow with RGB data ([0..1] for floats or [0..255] for integers).\n",
            "WARNING:matplotlib.image:Clipping input data to the valid range for imshow with RGB data ([0..1] for floats or [0..255] for integers).\n",
            "WARNING:matplotlib.image:Clipping input data to the valid range for imshow with RGB data ([0..1] for floats or [0..255] for integers).\n"
          ]
        },
        {
          "output_type": "display_data",
          "data": {
            "text/plain": [
              "<Figure size 1500x500 with 16 Axes>"
            ],
            "image/png": "[encoded data removed]"
          },
          "metadata": {}
        }
      ]
    },
    {
      "cell_type": "code",
      "source": [
        "## Checking for CUDA and setting SEED\n",
        "device = get_device()"
      ],
      "metadata": {
        "id": "gv1fwbtkCDJW",
        "colab": {
          "base_uri": "https://localhost:8080/"
        },
        "outputId": "5b2812e4-8009-48b7-b7ae-9a3c6f56d431"
      },
      "execution_count": 10,
      "outputs": [
        {
          "output_type": "stream",
          "name": "stdout",
          "text": [
            "CUDA Available? True\n"
          ]
        }
      ]
    },
    {
      "cell_type": "markdown",
      "metadata": {
        "id": "AIkEMM01gDLg"
      },
      "source": [
        "Transferring model to GPU and printing model summary"
      ]
    },
    {
      "cell_type": "code",
      "source": [
        "cuda = torch.cuda.is_available()\n",
        "device = torch.device(\"cuda\" if cuda else \"cpu\")\n",
        "model = Net(norm=\"BN\").to(device)\n",
        "summary(model, input_size=(3, 32, 32))"
      ],
      "metadata": {
        "colab": {
          "base_uri": "https://localhost:8080/"
        },
        "id": "r47cDTDucquL",
        "outputId": "c376b71b-1afb-4f7e-890a-cab11c4c790f"
      },
      "execution_count": 11,
      "outputs": [
        {
          "output_type": "stream",
          "name": "stdout",
          "text": [
            "----------------------------------------------------------------\n",
            "        Layer (type)               Output Shape         Param #\n",
            "================================================================\n",
            "            Conv2d-1           [-1, 16, 32, 32]             432\n",
            "       BatchNorm2d-2           [-1, 16, 32, 32]              32\n",
            "         Dropout2d-3           [-1, 16, 32, 32]               0\n",
            "            Conv2d-4           [-1, 32, 32, 32]           4,608\n",
            "       BatchNorm2d-5           [-1, 32, 32, 32]              64\n",
            "         Dropout2d-6           [-1, 32, 32, 32]               0\n",
            "            Conv2d-7           [-1, 32, 32, 32]           9,216\n",
            "       BatchNorm2d-8           [-1, 32, 32, 32]              64\n",
            "         Dropout2d-9           [-1, 32, 32, 32]               0\n",
            "           Conv2d-10           [-1, 32, 14, 14]           9,216\n",
            "      BatchNorm2d-11           [-1, 32, 14, 14]              64\n",
            "        Dropout2d-12           [-1, 32, 14, 14]               0\n",
            "           Conv2d-13           [-1, 32, 14, 14]           9,216\n",
            "      BatchNorm2d-14           [-1, 32, 14, 14]              64\n",
            "        Dropout2d-15           [-1, 32, 14, 14]               0\n",
            "           Conv2d-16           [-1, 52, 14, 14]          14,976\n",
            "      BatchNorm2d-17           [-1, 52, 14, 14]             104\n",
            "        Dropout2d-18           [-1, 52, 14, 14]               0\n",
            "           Conv2d-19             [-1, 64, 5, 5]          29,952\n",
            "      BatchNorm2d-20             [-1, 64, 5, 5]             128\n",
            "        Dropout2d-21             [-1, 64, 5, 5]               0\n",
            "           Conv2d-22             [-1, 64, 5, 5]              64\n",
            "      BatchNorm2d-23             [-1, 64, 5, 5]             128\n",
            "        Dropout2d-24             [-1, 64, 5, 5]               0\n",
            "           Conv2d-25             [-1, 64, 5, 5]          36,864\n",
            "      BatchNorm2d-26             [-1, 64, 5, 5]             128\n",
            "        Dropout2d-27             [-1, 64, 5, 5]               0\n",
            "           Conv2d-28             [-1, 64, 4, 4]           4,096\n",
            "      BatchNorm2d-29             [-1, 64, 4, 4]             128\n",
            "        Dropout2d-30             [-1, 64, 4, 4]               0\n",
            "           Conv2d-31             [-1, 64, 4, 4]          36,864\n",
            "      BatchNorm2d-32             [-1, 64, 4, 4]             128\n",
            "        Dropout2d-33             [-1, 64, 4, 4]               0\n",
            "           Conv2d-34             [-1, 10, 4, 4]           5,760\n",
            "        AvgPool2d-35             [-1, 10, 1, 1]               0\n",
            "================================================================\n",
            "Total params: 162,296\n",
            "Trainable params: 162,296\n",
            "Non-trainable params: 0\n",
            "----------------------------------------------------------------\n",
            "Input size (MB): 0.01\n",
            "Forward/backward pass size (MB): 2.55\n",
            "Params size (MB): 0.62\n",
            "Estimated Total Size (MB): 3.18\n",
            "----------------------------------------------------------------\n"
          ]
        }
      ]
    },
    {
      "cell_type": "code",
      "execution_count": 12,
      "metadata": {
        "colab": {
          "base_uri": "https://localhost:8080/"
        },
        "id": "SHTcO-7U5W8O",
        "outputId": "8180f5dd-f1a0-46e7-d4f6-ead722b92431"
      },
      "outputs": [
        {
          "metadata": {
            "tags": null
          },
          "name": "stdout",
          "output_type": "stream",
          "text": [
            "EPOCH: 0\n"
          ]
        },
        {
          "metadata": {
            "tags": null
          },
          "name": "stderr",
          "output_type": "stream",
          "text": [
            "Train: Loss=1.7545 Batch_id=390 Accuracy=31.23: 100%|██████████| 391/391 [00:14<00:00, 27.59it/s]\n"
          ]
        },
        {
          "metadata": {
            "tags": null
          },
          "name": "stdout",
          "output_type": "stream",
          "text": [
            "Test set: Average loss: 1.4655, Accuracy: 4567/10000 (45.67%)\n",
            "\n",
            "EPOCH: 1\n"
          ]
        },
        {
          "metadata": {
            "tags": null
          },
          "name": "stderr",
          "output_type": "stream",
          "text": [
            "Train: Loss=1.3765 Batch_id=390 Accuracy=41.91: 100%|██████████| 391/391 [00:12<00:00, 31.08it/s]\n"
          ]
        },
        {
          "metadata": {
            "tags": null
          },
          "name": "stdout",
          "output_type": "stream",
          "text": [
            "Test set: Average loss: 1.2397, Accuracy: 5486/10000 (54.86%)\n",
            "\n",
            "EPOCH: 2\n"
          ]
        },
        {
          "metadata": {
            "tags": null
          },
          "name": "stderr",
          "output_type": "stream",
          "text": [
            "Train: Loss=1.0854 Batch_id=390 Accuracy=47.63: 100%|██████████| 391/391 [00:12<00:00, 30.82it/s]\n"
          ]
        },
        {
          "metadata": {
            "tags": null
          },
          "name": "stdout",
          "output_type": "stream",
          "text": [
            "Test set: Average loss: 1.1163, Accuracy: 5994/10000 (59.94%)\n",
            "\n",
            "EPOCH: 3\n"
          ]
        },
        {
          "metadata": {
            "tags": null
          },
          "name": "stderr",
          "output_type": "stream",
          "text": [
            "Train: Loss=1.3468 Batch_id=390 Accuracy=51.34: 100%|██████████| 391/391 [00:12<00:00, 31.44it/s]\n"
          ]
        },
        {
          "metadata": {
            "tags": null
          },
          "name": "stdout",
          "output_type": "stream",
          "text": [
            "Test set: Average loss: 1.0035, Accuracy: 6412/10000 (64.12%)\n",
            "\n",
            "EPOCH: 4\n"
          ]
        },
        {
          "metadata": {
            "tags": null
          },
          "name": "stderr",
          "output_type": "stream",
          "text": [
            "Train: Loss=1.1895 Batch_id=390 Accuracy=54.28: 100%|██████████| 391/391 [00:12<00:00, 31.14it/s]\n"
          ]
        },
        {
          "metadata": {
            "tags": null
          },
          "name": "stdout",
          "output_type": "stream",
          "text": [
            "Test set: Average loss: 0.9540, Accuracy: 6667/10000 (66.67%)\n",
            "\n",
            "EPOCH: 5\n"
          ]
        },
        {
          "metadata": {
            "tags": null
          },
          "name": "stderr",
          "output_type": "stream",
          "text": [
            "Train: Loss=1.4174 Batch_id=390 Accuracy=56.55: 100%|██████████| 391/391 [00:12<00:00, 31.32it/s]\n"
          ]
        },
        {
          "metadata": {
            "tags": null
          },
          "name": "stdout",
          "output_type": "stream",
          "text": [
            "Test set: Average loss: 0.8778, Accuracy: 6921/10000 (69.21%)\n",
            "\n",
            "EPOCH: 6\n"
          ]
        },
        {
          "metadata": {
            "tags": null
          },
          "name": "stderr",
          "output_type": "stream",
          "text": [
            "Train: Loss=1.2739 Batch_id=390 Accuracy=57.77: 100%|██████████| 391/391 [00:12<00:00, 30.51it/s]\n"
          ]
        },
        {
          "metadata": {
            "tags": null
          },
          "name": "stdout",
          "output_type": "stream",
          "text": [
            "Test set: Average loss: 0.8224, Accuracy: 7148/10000 (71.48%)\n",
            "\n",
            "EPOCH: 7\n"
          ]
        },
        {
          "metadata": {
            "tags": null
          },
          "name": "stderr",
          "output_type": "stream",
          "text": [
            "Train: Loss=1.2481 Batch_id=390 Accuracy=59.48: 100%|██████████| 391/391 [00:12<00:00, 30.97it/s]\n"
          ]
        },
        {
          "metadata": {
            "tags": null
          },
          "name": "stdout",
          "output_type": "stream",
          "text": [
            "Test set: Average loss: 0.8434, Accuracy: 7059/10000 (70.59%)\n",
            "\n",
            "EPOCH: 8\n"
          ]
        },
        {
          "metadata": {
            "tags": null
          },
          "name": "stderr",
          "output_type": "stream",
          "text": [
            "Train: Loss=1.1143 Batch_id=390 Accuracy=60.60: 100%|██████████| 391/391 [00:12<00:00, 30.87it/s]\n"
          ]
        },
        {
          "metadata": {
            "tags": null
          },
          "name": "stdout",
          "output_type": "stream",
          "text": [
            "Test set: Average loss: 0.7738, Accuracy: 7312/10000 (73.12%)\n",
            "\n",
            "EPOCH: 9\n"
          ]
        },
        {
          "metadata": {
            "tags": null
          },
          "name": "stderr",
          "output_type": "stream",
          "text": [
            "Train: Loss=1.4851 Batch_id=390 Accuracy=61.00: 100%|██████████| 391/391 [00:13<00:00, 28.74it/s]\n"
          ]
        },
        {
          "metadata": {
            "tags": null
          },
          "name": "stdout",
          "output_type": "stream",
          "text": [
            "Test set: Average loss: 0.7507, Accuracy: 7449/10000 (74.49%)\n",
            "\n",
            "EPOCH: 10\n"
          ]
        },
        {
          "metadata": {
            "tags": null
          },
          "name": "stderr",
          "output_type": "stream",
          "text": [
            "Train: Loss=1.1224 Batch_id=390 Accuracy=62.33: 100%|██████████| 391/391 [00:12<00:00, 31.19it/s]\n"
          ]
        },
        {
          "metadata": {
            "tags": null
          },
          "name": "stdout",
          "output_type": "stream",
          "text": [
            "Test set: Average loss: 0.7301, Accuracy: 7461/10000 (74.61%)\n",
            "\n",
            "EPOCH: 11\n"
          ]
        },
        {
          "metadata": {
            "tags": null
          },
          "name": "stderr",
          "output_type": "stream",
          "text": [
            "Train: Loss=1.2092 Batch_id=390 Accuracy=62.68: 100%|██████████| 391/391 [00:12<00:00, 31.27it/s]\n"
          ]
        },
        {
          "metadata": {
            "tags": null
          },
          "name": "stdout",
          "output_type": "stream",
          "text": [
            "Test set: Average loss: 0.7176, Accuracy: 7537/10000 (75.37%)\n",
            "\n",
            "EPOCH: 12\n"
          ]
        },
        {
          "metadata": {
            "tags": null
          },
          "name": "stderr",
          "output_type": "stream",
          "text": [
            "Train: Loss=1.1240 Batch_id=390 Accuracy=63.71: 100%|██████████| 391/391 [00:12<00:00, 30.87it/s]\n"
          ]
        },
        {
          "metadata": {
            "tags": null
          },
          "name": "stdout",
          "output_type": "stream",
          "text": [
            "Test set: Average loss: 0.6935, Accuracy: 7548/10000 (75.48%)\n",
            "\n",
            "EPOCH: 13\n"
          ]
        },
        {
          "metadata": {
            "tags": null
          },
          "name": "stderr",
          "output_type": "stream",
          "text": [
            "Train: Loss=1.1531 Batch_id=390 Accuracy=64.24: 100%|██████████| 391/391 [00:12<00:00, 31.63it/s]\n"
          ]
        },
        {
          "metadata": {
            "tags": null
          },
          "name": "stdout",
          "output_type": "stream",
          "text": [
            "Test set: Average loss: 0.6890, Accuracy: 7608/10000 (76.08%)\n",
            "\n",
            "EPOCH: 14\n"
          ]
        },
        {
          "metadata": {
            "tags": null
          },
          "name": "stderr",
          "output_type": "stream",
          "text": [
            "Train: Loss=1.1540 Batch_id=390 Accuracy=64.79: 100%|██████████| 391/391 [00:12<00:00, 31.30it/s]\n"
          ]
        },
        {
          "metadata": {
            "tags": null
          },
          "name": "stdout",
          "output_type": "stream",
          "text": [
            "Test set: Average loss: 0.6669, Accuracy: 7693/10000 (76.93%)\n",
            "\n",
            "EPOCH: 15\n"
          ]
        },
        {
          "metadata": {
            "tags": null
          },
          "name": "stderr",
          "output_type": "stream",
          "text": [
            "Train: Loss=1.0440 Batch_id=390 Accuracy=65.32: 100%|██████████| 391/391 [00:12<00:00, 32.50it/s]\n"
          ]
        },
        {
          "metadata": {
            "tags": null
          },
          "name": "stdout",
          "output_type": "stream",
          "text": [
            "Test set: Average loss: 0.6724, Accuracy: 7686/10000 (76.86%)\n",
            "\n",
            "EPOCH: 16\n"
          ]
        },
        {
          "metadata": {
            "tags": null
          },
          "name": "stderr",
          "output_type": "stream",
          "text": [
            "Train: Loss=0.9116 Batch_id=390 Accuracy=65.90: 100%|██████████| 391/391 [00:12<00:00, 31.56it/s]\n"
          ]
        },
        {
          "metadata": {
            "tags": null
          },
          "name": "stdout",
          "output_type": "stream",
          "text": [
            "Test set: Average loss: 0.6564, Accuracy: 7740/10000 (77.40%)\n",
            "\n",
            "EPOCH: 17\n"
          ]
        },
        {
          "metadata": {
            "tags": null
          },
          "name": "stderr",
          "output_type": "stream",
          "text": [
            "Train: Loss=0.9446 Batch_id=390 Accuracy=66.15: 100%|██████████| 391/391 [00:12<00:00, 31.48it/s]\n"
          ]
        },
        {
          "metadata": {
            "tags": null
          },
          "name": "stdout",
          "output_type": "stream",
          "text": [
            "Test set: Average loss: 0.6249, Accuracy: 7844/10000 (78.44%)\n",
            "\n",
            "EPOCH: 18\n"
          ]
        },
        {
          "metadata": {
            "tags": null
          },
          "name": "stderr",
          "output_type": "stream",
          "text": [
            "Train: Loss=0.9383 Batch_id=390 Accuracy=66.36: 100%|██████████| 391/391 [00:12<00:00, 31.48it/s]\n"
          ]
        },
        {
          "metadata": {
            "tags": null
          },
          "name": "stdout",
          "output_type": "stream",
          "text": [
            "Test set: Average loss: 0.6250, Accuracy: 7831/10000 (78.31%)\n",
            "\n",
            "EPOCH: 19\n"
          ]
        },
        {
          "metadata": {
            "tags": null
          },
          "name": "stderr",
          "output_type": "stream",
          "text": [
            "Train: Loss=0.8692 Batch_id=390 Accuracy=66.53: 100%|██████████| 391/391 [00:12<00:00, 31.26it/s]\n"
          ]
        },
        {
          "metadata": {
            "tags": null
          },
          "name": "stdout",
          "output_type": "stream",
          "text": [
            "Test set: Average loss: 0.6247, Accuracy: 7811/10000 (78.11%)\n",
            "\n",
            "EPOCH: 20\n"
          ]
        },
        {
          "metadata": {
            "tags": null
          },
          "name": "stderr",
          "output_type": "stream",
          "text": [
            "Train: Loss=0.9339 Batch_id=390 Accuracy=67.09: 100%|██████████| 391/391 [00:12<00:00, 31.63it/s]\n"
          ]
        },
        {
          "metadata": {
            "tags": null
          },
          "name": "stdout",
          "output_type": "stream",
          "text": [
            "Test set: Average loss: 0.6109, Accuracy: 7921/10000 (79.21%)\n",
            "\n",
            "EPOCH: 21\n"
          ]
        },
        {
          "metadata": {
            "tags": null
          },
          "name": "stderr",
          "output_type": "stream",
          "text": [
            "Train: Loss=0.9360 Batch_id=390 Accuracy=67.22: 100%|██████████| 391/391 [00:11<00:00, 32.63it/s]\n"
          ]
        },
        {
          "metadata": {
            "tags": null
          },
          "name": "stdout",
          "output_type": "stream",
          "text": [
            "Test set: Average loss: 0.6053, Accuracy: 7923/10000 (79.23%)\n",
            "\n",
            "EPOCH: 22\n"
          ]
        },
        {
          "metadata": {
            "tags": null
          },
          "name": "stderr",
          "output_type": "stream",
          "text": [
            "Train: Loss=0.9712 Batch_id=390 Accuracy=67.45: 100%|██████████| 391/391 [00:12<00:00, 30.90it/s]\n"
          ]
        },
        {
          "metadata": {
            "tags": null
          },
          "name": "stdout",
          "output_type": "stream",
          "text": [
            "Test set: Average loss: 0.6409, Accuracy: 7807/10000 (78.07%)\n",
            "\n",
            "EPOCH: 23\n"
          ]
        },
        {
          "metadata": {
            "tags": null
          },
          "name": "stderr",
          "output_type": "stream",
          "text": [
            "Train: Loss=1.0251 Batch_id=390 Accuracy=67.72: 100%|██████████| 391/391 [00:11<00:00, 32.81it/s]\n"
          ]
        },
        {
          "metadata": {
            "tags": null
          },
          "name": "stdout",
          "output_type": "stream",
          "text": [
            "Test set: Average loss: 0.5917, Accuracy: 7972/10000 (79.72%)\n",
            "\n",
            "EPOCH: 24\n"
          ]
        },
        {
          "metadata": {
            "tags": null
          },
          "name": "stderr",
          "output_type": "stream",
          "text": [
            "Train: Loss=0.9089 Batch_id=390 Accuracy=68.30: 100%|██████████| 391/391 [00:11<00:00, 32.84it/s]\n"
          ]
        },
        {
          "metadata": {
            "tags": null
          },
          "name": "stdout",
          "output_type": "stream",
          "text": [
            "Test set: Average loss: 0.5914, Accuracy: 7941/10000 (79.41%)\n",
            "\n",
            "EPOCH: 25\n"
          ]
        },
        {
          "output_type": "stream",
          "name": "stderr",
          "text": [
            "Train: Loss=0.9531 Batch_id=390 Accuracy=68.64: 100%|██████████| 391/391 [00:12<00:00, 31.31it/s]\n"
          ]
        },
        {
          "output_type": "stream",
          "name": "stdout",
          "text": [
            "Test set: Average loss: 0.5939, Accuracy: 7973/10000 (79.73%)\n",
            "\n",
            "EPOCH: 26\n"
          ]
        },
        {
          "output_type": "stream",
          "name": "stderr",
          "text": [
            "Train: Loss=0.9254 Batch_id=390 Accuracy=68.62: 100%|██████████| 391/391 [00:12<00:00, 31.05it/s]\n"
          ]
        },
        {
          "output_type": "stream",
          "name": "stdout",
          "text": [
            "Test set: Average loss: 0.5849, Accuracy: 7991/10000 (79.91%)\n",
            "\n",
            "EPOCH: 27\n"
          ]
        },
        {
          "output_type": "stream",
          "name": "stderr",
          "text": [
            "Train: Loss=0.8888 Batch_id=390 Accuracy=68.61: 100%|██████████| 391/391 [00:12<00:00, 31.52it/s]\n"
          ]
        },
        {
          "output_type": "stream",
          "name": "stdout",
          "text": [
            "Test set: Average loss: 0.5791, Accuracy: 7994/10000 (79.94%)\n",
            "\n",
            "EPOCH: 28\n"
          ]
        },
        {
          "output_type": "stream",
          "name": "stderr",
          "text": [
            "Train: Loss=0.7637 Batch_id=390 Accuracy=69.13: 100%|██████████| 391/391 [00:12<00:00, 31.19it/s]\n"
          ]
        },
        {
          "output_type": "stream",
          "name": "stdout",
          "text": [
            "Test set: Average loss: 0.5669, Accuracy: 8047/10000 (80.47%)\n",
            "\n",
            "EPOCH: 29\n"
          ]
        },
        {
          "output_type": "stream",
          "name": "stderr",
          "text": [
            "Train: Loss=0.9672 Batch_id=390 Accuracy=69.14: 100%|██████████| 391/391 [00:12<00:00, 31.47it/s]\n"
          ]
        },
        {
          "output_type": "stream",
          "name": "stdout",
          "text": [
            "Test set: Average loss: 0.5684, Accuracy: 8049/10000 (80.49%)\n",
            "\n",
            "EPOCH: 30\n"
          ]
        },
        {
          "output_type": "stream",
          "name": "stderr",
          "text": [
            "Train: Loss=0.9158 Batch_id=390 Accuracy=69.34: 100%|██████████| 391/391 [00:12<00:00, 31.21it/s]\n"
          ]
        },
        {
          "output_type": "stream",
          "name": "stdout",
          "text": [
            "Test set: Average loss: 0.5738, Accuracy: 8018/10000 (80.18%)\n",
            "\n",
            "EPOCH: 31\n"
          ]
        },
        {
          "output_type": "stream",
          "name": "stderr",
          "text": [
            "Train: Loss=0.9569 Batch_id=390 Accuracy=69.66: 100%|██████████| 391/391 [00:12<00:00, 30.94it/s]\n"
          ]
        },
        {
          "output_type": "stream",
          "name": "stdout",
          "text": [
            "Test set: Average loss: 0.5651, Accuracy: 8045/10000 (80.45%)\n",
            "\n",
            "EPOCH: 32\n"
          ]
        },
        {
          "output_type": "stream",
          "name": "stderr",
          "text": [
            "Train: Loss=0.9144 Batch_id=390 Accuracy=69.89: 100%|██████████| 391/391 [00:12<00:00, 31.00it/s]\n"
          ]
        },
        {
          "output_type": "stream",
          "name": "stdout",
          "text": [
            "Test set: Average loss: 0.5561, Accuracy: 8111/10000 (81.11%)\n",
            "\n",
            "EPOCH: 33\n"
          ]
        },
        {
          "output_type": "stream",
          "name": "stderr",
          "text": [
            "Train: Loss=1.0100 Batch_id=390 Accuracy=70.26: 100%|██████████| 391/391 [00:12<00:00, 31.39it/s]\n"
          ]
        },
        {
          "output_type": "stream",
          "name": "stdout",
          "text": [
            "Test set: Average loss: 0.5423, Accuracy: 8123/10000 (81.23%)\n",
            "\n",
            "EPOCH: 34\n"
          ]
        },
        {
          "output_type": "stream",
          "name": "stderr",
          "text": [
            "Train: Loss=0.8061 Batch_id=390 Accuracy=70.02: 100%|██████████| 391/391 [00:12<00:00, 31.15it/s]\n"
          ]
        },
        {
          "output_type": "stream",
          "name": "stdout",
          "text": [
            "Test set: Average loss: 0.5541, Accuracy: 8096/10000 (80.96%)\n",
            "\n",
            "EPOCH: 35\n"
          ]
        },
        {
          "output_type": "stream",
          "name": "stderr",
          "text": [
            "Train: Loss=0.8600 Batch_id=390 Accuracy=70.22: 100%|██████████| 391/391 [00:13<00:00, 29.42it/s]\n"
          ]
        },
        {
          "output_type": "stream",
          "name": "stdout",
          "text": [
            "Test set: Average loss: 0.5517, Accuracy: 8090/10000 (80.90%)\n",
            "\n",
            "EPOCH: 36\n"
          ]
        },
        {
          "output_type": "stream",
          "name": "stderr",
          "text": [
            "Train: Loss=0.9572 Batch_id=390 Accuracy=70.41: 100%|██████████| 391/391 [00:12<00:00, 31.02it/s]\n"
          ]
        },
        {
          "output_type": "stream",
          "name": "stdout",
          "text": [
            "Test set: Average loss: 0.5454, Accuracy: 8136/10000 (81.36%)\n",
            "\n",
            "EPOCH: 37\n"
          ]
        },
        {
          "output_type": "stream",
          "name": "stderr",
          "text": [
            "Train: Loss=1.0863 Batch_id=390 Accuracy=70.30: 100%|██████████| 391/391 [00:12<00:00, 30.80it/s]\n"
          ]
        },
        {
          "output_type": "stream",
          "name": "stdout",
          "text": [
            "Test set: Average loss: 0.5462, Accuracy: 8097/10000 (80.97%)\n",
            "\n",
            "EPOCH: 38\n"
          ]
        },
        {
          "output_type": "stream",
          "name": "stderr",
          "text": [
            "Train: Loss=0.9963 Batch_id=390 Accuracy=70.55: 100%|██████████| 391/391 [00:12<00:00, 30.98it/s]\n"
          ]
        },
        {
          "output_type": "stream",
          "name": "stdout",
          "text": [
            "Test set: Average loss: 0.5426, Accuracy: 8144/10000 (81.44%)\n",
            "\n",
            "EPOCH: 39\n"
          ]
        },
        {
          "output_type": "stream",
          "name": "stderr",
          "text": [
            "Train: Loss=0.9395 Batch_id=390 Accuracy=70.72: 100%|██████████| 391/391 [00:12<00:00, 30.89it/s]\n"
          ]
        },
        {
          "output_type": "stream",
          "name": "stdout",
          "text": [
            "Test set: Average loss: 0.5382, Accuracy: 8150/10000 (81.50%)\n",
            "\n",
            "EPOCH: 40\n"
          ]
        },
        {
          "output_type": "stream",
          "name": "stderr",
          "text": [
            "Train: Loss=0.6445 Batch_id=390 Accuracy=70.91: 100%|██████████| 391/391 [00:12<00:00, 31.19it/s]\n"
          ]
        },
        {
          "output_type": "stream",
          "name": "stdout",
          "text": [
            "Test set: Average loss: 0.5337, Accuracy: 8148/10000 (81.48%)\n",
            "\n",
            "EPOCH: 41\n"
          ]
        },
        {
          "output_type": "stream",
          "name": "stderr",
          "text": [
            "Train: Loss=0.9893 Batch_id=390 Accuracy=71.22: 100%|██████████| 391/391 [00:12<00:00, 30.75it/s]\n"
          ]
        },
        {
          "output_type": "stream",
          "name": "stdout",
          "text": [
            "Test set: Average loss: 0.5431, Accuracy: 8131/10000 (81.31%)\n",
            "\n",
            "EPOCH: 42\n"
          ]
        },
        {
          "output_type": "stream",
          "name": "stderr",
          "text": [
            "Train: Loss=0.7419 Batch_id=390 Accuracy=71.16: 100%|██████████| 391/391 [00:12<00:00, 30.82it/s]\n"
          ]
        },
        {
          "output_type": "stream",
          "name": "stdout",
          "text": [
            "Test set: Average loss: 0.5240, Accuracy: 8219/10000 (82.19%)\n",
            "\n",
            "EPOCH: 43\n"
          ]
        },
        {
          "output_type": "stream",
          "name": "stderr",
          "text": [
            "Train: Loss=0.8089 Batch_id=390 Accuracy=71.26: 100%|██████████| 391/391 [00:12<00:00, 30.62it/s]\n"
          ]
        },
        {
          "output_type": "stream",
          "name": "stdout",
          "text": [
            "Test set: Average loss: 0.5264, Accuracy: 8169/10000 (81.69%)\n",
            "\n",
            "EPOCH: 44\n"
          ]
        },
        {
          "output_type": "stream",
          "name": "stderr",
          "text": [
            "Train: Loss=0.9433 Batch_id=390 Accuracy=71.35: 100%|██████████| 391/391 [00:12<00:00, 30.69it/s]\n"
          ]
        },
        {
          "output_type": "stream",
          "name": "stdout",
          "text": [
            "Test set: Average loss: 0.5399, Accuracy: 8152/10000 (81.52%)\n",
            "\n",
            "EPOCH: 45\n"
          ]
        },
        {
          "output_type": "stream",
          "name": "stderr",
          "text": [
            "Train: Loss=0.7648 Batch_id=390 Accuracy=71.48: 100%|██████████| 391/391 [00:12<00:00, 31.03it/s]\n"
          ]
        },
        {
          "output_type": "stream",
          "name": "stdout",
          "text": [
            "Test set: Average loss: 0.5319, Accuracy: 8189/10000 (81.89%)\n",
            "\n",
            "EPOCH: 46\n"
          ]
        },
        {
          "output_type": "stream",
          "name": "stderr",
          "text": [
            "Train: Loss=0.8917 Batch_id=390 Accuracy=71.52: 100%|██████████| 391/391 [00:12<00:00, 30.79it/s]\n"
          ]
        },
        {
          "output_type": "stream",
          "name": "stdout",
          "text": [
            "Test set: Average loss: 0.5121, Accuracy: 8236/10000 (82.36%)\n",
            "\n",
            "EPOCH: 47\n"
          ]
        },
        {
          "output_type": "stream",
          "name": "stderr",
          "text": [
            "Train: Loss=0.7699 Batch_id=390 Accuracy=71.67: 100%|██████████| 391/391 [00:12<00:00, 30.94it/s]\n"
          ]
        },
        {
          "output_type": "stream",
          "name": "stdout",
          "text": [
            "Test set: Average loss: 0.5238, Accuracy: 8200/10000 (82.00%)\n",
            "\n",
            "EPOCH: 48\n"
          ]
        },
        {
          "output_type": "stream",
          "name": "stderr",
          "text": [
            "Train: Loss=0.8575 Batch_id=390 Accuracy=71.91: 100%|██████████| 391/391 [00:13<00:00, 28.80it/s]\n"
          ]
        },
        {
          "output_type": "stream",
          "name": "stdout",
          "text": [
            "Test set: Average loss: 0.5175, Accuracy: 8228/10000 (82.28%)\n",
            "\n",
            "EPOCH: 49\n"
          ]
        },
        {
          "output_type": "stream",
          "name": "stderr",
          "text": [
            "Train: Loss=0.7263 Batch_id=390 Accuracy=72.02: 100%|██████████| 391/391 [00:12<00:00, 30.65it/s]\n"
          ]
        },
        {
          "output_type": "stream",
          "name": "stdout",
          "text": [
            "Test set: Average loss: 0.5086, Accuracy: 8265/10000 (82.65%)\n",
            "\n",
            "EPOCH: 50\n"
          ]
        },
        {
          "output_type": "stream",
          "name": "stderr",
          "text": [
            "Train: Loss=0.5789 Batch_id=390 Accuracy=71.86: 100%|██████████| 391/391 [00:12<00:00, 30.60it/s]\n"
          ]
        },
        {
          "output_type": "stream",
          "name": "stdout",
          "text": [
            "Test set: Average loss: 0.5024, Accuracy: 8283/10000 (82.83%)\n",
            "\n",
            "EPOCH: 51\n"
          ]
        },
        {
          "output_type": "stream",
          "name": "stderr",
          "text": [
            "Train: Loss=0.8152 Batch_id=390 Accuracy=72.23: 100%|██████████| 391/391 [00:12<00:00, 31.00it/s]\n"
          ]
        },
        {
          "output_type": "stream",
          "name": "stdout",
          "text": [
            "Test set: Average loss: 0.5033, Accuracy: 8299/10000 (82.99%)\n",
            "\n",
            "EPOCH: 52\n"
          ]
        },
        {
          "output_type": "stream",
          "name": "stderr",
          "text": [
            "Train: Loss=0.7836 Batch_id=390 Accuracy=72.10: 100%|██████████| 391/391 [00:12<00:00, 31.10it/s]\n"
          ]
        },
        {
          "output_type": "stream",
          "name": "stdout",
          "text": [
            "Test set: Average loss: 0.4991, Accuracy: 8253/10000 (82.53%)\n",
            "\n",
            "EPOCH: 53\n"
          ]
        },
        {
          "output_type": "stream",
          "name": "stderr",
          "text": [
            "Train: Loss=0.7530 Batch_id=390 Accuracy=72.66: 100%|██████████| 391/391 [00:12<00:00, 30.99it/s]\n"
          ]
        },
        {
          "output_type": "stream",
          "name": "stdout",
          "text": [
            "Test set: Average loss: 0.4996, Accuracy: 8304/10000 (83.04%)\n",
            "\n",
            "EPOCH: 54\n"
          ]
        },
        {
          "output_type": "stream",
          "name": "stderr",
          "text": [
            "Train: Loss=0.9152 Batch_id=390 Accuracy=72.58: 100%|██████████| 391/391 [00:12<00:00, 30.57it/s]\n"
          ]
        },
        {
          "output_type": "stream",
          "name": "stdout",
          "text": [
            "Test set: Average loss: 0.5021, Accuracy: 8265/10000 (82.65%)\n",
            "\n",
            "EPOCH: 55\n"
          ]
        },
        {
          "output_type": "stream",
          "name": "stderr",
          "text": [
            "Train: Loss=0.8647 Batch_id=390 Accuracy=72.50: 100%|██████████| 391/391 [00:12<00:00, 30.79it/s]\n"
          ]
        },
        {
          "output_type": "stream",
          "name": "stdout",
          "text": [
            "Test set: Average loss: 0.4993, Accuracy: 8273/10000 (82.73%)\n",
            "\n",
            "EPOCH: 56\n"
          ]
        },
        {
          "output_type": "stream",
          "name": "stderr",
          "text": [
            "Train: Loss=0.6656 Batch_id=390 Accuracy=72.49: 100%|██████████| 391/391 [00:12<00:00, 31.23it/s]\n"
          ]
        },
        {
          "output_type": "stream",
          "name": "stdout",
          "text": [
            "Test set: Average loss: 0.5064, Accuracy: 8233/10000 (82.33%)\n",
            "\n",
            "EPOCH: 57\n"
          ]
        },
        {
          "output_type": "stream",
          "name": "stderr",
          "text": [
            "Train: Loss=0.9191 Batch_id=390 Accuracy=72.84: 100%|██████████| 391/391 [00:12<00:00, 30.83it/s]\n"
          ]
        },
        {
          "output_type": "stream",
          "name": "stdout",
          "text": [
            "Test set: Average loss: 0.5111, Accuracy: 8270/10000 (82.70%)\n",
            "\n",
            "EPOCH: 58\n"
          ]
        },
        {
          "output_type": "stream",
          "name": "stderr",
          "text": [
            "Train: Loss=0.6783 Batch_id=390 Accuracy=72.37: 100%|██████████| 391/391 [00:12<00:00, 31.31it/s]\n"
          ]
        },
        {
          "output_type": "stream",
          "name": "stdout",
          "text": [
            "Test set: Average loss: 0.4992, Accuracy: 8282/10000 (82.82%)\n",
            "\n",
            "EPOCH: 59\n"
          ]
        },
        {
          "output_type": "stream",
          "name": "stderr",
          "text": [
            "Train: Loss=0.7581 Batch_id=390 Accuracy=72.76: 100%|██████████| 391/391 [00:12<00:00, 30.95it/s]\n"
          ]
        },
        {
          "output_type": "stream",
          "name": "stdout",
          "text": [
            "Test set: Average loss: 0.4912, Accuracy: 8302/10000 (83.02%)\n",
            "\n",
            "EPOCH: 60\n"
          ]
        },
        {
          "output_type": "stream",
          "name": "stderr",
          "text": [
            "Train: Loss=0.9642 Batch_id=390 Accuracy=73.22: 100%|██████████| 391/391 [00:12<00:00, 30.98it/s]\n"
          ]
        },
        {
          "output_type": "stream",
          "name": "stdout",
          "text": [
            "Test set: Average loss: 0.4980, Accuracy: 8260/10000 (82.60%)\n",
            "\n",
            "EPOCH: 61\n"
          ]
        },
        {
          "output_type": "stream",
          "name": "stderr",
          "text": [
            "Train: Loss=0.7319 Batch_id=390 Accuracy=72.83: 100%|██████████| 391/391 [00:13<00:00, 28.90it/s]\n"
          ]
        },
        {
          "output_type": "stream",
          "name": "stdout",
          "text": [
            "Test set: Average loss: 0.4979, Accuracy: 8302/10000 (83.02%)\n",
            "\n",
            "EPOCH: 62\n"
          ]
        },
        {
          "output_type": "stream",
          "name": "stderr",
          "text": [
            "Train: Loss=0.7167 Batch_id=390 Accuracy=72.56: 100%|██████████| 391/391 [00:12<00:00, 31.20it/s]\n"
          ]
        },
        {
          "output_type": "stream",
          "name": "stdout",
          "text": [
            "Test set: Average loss: 0.4908, Accuracy: 8334/10000 (83.34%)\n",
            "\n",
            "EPOCH: 63\n"
          ]
        },
        {
          "output_type": "stream",
          "name": "stderr",
          "text": [
            "Train: Loss=1.0338 Batch_id=390 Accuracy=73.17: 100%|██████████| 391/391 [00:12<00:00, 31.08it/s]\n"
          ]
        },
        {
          "output_type": "stream",
          "name": "stdout",
          "text": [
            "Test set: Average loss: 0.4914, Accuracy: 8314/10000 (83.14%)\n",
            "\n",
            "EPOCH: 64\n"
          ]
        },
        {
          "output_type": "stream",
          "name": "stderr",
          "text": [
            "Train: Loss=0.8454 Batch_id=390 Accuracy=73.35: 100%|██████████| 391/391 [00:12<00:00, 30.99it/s]\n"
          ]
        },
        {
          "output_type": "stream",
          "name": "stdout",
          "text": [
            "Test set: Average loss: 0.4811, Accuracy: 8345/10000 (83.45%)\n",
            "\n",
            "EPOCH: 65\n"
          ]
        },
        {
          "output_type": "stream",
          "name": "stderr",
          "text": [
            "Train: Loss=0.8606 Batch_id=390 Accuracy=73.09: 100%|██████████| 391/391 [00:12<00:00, 30.68it/s]\n"
          ]
        },
        {
          "output_type": "stream",
          "name": "stdout",
          "text": [
            "Test set: Average loss: 0.4797, Accuracy: 8351/10000 (83.51%)\n",
            "\n",
            "EPOCH: 66\n"
          ]
        },
        {
          "output_type": "stream",
          "name": "stderr",
          "text": [
            "Train: Loss=0.7192 Batch_id=390 Accuracy=73.42: 100%|██████████| 391/391 [00:12<00:00, 30.71it/s]\n"
          ]
        },
        {
          "output_type": "stream",
          "name": "stdout",
          "text": [
            "Test set: Average loss: 0.4912, Accuracy: 8290/10000 (82.90%)\n",
            "\n",
            "EPOCH: 67\n"
          ]
        },
        {
          "output_type": "stream",
          "name": "stderr",
          "text": [
            "Train: Loss=0.6327 Batch_id=390 Accuracy=73.42: 100%|██████████| 391/391 [00:12<00:00, 30.87it/s]\n"
          ]
        },
        {
          "output_type": "stream",
          "name": "stdout",
          "text": [
            "Test set: Average loss: 0.4835, Accuracy: 8364/10000 (83.64%)\n",
            "\n",
            "EPOCH: 68\n"
          ]
        },
        {
          "output_type": "stream",
          "name": "stderr",
          "text": [
            "Train: Loss=0.7257 Batch_id=390 Accuracy=73.30: 100%|██████████| 391/391 [00:12<00:00, 30.93it/s]\n"
          ]
        },
        {
          "output_type": "stream",
          "name": "stdout",
          "text": [
            "Test set: Average loss: 0.4830, Accuracy: 8322/10000 (83.22%)\n",
            "\n",
            "EPOCH: 69\n"
          ]
        },
        {
          "output_type": "stream",
          "name": "stderr",
          "text": [
            "Train: Loss=0.9958 Batch_id=390 Accuracy=73.56: 100%|██████████| 391/391 [00:12<00:00, 30.63it/s]\n"
          ]
        },
        {
          "output_type": "stream",
          "name": "stdout",
          "text": [
            "Test set: Average loss: 0.4783, Accuracy: 8346/10000 (83.46%)\n",
            "\n",
            "EPOCH: 70\n"
          ]
        },
        {
          "output_type": "stream",
          "name": "stderr",
          "text": [
            "Train: Loss=0.7239 Batch_id=390 Accuracy=73.79: 100%|██████████| 391/391 [00:12<00:00, 30.86it/s]\n"
          ]
        },
        {
          "output_type": "stream",
          "name": "stdout",
          "text": [
            "Test set: Average loss: 0.4780, Accuracy: 8350/10000 (83.50%)\n",
            "\n",
            "EPOCH: 71\n"
          ]
        },
        {
          "output_type": "stream",
          "name": "stderr",
          "text": [
            "Train: Loss=0.8056 Batch_id=390 Accuracy=73.70: 100%|██████████| 391/391 [00:12<00:00, 30.99it/s]\n"
          ]
        },
        {
          "output_type": "stream",
          "name": "stdout",
          "text": [
            "Test set: Average loss: 0.4712, Accuracy: 8362/10000 (83.62%)\n",
            "\n",
            "EPOCH: 72\n"
          ]
        },
        {
          "output_type": "stream",
          "name": "stderr",
          "text": [
            "Train: Loss=0.6016 Batch_id=390 Accuracy=73.96: 100%|██████████| 391/391 [00:12<00:00, 30.43it/s]\n"
          ]
        },
        {
          "output_type": "stream",
          "name": "stdout",
          "text": [
            "Test set: Average loss: 0.4753, Accuracy: 8355/10000 (83.55%)\n",
            "\n",
            "EPOCH: 73\n"
          ]
        },
        {
          "output_type": "stream",
          "name": "stderr",
          "text": [
            "Train: Loss=0.6851 Batch_id=390 Accuracy=74.11: 100%|██████████| 391/391 [00:12<00:00, 31.01it/s]\n"
          ]
        },
        {
          "output_type": "stream",
          "name": "stdout",
          "text": [
            "Test set: Average loss: 0.4775, Accuracy: 8383/10000 (83.83%)\n",
            "\n",
            "EPOCH: 74\n"
          ]
        },
        {
          "output_type": "stream",
          "name": "stderr",
          "text": [
            "Train: Loss=0.8098 Batch_id=390 Accuracy=74.13: 100%|██████████| 391/391 [00:13<00:00, 28.80it/s]\n"
          ]
        },
        {
          "output_type": "stream",
          "name": "stdout",
          "text": [
            "Test set: Average loss: 0.4775, Accuracy: 8421/10000 (84.21%)\n",
            "\n",
            "EPOCH: 75\n"
          ]
        },
        {
          "output_type": "stream",
          "name": "stderr",
          "text": [
            "Train: Loss=0.7198 Batch_id=390 Accuracy=73.91: 100%|██████████| 391/391 [00:12<00:00, 30.89it/s]\n"
          ]
        },
        {
          "output_type": "stream",
          "name": "stdout",
          "text": [
            "Test set: Average loss: 0.4752, Accuracy: 8381/10000 (83.81%)\n",
            "\n",
            "EPOCH: 76\n"
          ]
        },
        {
          "output_type": "stream",
          "name": "stderr",
          "text": [
            "Train: Loss=0.5594 Batch_id=390 Accuracy=73.88: 100%|██████████| 391/391 [00:12<00:00, 31.01it/s]\n"
          ]
        },
        {
          "output_type": "stream",
          "name": "stdout",
          "text": [
            "Test set: Average loss: 0.4797, Accuracy: 8377/10000 (83.77%)\n",
            "\n",
            "EPOCH: 77\n"
          ]
        },
        {
          "output_type": "stream",
          "name": "stderr",
          "text": [
            "Train: Loss=0.7422 Batch_id=390 Accuracy=73.98: 100%|██████████| 391/391 [00:12<00:00, 30.31it/s]\n"
          ]
        },
        {
          "output_type": "stream",
          "name": "stdout",
          "text": [
            "Test set: Average loss: 0.4815, Accuracy: 8331/10000 (83.31%)\n",
            "\n",
            "EPOCH: 78\n"
          ]
        },
        {
          "output_type": "stream",
          "name": "stderr",
          "text": [
            "Train: Loss=1.0369 Batch_id=390 Accuracy=73.97: 100%|██████████| 391/391 [00:12<00:00, 30.71it/s]\n"
          ]
        },
        {
          "output_type": "stream",
          "name": "stdout",
          "text": [
            "Test set: Average loss: 0.4761, Accuracy: 8392/10000 (83.92%)\n",
            "\n",
            "EPOCH: 79\n"
          ]
        },
        {
          "output_type": "stream",
          "name": "stderr",
          "text": [
            "Train: Loss=0.7195 Batch_id=390 Accuracy=74.23: 100%|██████████| 391/391 [00:12<00:00, 30.41it/s]\n"
          ]
        },
        {
          "output_type": "stream",
          "name": "stdout",
          "text": [
            "Test set: Average loss: 0.4753, Accuracy: 8366/10000 (83.66%)\n",
            "\n",
            "EPOCH: 80\n"
          ]
        },
        {
          "output_type": "stream",
          "name": "stderr",
          "text": [
            "Train: Loss=0.7563 Batch_id=390 Accuracy=74.09: 100%|██████████| 391/391 [00:12<00:00, 30.79it/s]\n"
          ]
        },
        {
          "output_type": "stream",
          "name": "stdout",
          "text": [
            "Test set: Average loss: 0.4706, Accuracy: 8372/10000 (83.72%)\n",
            "\n",
            "EPOCH: 81\n"
          ]
        },
        {
          "output_type": "stream",
          "name": "stderr",
          "text": [
            "Train: Loss=0.7961 Batch_id=390 Accuracy=74.34: 100%|██████████| 391/391 [00:12<00:00, 30.58it/s]\n"
          ]
        },
        {
          "output_type": "stream",
          "name": "stdout",
          "text": [
            "Test set: Average loss: 0.4726, Accuracy: 8378/10000 (83.78%)\n",
            "\n",
            "EPOCH: 82\n"
          ]
        },
        {
          "output_type": "stream",
          "name": "stderr",
          "text": [
            "Train: Loss=0.7926 Batch_id=390 Accuracy=74.54: 100%|██████████| 391/391 [00:12<00:00, 30.86it/s]\n"
          ]
        },
        {
          "output_type": "stream",
          "name": "stdout",
          "text": [
            "Test set: Average loss: 0.4827, Accuracy: 8343/10000 (83.43%)\n",
            "\n",
            "EPOCH: 83\n"
          ]
        },
        {
          "output_type": "stream",
          "name": "stderr",
          "text": [
            "Train: Loss=0.8281 Batch_id=390 Accuracy=74.13: 100%|██████████| 391/391 [00:12<00:00, 30.41it/s]\n"
          ]
        },
        {
          "output_type": "stream",
          "name": "stdout",
          "text": [
            "Test set: Average loss: 0.4710, Accuracy: 8388/10000 (83.88%)\n",
            "\n",
            "EPOCH: 84\n"
          ]
        },
        {
          "output_type": "stream",
          "name": "stderr",
          "text": [
            "Train: Loss=0.6925 Batch_id=390 Accuracy=74.37: 100%|██████████| 391/391 [00:12<00:00, 30.76it/s]\n"
          ]
        },
        {
          "output_type": "stream",
          "name": "stdout",
          "text": [
            "Test set: Average loss: 0.4715, Accuracy: 8411/10000 (84.11%)\n",
            "\n",
            "EPOCH: 85\n"
          ]
        },
        {
          "output_type": "stream",
          "name": "stderr",
          "text": [
            "Train: Loss=0.7455 Batch_id=390 Accuracy=74.40: 100%|██████████| 391/391 [00:12<00:00, 30.18it/s]\n"
          ]
        },
        {
          "output_type": "stream",
          "name": "stdout",
          "text": [
            "Test set: Average loss: 0.4773, Accuracy: 8347/10000 (83.47%)\n",
            "\n",
            "EPOCH: 86\n"
          ]
        },
        {
          "output_type": "stream",
          "name": "stderr",
          "text": [
            "Train: Loss=0.8835 Batch_id=390 Accuracy=74.68: 100%|██████████| 391/391 [00:13<00:00, 29.78it/s]\n"
          ]
        },
        {
          "output_type": "stream",
          "name": "stdout",
          "text": [
            "Test set: Average loss: 0.4668, Accuracy: 8392/10000 (83.92%)\n",
            "\n",
            "EPOCH: 87\n"
          ]
        },
        {
          "output_type": "stream",
          "name": "stderr",
          "text": [
            "Train: Loss=0.7354 Batch_id=390 Accuracy=74.74: 100%|██████████| 391/391 [00:12<00:00, 30.80it/s]\n"
          ]
        },
        {
          "output_type": "stream",
          "name": "stdout",
          "text": [
            "Test set: Average loss: 0.4710, Accuracy: 8355/10000 (83.55%)\n",
            "\n",
            "EPOCH: 88\n"
          ]
        },
        {
          "output_type": "stream",
          "name": "stderr",
          "text": [
            "Train: Loss=0.9301 Batch_id=390 Accuracy=74.30: 100%|██████████| 391/391 [00:12<00:00, 30.79it/s]\n"
          ]
        },
        {
          "output_type": "stream",
          "name": "stdout",
          "text": [
            "Test set: Average loss: 0.4535, Accuracy: 8482/10000 (84.82%)\n",
            "\n",
            "EPOCH: 89\n"
          ]
        },
        {
          "output_type": "stream",
          "name": "stderr",
          "text": [
            "Train: Loss=1.1251 Batch_id=390 Accuracy=74.80: 100%|██████████| 391/391 [00:12<00:00, 30.62it/s]\n"
          ]
        },
        {
          "output_type": "stream",
          "name": "stdout",
          "text": [
            "Test set: Average loss: 0.4638, Accuracy: 8429/10000 (84.29%)\n",
            "\n",
            "EPOCH: 90\n"
          ]
        },
        {
          "output_type": "stream",
          "name": "stderr",
          "text": [
            "Train: Loss=0.6759 Batch_id=390 Accuracy=74.65: 100%|██████████| 391/391 [00:12<00:00, 30.51it/s]\n"
          ]
        },
        {
          "output_type": "stream",
          "name": "stdout",
          "text": [
            "Test set: Average loss: 0.4612, Accuracy: 8408/10000 (84.08%)\n",
            "\n",
            "EPOCH: 91\n"
          ]
        },
        {
          "output_type": "stream",
          "name": "stderr",
          "text": [
            "Train: Loss=0.6811 Batch_id=390 Accuracy=74.68: 100%|██████████| 391/391 [00:12<00:00, 30.69it/s]\n"
          ]
        },
        {
          "output_type": "stream",
          "name": "stdout",
          "text": [
            "Test set: Average loss: 0.4731, Accuracy: 8394/10000 (83.94%)\n",
            "\n",
            "EPOCH: 92\n"
          ]
        },
        {
          "output_type": "stream",
          "name": "stderr",
          "text": [
            "Train: Loss=0.5381 Batch_id=390 Accuracy=74.70: 100%|██████████| 391/391 [00:12<00:00, 30.78it/s]\n"
          ]
        },
        {
          "output_type": "stream",
          "name": "stdout",
          "text": [
            "Test set: Average loss: 0.4518, Accuracy: 8458/10000 (84.58%)\n",
            "\n",
            "EPOCH: 93\n"
          ]
        },
        {
          "output_type": "stream",
          "name": "stderr",
          "text": [
            "Train: Loss=0.6842 Batch_id=390 Accuracy=74.63: 100%|██████████| 391/391 [00:12<00:00, 31.04it/s]\n"
          ]
        },
        {
          "output_type": "stream",
          "name": "stdout",
          "text": [
            "Test set: Average loss: 0.4598, Accuracy: 8417/10000 (84.17%)\n",
            "\n",
            "EPOCH: 94\n"
          ]
        },
        {
          "output_type": "stream",
          "name": "stderr",
          "text": [
            "Train: Loss=0.5954 Batch_id=390 Accuracy=74.77: 100%|██████████| 391/391 [00:12<00:00, 30.73it/s]\n"
          ]
        },
        {
          "output_type": "stream",
          "name": "stdout",
          "text": [
            "Test set: Average loss: 0.4548, Accuracy: 8460/10000 (84.60%)\n",
            "\n",
            "EPOCH: 95\n"
          ]
        },
        {
          "output_type": "stream",
          "name": "stderr",
          "text": [
            "Train: Loss=0.6208 Batch_id=390 Accuracy=74.98: 100%|██████████| 391/391 [00:12<00:00, 30.78it/s]\n"
          ]
        },
        {
          "output_type": "stream",
          "name": "stdout",
          "text": [
            "Test set: Average loss: 0.4537, Accuracy: 8461/10000 (84.61%)\n",
            "\n",
            "EPOCH: 96\n"
          ]
        },
        {
          "output_type": "stream",
          "name": "stderr",
          "text": [
            "Train: Loss=0.6230 Batch_id=390 Accuracy=74.71: 100%|██████████| 391/391 [00:12<00:00, 30.69it/s]\n"
          ]
        },
        {
          "output_type": "stream",
          "name": "stdout",
          "text": [
            "Test set: Average loss: 0.4668, Accuracy: 8402/10000 (84.02%)\n",
            "\n",
            "EPOCH: 97\n"
          ]
        },
        {
          "output_type": "stream",
          "name": "stderr",
          "text": [
            "Train: Loss=0.7892 Batch_id=390 Accuracy=75.02: 100%|██████████| 391/391 [00:13<00:00, 29.87it/s]\n"
          ]
        },
        {
          "output_type": "stream",
          "name": "stdout",
          "text": [
            "Test set: Average loss: 0.4600, Accuracy: 8465/10000 (84.65%)\n",
            "\n",
            "EPOCH: 98\n"
          ]
        },
        {
          "output_type": "stream",
          "name": "stderr",
          "text": [
            "Train: Loss=0.6684 Batch_id=390 Accuracy=74.98: 100%|██████████| 391/391 [00:12<00:00, 30.77it/s]\n"
          ]
        },
        {
          "output_type": "stream",
          "name": "stdout",
          "text": [
            "Test set: Average loss: 0.4574, Accuracy: 8419/10000 (84.19%)\n",
            "\n",
            "EPOCH: 99\n"
          ]
        },
        {
          "output_type": "stream",
          "name": "stderr",
          "text": [
            "Train: Loss=0.7759 Batch_id=390 Accuracy=75.41: 100%|██████████| 391/391 [00:13<00:00, 28.84it/s]\n"
          ]
        },
        {
          "output_type": "stream",
          "name": "stdout",
          "text": [
            "Test set: Average loss: 0.4547, Accuracy: 8444/10000 (84.44%)\n",
            "\n",
            "EPOCH: 100\n"
          ]
        },
        {
          "output_type": "stream",
          "name": "stderr",
          "text": [
            "Train: Loss=0.7064 Batch_id=390 Accuracy=75.09: 100%|██████████| 391/391 [00:12<00:00, 30.84it/s]\n"
          ]
        },
        {
          "output_type": "stream",
          "name": "stdout",
          "text": [
            "Test set: Average loss: 0.4531, Accuracy: 8463/10000 (84.63%)\n",
            "\n",
            "EPOCH: 101\n"
          ]
        },
        {
          "output_type": "stream",
          "name": "stderr",
          "text": [
            "Train: Loss=0.7833 Batch_id=390 Accuracy=75.35: 100%|██████████| 391/391 [00:12<00:00, 30.41it/s]\n"
          ]
        },
        {
          "output_type": "stream",
          "name": "stdout",
          "text": [
            "Test set: Average loss: 0.4555, Accuracy: 8437/10000 (84.37%)\n",
            "\n",
            "EPOCH: 102\n"
          ]
        },
        {
          "output_type": "stream",
          "name": "stderr",
          "text": [
            "Train: Loss=0.7029 Batch_id=390 Accuracy=75.13: 100%|██████████| 391/391 [00:12<00:00, 30.85it/s]\n"
          ]
        },
        {
          "output_type": "stream",
          "name": "stdout",
          "text": [
            "Test set: Average loss: 0.4588, Accuracy: 8455/10000 (84.55%)\n",
            "\n",
            "EPOCH: 103\n"
          ]
        },
        {
          "output_type": "stream",
          "name": "stderr",
          "text": [
            "Train: Loss=0.8323 Batch_id=390 Accuracy=75.31: 100%|██████████| 391/391 [00:12<00:00, 30.30it/s]\n"
          ]
        },
        {
          "output_type": "stream",
          "name": "stdout",
          "text": [
            "Test set: Average loss: 0.4522, Accuracy: 8461/10000 (84.61%)\n",
            "\n",
            "EPOCH: 104\n"
          ]
        },
        {
          "output_type": "stream",
          "name": "stderr",
          "text": [
            "Train: Loss=0.8568 Batch_id=390 Accuracy=75.15: 100%|██████████| 391/391 [00:12<00:00, 30.73it/s]\n"
          ]
        },
        {
          "output_type": "stream",
          "name": "stdout",
          "text": [
            "Test set: Average loss: 0.4451, Accuracy: 8475/10000 (84.75%)\n",
            "\n",
            "EPOCH: 105\n"
          ]
        },
        {
          "output_type": "stream",
          "name": "stderr",
          "text": [
            "Train: Loss=0.6902 Batch_id=390 Accuracy=75.55: 100%|██████████| 391/391 [00:13<00:00, 29.91it/s]\n"
          ]
        },
        {
          "output_type": "stream",
          "name": "stdout",
          "text": [
            "Test set: Average loss: 0.4479, Accuracy: 8481/10000 (84.81%)\n",
            "\n",
            "EPOCH: 106\n"
          ]
        },
        {
          "output_type": "stream",
          "name": "stderr",
          "text": [
            "Train: Loss=0.5851 Batch_id=390 Accuracy=75.41: 100%|██████████| 391/391 [00:12<00:00, 30.92it/s]\n"
          ]
        },
        {
          "output_type": "stream",
          "name": "stdout",
          "text": [
            "Test set: Average loss: 0.4461, Accuracy: 8491/10000 (84.91%)\n",
            "\n",
            "EPOCH: 107\n"
          ]
        },
        {
          "output_type": "stream",
          "name": "stderr",
          "text": [
            "Train: Loss=0.7179 Batch_id=390 Accuracy=75.34: 100%|██████████| 391/391 [00:12<00:00, 30.41it/s]\n"
          ]
        },
        {
          "output_type": "stream",
          "name": "stdout",
          "text": [
            "Test set: Average loss: 0.4570, Accuracy: 8444/10000 (84.44%)\n",
            "\n",
            "EPOCH: 108\n"
          ]
        },
        {
          "output_type": "stream",
          "name": "stderr",
          "text": [
            "Train: Loss=0.9187 Batch_id=390 Accuracy=75.49: 100%|██████████| 391/391 [00:12<00:00, 30.31it/s]\n"
          ]
        },
        {
          "output_type": "stream",
          "name": "stdout",
          "text": [
            "Test set: Average loss: 0.4425, Accuracy: 8488/10000 (84.88%)\n",
            "\n",
            "EPOCH: 109\n"
          ]
        },
        {
          "output_type": "stream",
          "name": "stderr",
          "text": [
            "Train: Loss=0.7004 Batch_id=390 Accuracy=75.47: 100%|██████████| 391/391 [00:12<00:00, 30.89it/s]\n"
          ]
        },
        {
          "output_type": "stream",
          "name": "stdout",
          "text": [
            "Test set: Average loss: 0.4500, Accuracy: 8461/10000 (84.61%)\n",
            "\n",
            "EPOCH: 110\n"
          ]
        },
        {
          "output_type": "stream",
          "name": "stderr",
          "text": [
            "Train: Loss=0.4990 Batch_id=390 Accuracy=75.46: 100%|██████████| 391/391 [00:12<00:00, 30.43it/s]\n"
          ]
        },
        {
          "output_type": "stream",
          "name": "stdout",
          "text": [
            "Test set: Average loss: 0.4412, Accuracy: 8501/10000 (85.01%)\n",
            "\n",
            "EPOCH: 111\n"
          ]
        },
        {
          "output_type": "stream",
          "name": "stderr",
          "text": [
            "Train: Loss=0.8012 Batch_id=390 Accuracy=75.69: 100%|██████████| 391/391 [00:13<00:00, 28.91it/s]\n"
          ]
        },
        {
          "output_type": "stream",
          "name": "stdout",
          "text": [
            "Test set: Average loss: 0.4504, Accuracy: 8487/10000 (84.87%)\n",
            "\n",
            "EPOCH: 112\n"
          ]
        },
        {
          "output_type": "stream",
          "name": "stderr",
          "text": [
            "Train: Loss=0.7314 Batch_id=390 Accuracy=75.50: 100%|██████████| 391/391 [00:12<00:00, 30.55it/s]\n"
          ]
        },
        {
          "output_type": "stream",
          "name": "stdout",
          "text": [
            "Test set: Average loss: 0.4348, Accuracy: 8539/10000 (85.39%)\n",
            "\n",
            "EPOCH: 113\n"
          ]
        },
        {
          "output_type": "stream",
          "name": "stderr",
          "text": [
            "Train: Loss=0.6345 Batch_id=390 Accuracy=75.85: 100%|██████████| 391/391 [00:12<00:00, 30.36it/s]\n"
          ]
        },
        {
          "output_type": "stream",
          "name": "stdout",
          "text": [
            "Test set: Average loss: 0.4510, Accuracy: 8471/10000 (84.71%)\n",
            "\n",
            "EPOCH: 114\n"
          ]
        },
        {
          "output_type": "stream",
          "name": "stderr",
          "text": [
            "Train: Loss=0.8598 Batch_id=390 Accuracy=75.45: 100%|██████████| 391/391 [00:12<00:00, 30.27it/s]\n"
          ]
        },
        {
          "output_type": "stream",
          "name": "stdout",
          "text": [
            "Test set: Average loss: 0.4409, Accuracy: 8485/10000 (84.85%)\n",
            "\n",
            "EPOCH: 115\n"
          ]
        },
        {
          "output_type": "stream",
          "name": "stderr",
          "text": [
            "Train: Loss=0.7085 Batch_id=390 Accuracy=75.49: 100%|██████████| 391/391 [00:12<00:00, 30.95it/s]\n"
          ]
        },
        {
          "output_type": "stream",
          "name": "stdout",
          "text": [
            "Test set: Average loss: 0.4421, Accuracy: 8485/10000 (84.85%)\n",
            "\n",
            "EPOCH: 116\n"
          ]
        },
        {
          "output_type": "stream",
          "name": "stderr",
          "text": [
            "Train: Loss=0.7633 Batch_id=390 Accuracy=75.44: 100%|██████████| 391/391 [00:12<00:00, 30.28it/s]\n"
          ]
        },
        {
          "output_type": "stream",
          "name": "stdout",
          "text": [
            "Test set: Average loss: 0.4326, Accuracy: 8556/10000 (85.56%)\n",
            "\n",
            "EPOCH: 117\n"
          ]
        },
        {
          "output_type": "stream",
          "name": "stderr",
          "text": [
            "Train: Loss=0.7773 Batch_id=390 Accuracy=75.55: 100%|██████████| 391/391 [00:12<00:00, 30.75it/s]\n"
          ]
        },
        {
          "output_type": "stream",
          "name": "stdout",
          "text": [
            "Test set: Average loss: 0.4454, Accuracy: 8497/10000 (84.97%)\n",
            "\n",
            "EPOCH: 118\n"
          ]
        },
        {
          "output_type": "stream",
          "name": "stderr",
          "text": [
            "Train: Loss=0.8632 Batch_id=390 Accuracy=75.76: 100%|██████████| 391/391 [00:12<00:00, 30.74it/s]\n"
          ]
        },
        {
          "output_type": "stream",
          "name": "stdout",
          "text": [
            "Test set: Average loss: 0.4422, Accuracy: 8502/10000 (85.02%)\n",
            "\n",
            "EPOCH: 119\n"
          ]
        },
        {
          "output_type": "stream",
          "name": "stderr",
          "text": [
            "Train: Loss=0.8671 Batch_id=390 Accuracy=75.73: 100%|██████████| 391/391 [00:12<00:00, 30.39it/s]\n"
          ]
        },
        {
          "output_type": "stream",
          "name": "stdout",
          "text": [
            "Test set: Average loss: 0.4395, Accuracy: 8502/10000 (85.02%)\n",
            "\n",
            "EPOCH: 120\n"
          ]
        },
        {
          "output_type": "stream",
          "name": "stderr",
          "text": [
            "Train: Loss=0.6892 Batch_id=390 Accuracy=75.72: 100%|██████████| 391/391 [00:12<00:00, 30.29it/s]\n"
          ]
        },
        {
          "output_type": "stream",
          "name": "stdout",
          "text": [
            "Test set: Average loss: 0.4325, Accuracy: 8518/10000 (85.18%)\n",
            "\n",
            "EPOCH: 121\n"
          ]
        },
        {
          "output_type": "stream",
          "name": "stderr",
          "text": [
            "Train: Loss=0.6126 Batch_id=390 Accuracy=75.66: 100%|██████████| 391/391 [00:13<00:00, 29.92it/s]\n"
          ]
        },
        {
          "output_type": "stream",
          "name": "stdout",
          "text": [
            "Test set: Average loss: 0.4361, Accuracy: 8533/10000 (85.33%)\n",
            "\n",
            "EPOCH: 122\n"
          ]
        },
        {
          "output_type": "stream",
          "name": "stderr",
          "text": [
            "Train: Loss=0.7590 Batch_id=390 Accuracy=75.89: 100%|██████████| 391/391 [00:13<00:00, 29.48it/s]\n"
          ]
        },
        {
          "output_type": "stream",
          "name": "stdout",
          "text": [
            "Test set: Average loss: 0.4434, Accuracy: 8498/10000 (84.98%)\n",
            "\n",
            "EPOCH: 123\n"
          ]
        },
        {
          "output_type": "stream",
          "name": "stderr",
          "text": [
            "Train: Loss=0.6684 Batch_id=390 Accuracy=75.84: 100%|██████████| 391/391 [00:13<00:00, 29.32it/s]\n"
          ]
        },
        {
          "output_type": "stream",
          "name": "stdout",
          "text": [
            "Test set: Average loss: 0.4332, Accuracy: 8498/10000 (84.98%)\n",
            "\n",
            "EPOCH: 124\n"
          ]
        },
        {
          "output_type": "stream",
          "name": "stderr",
          "text": [
            "Train: Loss=0.8174 Batch_id=390 Accuracy=75.84: 100%|██████████| 391/391 [00:13<00:00, 29.57it/s]\n"
          ]
        },
        {
          "output_type": "stream",
          "name": "stdout",
          "text": [
            "Test set: Average loss: 0.4357, Accuracy: 8511/10000 (85.11%)\n",
            "\n",
            "EPOCH: 125\n"
          ]
        },
        {
          "output_type": "stream",
          "name": "stderr",
          "text": [
            "Train: Loss=0.5460 Batch_id=390 Accuracy=76.04: 100%|██████████| 391/391 [00:13<00:00, 29.44it/s]\n"
          ]
        },
        {
          "output_type": "stream",
          "name": "stdout",
          "text": [
            "Test set: Average loss: 0.4354, Accuracy: 8548/10000 (85.48%)\n",
            "\n",
            "EPOCH: 126\n"
          ]
        },
        {
          "output_type": "stream",
          "name": "stderr",
          "text": [
            "Train: Loss=0.5915 Batch_id=390 Accuracy=75.70: 100%|██████████| 391/391 [00:13<00:00, 29.71it/s]\n"
          ]
        },
        {
          "output_type": "stream",
          "name": "stdout",
          "text": [
            "Test set: Average loss: 0.4315, Accuracy: 8520/10000 (85.20%)\n",
            "\n",
            "EPOCH: 127\n"
          ]
        },
        {
          "output_type": "stream",
          "name": "stderr",
          "text": [
            "Train: Loss=0.6527 Batch_id=390 Accuracy=75.88: 100%|██████████| 391/391 [00:12<00:00, 30.15it/s]\n"
          ]
        },
        {
          "output_type": "stream",
          "name": "stdout",
          "text": [
            "Test set: Average loss: 0.4403, Accuracy: 8526/10000 (85.26%)\n",
            "\n",
            "EPOCH: 128\n"
          ]
        },
        {
          "output_type": "stream",
          "name": "stderr",
          "text": [
            "Train: Loss=0.6410 Batch_id=390 Accuracy=76.19: 100%|██████████| 391/391 [00:12<00:00, 30.77it/s]\n"
          ]
        },
        {
          "output_type": "stream",
          "name": "stdout",
          "text": [
            "Test set: Average loss: 0.4311, Accuracy: 8512/10000 (85.12%)\n",
            "\n",
            "EPOCH: 129\n"
          ]
        },
        {
          "output_type": "stream",
          "name": "stderr",
          "text": [
            "Train: Loss=0.6905 Batch_id=390 Accuracy=76.17: 100%|██████████| 391/391 [00:13<00:00, 30.06it/s]\n"
          ]
        },
        {
          "output_type": "stream",
          "name": "stdout",
          "text": [
            "Test set: Average loss: 0.4414, Accuracy: 8484/10000 (84.84%)\n",
            "\n",
            "EPOCH: 130\n"
          ]
        },
        {
          "output_type": "stream",
          "name": "stderr",
          "text": [
            "Train: Loss=0.7181 Batch_id=390 Accuracy=76.16: 100%|██████████| 391/391 [00:12<00:00, 30.44it/s]\n"
          ]
        },
        {
          "output_type": "stream",
          "name": "stdout",
          "text": [
            "Test set: Average loss: 0.4306, Accuracy: 8556/10000 (85.56%)\n",
            "\n",
            "EPOCH: 131\n"
          ]
        },
        {
          "output_type": "stream",
          "name": "stderr",
          "text": [
            "Train: Loss=0.6048 Batch_id=390 Accuracy=76.17: 100%|██████████| 391/391 [00:12<00:00, 30.77it/s]\n"
          ]
        },
        {
          "output_type": "stream",
          "name": "stdout",
          "text": [
            "Test set: Average loss: 0.4268, Accuracy: 8540/10000 (85.40%)\n",
            "\n",
            "EPOCH: 132\n"
          ]
        },
        {
          "output_type": "stream",
          "name": "stderr",
          "text": [
            "Train: Loss=0.7091 Batch_id=390 Accuracy=76.23: 100%|██████████| 391/391 [00:12<00:00, 30.62it/s]\n"
          ]
        },
        {
          "output_type": "stream",
          "name": "stdout",
          "text": [
            "Test set: Average loss: 0.4307, Accuracy: 8515/10000 (85.15%)\n",
            "\n",
            "EPOCH: 133\n"
          ]
        },
        {
          "output_type": "stream",
          "name": "stderr",
          "text": [
            "Train: Loss=0.7174 Batch_id=390 Accuracy=76.20: 100%|██████████| 391/391 [00:12<00:00, 30.57it/s]\n"
          ]
        },
        {
          "output_type": "stream",
          "name": "stdout",
          "text": [
            "Test set: Average loss: 0.4356, Accuracy: 8513/10000 (85.13%)\n",
            "\n",
            "EPOCH: 134\n"
          ]
        },
        {
          "output_type": "stream",
          "name": "stderr",
          "text": [
            "Train: Loss=0.7552 Batch_id=390 Accuracy=76.09: 100%|██████████| 391/391 [00:12<00:00, 30.54it/s]\n"
          ]
        },
        {
          "output_type": "stream",
          "name": "stdout",
          "text": [
            "Test set: Average loss: 0.4380, Accuracy: 8484/10000 (84.84%)\n",
            "\n",
            "EPOCH: 135\n"
          ]
        },
        {
          "output_type": "stream",
          "name": "stderr",
          "text": [
            "Train: Loss=0.7112 Batch_id=390 Accuracy=76.28: 100%|██████████| 391/391 [00:12<00:00, 30.62it/s]\n"
          ]
        },
        {
          "output_type": "stream",
          "name": "stdout",
          "text": [
            "Test set: Average loss: 0.4287, Accuracy: 8563/10000 (85.63%)\n",
            "\n",
            "EPOCH: 136\n"
          ]
        },
        {
          "output_type": "stream",
          "name": "stderr",
          "text": [
            "Train: Loss=0.6255 Batch_id=390 Accuracy=76.25: 100%|██████████| 391/391 [00:13<00:00, 28.65it/s]\n"
          ]
        },
        {
          "output_type": "stream",
          "name": "stdout",
          "text": [
            "Test set: Average loss: 0.4297, Accuracy: 8530/10000 (85.30%)\n",
            "\n",
            "EPOCH: 137\n"
          ]
        },
        {
          "output_type": "stream",
          "name": "stderr",
          "text": [
            "Train: Loss=0.7194 Batch_id=390 Accuracy=76.23: 100%|██████████| 391/391 [00:12<00:00, 30.62it/s]\n"
          ]
        },
        {
          "output_type": "stream",
          "name": "stdout",
          "text": [
            "Test set: Average loss: 0.4334, Accuracy: 8514/10000 (85.14%)\n",
            "\n",
            "EPOCH: 138\n"
          ]
        },
        {
          "output_type": "stream",
          "name": "stderr",
          "text": [
            "Train: Loss=0.7076 Batch_id=390 Accuracy=76.66: 100%|██████████| 391/391 [00:13<00:00, 29.94it/s]\n"
          ]
        },
        {
          "output_type": "stream",
          "name": "stdout",
          "text": [
            "Test set: Average loss: 0.4335, Accuracy: 8530/10000 (85.30%)\n",
            "\n",
            "EPOCH: 139\n"
          ]
        },
        {
          "output_type": "stream",
          "name": "stderr",
          "text": [
            "Train: Loss=0.6897 Batch_id=390 Accuracy=76.43: 100%|██████████| 391/391 [00:12<00:00, 30.09it/s]\n"
          ]
        },
        {
          "output_type": "stream",
          "name": "stdout",
          "text": [
            "Test set: Average loss: 0.4347, Accuracy: 8536/10000 (85.36%)\n",
            "\n",
            "EPOCH: 140\n"
          ]
        },
        {
          "output_type": "stream",
          "name": "stderr",
          "text": [
            "Train: Loss=0.4626 Batch_id=390 Accuracy=76.54: 100%|██████████| 391/391 [00:12<00:00, 30.52it/s]\n"
          ]
        },
        {
          "output_type": "stream",
          "name": "stdout",
          "text": [
            "Test set: Average loss: 0.4345, Accuracy: 8533/10000 (85.33%)\n",
            "\n",
            "EPOCH: 141\n"
          ]
        },
        {
          "output_type": "stream",
          "name": "stderr",
          "text": [
            "Train: Loss=0.6810 Batch_id=390 Accuracy=76.45: 100%|██████████| 391/391 [00:12<00:00, 31.18it/s]\n"
          ]
        },
        {
          "output_type": "stream",
          "name": "stdout",
          "text": [
            "Test set: Average loss: 0.4431, Accuracy: 8515/10000 (85.15%)\n",
            "\n",
            "EPOCH: 142\n"
          ]
        },
        {
          "output_type": "stream",
          "name": "stderr",
          "text": [
            "Train: Loss=0.7417 Batch_id=390 Accuracy=76.36: 100%|██████████| 391/391 [00:12<00:00, 30.91it/s]\n"
          ]
        },
        {
          "output_type": "stream",
          "name": "stdout",
          "text": [
            "Test set: Average loss: 0.4386, Accuracy: 8497/10000 (84.97%)\n",
            "\n",
            "EPOCH: 143\n"
          ]
        },
        {
          "output_type": "stream",
          "name": "stderr",
          "text": [
            "Train: Loss=0.4236 Batch_id=390 Accuracy=76.39: 100%|██████████| 391/391 [00:13<00:00, 29.99it/s]\n"
          ]
        },
        {
          "output_type": "stream",
          "name": "stdout",
          "text": [
            "Test set: Average loss: 0.4314, Accuracy: 8523/10000 (85.23%)\n",
            "\n",
            "EPOCH: 144\n"
          ]
        },
        {
          "output_type": "stream",
          "name": "stderr",
          "text": [
            "Train: Loss=0.4800 Batch_id=390 Accuracy=76.39: 100%|██████████| 391/391 [00:12<00:00, 30.72it/s]\n"
          ]
        },
        {
          "output_type": "stream",
          "name": "stdout",
          "text": [
            "Test set: Average loss: 0.4276, Accuracy: 8530/10000 (85.30%)\n",
            "\n",
            "EPOCH: 145\n"
          ]
        },
        {
          "output_type": "stream",
          "name": "stderr",
          "text": [
            "Train: Loss=0.7815 Batch_id=390 Accuracy=76.66: 100%|██████████| 391/391 [00:12<00:00, 30.27it/s]\n"
          ]
        },
        {
          "output_type": "stream",
          "name": "stdout",
          "text": [
            "Test set: Average loss: 0.4287, Accuracy: 8551/10000 (85.51%)\n",
            "\n",
            "EPOCH: 146\n"
          ]
        },
        {
          "output_type": "stream",
          "name": "stderr",
          "text": [
            "Train: Loss=0.6381 Batch_id=390 Accuracy=76.67: 100%|██████████| 391/391 [00:12<00:00, 30.56it/s]\n"
          ]
        },
        {
          "output_type": "stream",
          "name": "stdout",
          "text": [
            "Test set: Average loss: 0.4255, Accuracy: 8541/10000 (85.41%)\n",
            "\n",
            "EPOCH: 147\n"
          ]
        },
        {
          "output_type": "stream",
          "name": "stderr",
          "text": [
            "Train: Loss=0.7791 Batch_id=390 Accuracy=76.58: 100%|██████████| 391/391 [00:12<00:00, 30.35it/s]\n"
          ]
        },
        {
          "output_type": "stream",
          "name": "stdout",
          "text": [
            "Test set: Average loss: 0.4303, Accuracy: 8543/10000 (85.43%)\n",
            "\n",
            "EPOCH: 148\n"
          ]
        },
        {
          "output_type": "stream",
          "name": "stderr",
          "text": [
            "Train: Loss=0.7308 Batch_id=390 Accuracy=76.82: 100%|██████████| 391/391 [00:13<00:00, 29.12it/s]\n"
          ]
        },
        {
          "output_type": "stream",
          "name": "stdout",
          "text": [
            "Test set: Average loss: 0.4363, Accuracy: 8521/10000 (85.21%)\n",
            "\n",
            "EPOCH: 149\n"
          ]
        },
        {
          "output_type": "stream",
          "name": "stderr",
          "text": [
            "Train: Loss=0.6526 Batch_id=390 Accuracy=76.64: 100%|██████████| 391/391 [00:13<00:00, 29.59it/s]\n"
          ]
        },
        {
          "output_type": "stream",
          "name": "stdout",
          "text": [
            "Test set: Average loss: 0.4339, Accuracy: 8525/10000 (85.25%)\n",
            "\n",
            "EPOCH: 150\n"
          ]
        },
        {
          "output_type": "stream",
          "name": "stderr",
          "text": [
            "Train: Loss=0.7812 Batch_id=390 Accuracy=76.85: 100%|██████████| 391/391 [00:12<00:00, 30.14it/s]\n"
          ]
        },
        {
          "output_type": "stream",
          "name": "stdout",
          "text": [
            "Test set: Average loss: 0.4362, Accuracy: 8515/10000 (85.15%)\n",
            "\n",
            "EPOCH: 151\n"
          ]
        },
        {
          "output_type": "stream",
          "name": "stderr",
          "text": [
            "Train: Loss=0.5886 Batch_id=390 Accuracy=76.62: 100%|██████████| 391/391 [00:13<00:00, 30.03it/s]\n"
          ]
        },
        {
          "output_type": "stream",
          "name": "stdout",
          "text": [
            "Test set: Average loss: 0.4229, Accuracy: 8589/10000 (85.89%)\n",
            "\n",
            "EPOCH: 152\n"
          ]
        },
        {
          "output_type": "stream",
          "name": "stderr",
          "text": [
            "Train: Loss=0.6219 Batch_id=390 Accuracy=76.91: 100%|██████████| 391/391 [00:12<00:00, 30.29it/s]\n"
          ]
        },
        {
          "output_type": "stream",
          "name": "stdout",
          "text": [
            "Test set: Average loss: 0.4251, Accuracy: 8527/10000 (85.27%)\n",
            "\n",
            "EPOCH: 153\n"
          ]
        },
        {
          "output_type": "stream",
          "name": "stderr",
          "text": [
            "Train: Loss=0.6549 Batch_id=390 Accuracy=76.93: 100%|██████████| 391/391 [00:12<00:00, 30.84it/s]\n"
          ]
        },
        {
          "output_type": "stream",
          "name": "stdout",
          "text": [
            "Test set: Average loss: 0.4348, Accuracy: 8520/10000 (85.20%)\n",
            "\n",
            "EPOCH: 154\n"
          ]
        },
        {
          "output_type": "stream",
          "name": "stderr",
          "text": [
            "Train: Loss=0.5430 Batch_id=390 Accuracy=76.73: 100%|██████████| 391/391 [00:12<00:00, 30.42it/s]\n"
          ]
        },
        {
          "output_type": "stream",
          "name": "stdout",
          "text": [
            "Test set: Average loss: 0.4340, Accuracy: 8525/10000 (85.25%)\n",
            "\n",
            "EPOCH: 155\n"
          ]
        },
        {
          "output_type": "stream",
          "name": "stderr",
          "text": [
            "Train: Loss=0.7013 Batch_id=390 Accuracy=76.97: 100%|██████████| 391/391 [00:12<00:00, 30.51it/s]\n"
          ]
        },
        {
          "output_type": "stream",
          "name": "stdout",
          "text": [
            "Test set: Average loss: 0.4322, Accuracy: 8544/10000 (85.44%)\n",
            "\n",
            "EPOCH: 156\n"
          ]
        },
        {
          "output_type": "stream",
          "name": "stderr",
          "text": [
            "Train: Loss=0.6968 Batch_id=390 Accuracy=76.98: 100%|██████████| 391/391 [00:13<00:00, 30.05it/s]\n"
          ]
        },
        {
          "output_type": "stream",
          "name": "stdout",
          "text": [
            "Test set: Average loss: 0.4294, Accuracy: 8560/10000 (85.60%)\n",
            "\n",
            "EPOCH: 157\n"
          ]
        },
        {
          "output_type": "stream",
          "name": "stderr",
          "text": [
            "Train: Loss=0.7289 Batch_id=390 Accuracy=76.61: 100%|██████████| 391/391 [00:12<00:00, 30.27it/s]\n"
          ]
        },
        {
          "output_type": "stream",
          "name": "stdout",
          "text": [
            "Test set: Average loss: 0.4316, Accuracy: 8533/10000 (85.33%)\n",
            "\n",
            "EPOCH: 158\n"
          ]
        },
        {
          "output_type": "stream",
          "name": "stderr",
          "text": [
            "Train: Loss=0.7555 Batch_id=390 Accuracy=76.94: 100%|██████████| 391/391 [00:12<00:00, 30.23it/s]\n"
          ]
        },
        {
          "output_type": "stream",
          "name": "stdout",
          "text": [
            "Test set: Average loss: 0.4308, Accuracy: 8547/10000 (85.47%)\n",
            "\n",
            "EPOCH: 159\n"
          ]
        },
        {
          "output_type": "stream",
          "name": "stderr",
          "text": [
            "Train: Loss=0.4917 Batch_id=390 Accuracy=76.85: 100%|██████████| 391/391 [00:12<00:00, 30.73it/s]\n"
          ]
        },
        {
          "output_type": "stream",
          "name": "stdout",
          "text": [
            "Test set: Average loss: 0.4293, Accuracy: 8532/10000 (85.32%)\n",
            "\n",
            "EPOCH: 160\n"
          ]
        },
        {
          "output_type": "stream",
          "name": "stderr",
          "text": [
            "Train: Loss=0.6874 Batch_id=390 Accuracy=76.81: 100%|██████████| 391/391 [00:13<00:00, 28.44it/s]\n"
          ]
        },
        {
          "output_type": "stream",
          "name": "stdout",
          "text": [
            "Test set: Average loss: 0.4239, Accuracy: 8575/10000 (85.75%)\n",
            "\n",
            "EPOCH: 161\n"
          ]
        },
        {
          "output_type": "stream",
          "name": "stderr",
          "text": [
            "Train: Loss=0.7941 Batch_id=390 Accuracy=76.89: 100%|██████████| 391/391 [00:12<00:00, 30.72it/s]\n"
          ]
        },
        {
          "output_type": "stream",
          "name": "stdout",
          "text": [
            "Test set: Average loss: 0.4274, Accuracy: 8531/10000 (85.31%)\n",
            "\n",
            "EPOCH: 162\n"
          ]
        },
        {
          "output_type": "stream",
          "name": "stderr",
          "text": [
            "Train: Loss=0.5792 Batch_id=390 Accuracy=77.14: 100%|██████████| 391/391 [00:12<00:00, 30.49it/s]\n"
          ]
        },
        {
          "output_type": "stream",
          "name": "stdout",
          "text": [
            "Test set: Average loss: 0.4282, Accuracy: 8550/10000 (85.50%)\n",
            "\n",
            "EPOCH: 163\n"
          ]
        },
        {
          "output_type": "stream",
          "name": "stderr",
          "text": [
            "Train: Loss=0.6506 Batch_id=390 Accuracy=76.92: 100%|██████████| 391/391 [00:12<00:00, 30.61it/s]\n"
          ]
        },
        {
          "output_type": "stream",
          "name": "stdout",
          "text": [
            "Test set: Average loss: 0.4274, Accuracy: 8535/10000 (85.35%)\n",
            "\n",
            "EPOCH: 164\n"
          ]
        },
        {
          "output_type": "stream",
          "name": "stderr",
          "text": [
            "Train: Loss=0.8016 Batch_id=390 Accuracy=77.26: 100%|██████████| 391/391 [00:12<00:00, 30.28it/s]\n"
          ]
        },
        {
          "output_type": "stream",
          "name": "stdout",
          "text": [
            "Test set: Average loss: 0.4216, Accuracy: 8562/10000 (85.62%)\n",
            "\n",
            "EPOCH: 165\n"
          ]
        },
        {
          "output_type": "stream",
          "name": "stderr",
          "text": [
            "Train: Loss=0.7458 Batch_id=390 Accuracy=76.99: 100%|██████████| 391/391 [00:12<00:00, 30.23it/s]\n"
          ]
        },
        {
          "output_type": "stream",
          "name": "stdout",
          "text": [
            "Test set: Average loss: 0.4234, Accuracy: 8532/10000 (85.32%)\n",
            "\n",
            "EPOCH: 166\n"
          ]
        },
        {
          "output_type": "stream",
          "name": "stderr",
          "text": [
            "Train: Loss=0.6102 Batch_id=390 Accuracy=76.87: 100%|██████████| 391/391 [00:13<00:00, 30.01it/s]\n"
          ]
        },
        {
          "output_type": "stream",
          "name": "stdout",
          "text": [
            "Test set: Average loss: 0.4263, Accuracy: 8536/10000 (85.36%)\n",
            "\n",
            "EPOCH: 167\n"
          ]
        },
        {
          "output_type": "stream",
          "name": "stderr",
          "text": [
            "Train: Loss=0.5478 Batch_id=390 Accuracy=77.02: 100%|██████████| 391/391 [00:12<00:00, 30.13it/s]\n"
          ]
        },
        {
          "output_type": "stream",
          "name": "stdout",
          "text": [
            "Test set: Average loss: 0.4232, Accuracy: 8537/10000 (85.37%)\n",
            "\n",
            "EPOCH: 168\n"
          ]
        },
        {
          "output_type": "stream",
          "name": "stderr",
          "text": [
            "Train: Loss=0.6788 Batch_id=390 Accuracy=77.08: 100%|██████████| 391/391 [00:12<00:00, 30.20it/s]\n"
          ]
        },
        {
          "output_type": "stream",
          "name": "stdout",
          "text": [
            "Test set: Average loss: 0.4269, Accuracy: 8557/10000 (85.57%)\n",
            "\n",
            "EPOCH: 169\n"
          ]
        },
        {
          "output_type": "stream",
          "name": "stderr",
          "text": [
            "Train: Loss=0.5206 Batch_id=390 Accuracy=77.30: 100%|██████████| 391/391 [00:13<00:00, 30.04it/s]\n"
          ]
        },
        {
          "output_type": "stream",
          "name": "stdout",
          "text": [
            "Test set: Average loss: 0.4204, Accuracy: 8540/10000 (85.40%)\n",
            "\n",
            "EPOCH: 170\n"
          ]
        },
        {
          "output_type": "stream",
          "name": "stderr",
          "text": [
            "Train: Loss=0.6762 Batch_id=390 Accuracy=77.23: 100%|██████████| 391/391 [00:12<00:00, 30.68it/s]\n"
          ]
        },
        {
          "output_type": "stream",
          "name": "stdout",
          "text": [
            "Test set: Average loss: 0.4215, Accuracy: 8556/10000 (85.56%)\n",
            "\n",
            "EPOCH: 171\n"
          ]
        },
        {
          "output_type": "stream",
          "name": "stderr",
          "text": [
            "Train: Loss=0.4607 Batch_id=390 Accuracy=77.12: 100%|██████████| 391/391 [00:12<00:00, 30.13it/s]\n"
          ]
        },
        {
          "output_type": "stream",
          "name": "stdout",
          "text": [
            "Test set: Average loss: 0.4274, Accuracy: 8546/10000 (85.46%)\n",
            "\n",
            "EPOCH: 172\n"
          ]
        },
        {
          "output_type": "stream",
          "name": "stderr",
          "text": [
            "Train: Loss=0.6011 Batch_id=390 Accuracy=76.91: 100%|██████████| 391/391 [00:13<00:00, 28.58it/s]\n"
          ]
        },
        {
          "output_type": "stream",
          "name": "stdout",
          "text": [
            "Test set: Average loss: 0.4192, Accuracy: 8566/10000 (85.66%)\n",
            "\n",
            "EPOCH: 173\n"
          ]
        },
        {
          "output_type": "stream",
          "name": "stderr",
          "text": [
            "Train: Loss=0.6201 Batch_id=390 Accuracy=77.36: 100%|██████████| 391/391 [00:13<00:00, 29.62it/s]\n"
          ]
        },
        {
          "output_type": "stream",
          "name": "stdout",
          "text": [
            "Test set: Average loss: 0.4200, Accuracy: 8549/10000 (85.49%)\n",
            "\n",
            "EPOCH: 174\n"
          ]
        },
        {
          "output_type": "stream",
          "name": "stderr",
          "text": [
            "Train: Loss=0.5775 Batch_id=390 Accuracy=77.18: 100%|██████████| 391/391 [00:13<00:00, 29.84it/s]\n"
          ]
        },
        {
          "output_type": "stream",
          "name": "stdout",
          "text": [
            "Test set: Average loss: 0.4206, Accuracy: 8535/10000 (85.35%)\n",
            "\n",
            "EPOCH: 175\n"
          ]
        },
        {
          "output_type": "stream",
          "name": "stderr",
          "text": [
            "Train: Loss=0.6613 Batch_id=390 Accuracy=77.11: 100%|██████████| 391/391 [00:13<00:00, 29.58it/s]\n"
          ]
        },
        {
          "output_type": "stream",
          "name": "stdout",
          "text": [
            "Test set: Average loss: 0.4295, Accuracy: 8543/10000 (85.43%)\n",
            "\n",
            "EPOCH: 176\n"
          ]
        },
        {
          "output_type": "stream",
          "name": "stderr",
          "text": [
            "Train: Loss=0.5904 Batch_id=390 Accuracy=77.13: 100%|██████████| 391/391 [00:13<00:00, 30.07it/s]\n"
          ]
        },
        {
          "output_type": "stream",
          "name": "stdout",
          "text": [
            "Test set: Average loss: 0.4242, Accuracy: 8553/10000 (85.53%)\n",
            "\n",
            "EPOCH: 177\n"
          ]
        },
        {
          "output_type": "stream",
          "name": "stderr",
          "text": [
            "Train: Loss=0.7050 Batch_id=390 Accuracy=77.46: 100%|██████████| 391/391 [00:13<00:00, 29.66it/s]\n"
          ]
        },
        {
          "output_type": "stream",
          "name": "stdout",
          "text": [
            "Test set: Average loss: 0.4175, Accuracy: 8593/10000 (85.93%)\n",
            "\n",
            "EPOCH: 178\n"
          ]
        },
        {
          "output_type": "stream",
          "name": "stderr",
          "text": [
            "Train: Loss=0.5517 Batch_id=390 Accuracy=77.43: 100%|██████████| 391/391 [00:13<00:00, 29.87it/s]\n"
          ]
        },
        {
          "output_type": "stream",
          "name": "stdout",
          "text": [
            "Test set: Average loss: 0.4207, Accuracy: 8584/10000 (85.84%)\n",
            "\n",
            "EPOCH: 179\n"
          ]
        },
        {
          "output_type": "stream",
          "name": "stderr",
          "text": [
            "Train: Loss=0.8028 Batch_id=390 Accuracy=77.38: 100%|██████████| 391/391 [00:13<00:00, 29.74it/s]\n"
          ]
        },
        {
          "output_type": "stream",
          "name": "stdout",
          "text": [
            "Test set: Average loss: 0.4243, Accuracy: 8572/10000 (85.72%)\n",
            "\n",
            "EPOCH: 180\n"
          ]
        },
        {
          "output_type": "stream",
          "name": "stderr",
          "text": [
            "Train: Loss=0.5335 Batch_id=390 Accuracy=77.50: 100%|██████████| 391/391 [00:13<00:00, 29.78it/s]\n"
          ]
        },
        {
          "output_type": "stream",
          "name": "stdout",
          "text": [
            "Test set: Average loss: 0.4299, Accuracy: 8528/10000 (85.28%)\n",
            "\n",
            "EPOCH: 181\n"
          ]
        },
        {
          "output_type": "stream",
          "name": "stderr",
          "text": [
            "Train: Loss=0.7040 Batch_id=390 Accuracy=77.57: 100%|██████████| 391/391 [00:12<00:00, 30.26it/s]\n"
          ]
        },
        {
          "output_type": "stream",
          "name": "stdout",
          "text": [
            "Test set: Average loss: 0.4253, Accuracy: 8551/10000 (85.51%)\n",
            "\n",
            "EPOCH: 182\n"
          ]
        },
        {
          "output_type": "stream",
          "name": "stderr",
          "text": [
            "Train: Loss=0.6454 Batch_id=390 Accuracy=77.04: 100%|██████████| 391/391 [00:13<00:00, 29.80it/s]\n"
          ]
        },
        {
          "output_type": "stream",
          "name": "stdout",
          "text": [
            "Test set: Average loss: 0.4233, Accuracy: 8556/10000 (85.56%)\n",
            "\n",
            "EPOCH: 183\n"
          ]
        },
        {
          "output_type": "stream",
          "name": "stderr",
          "text": [
            "Train: Loss=0.6375 Batch_id=390 Accuracy=77.57: 100%|██████████| 391/391 [00:12<00:00, 30.35it/s]\n"
          ]
        },
        {
          "output_type": "stream",
          "name": "stdout",
          "text": [
            "Test set: Average loss: 0.4218, Accuracy: 8590/10000 (85.90%)\n",
            "\n",
            "EPOCH: 184\n"
          ]
        },
        {
          "output_type": "stream",
          "name": "stderr",
          "text": [
            "Train: Loss=0.5578 Batch_id=390 Accuracy=77.18: 100%|██████████| 391/391 [00:13<00:00, 28.01it/s]\n"
          ]
        },
        {
          "output_type": "stream",
          "name": "stdout",
          "text": [
            "Test set: Average loss: 0.4159, Accuracy: 8608/10000 (86.08%)\n",
            "\n",
            "EPOCH: 185\n"
          ]
        },
        {
          "output_type": "stream",
          "name": "stderr",
          "text": [
            "Train: Loss=0.5821 Batch_id=390 Accuracy=77.52: 100%|██████████| 391/391 [00:12<00:00, 30.40it/s]\n"
          ]
        },
        {
          "output_type": "stream",
          "name": "stdout",
          "text": [
            "Test set: Average loss: 0.4163, Accuracy: 8598/10000 (85.98%)\n",
            "\n",
            "EPOCH: 186\n"
          ]
        },
        {
          "output_type": "stream",
          "name": "stderr",
          "text": [
            "Train: Loss=0.6057 Batch_id=390 Accuracy=77.49: 100%|██████████| 391/391 [00:13<00:00, 29.83it/s]\n"
          ]
        },
        {
          "output_type": "stream",
          "name": "stdout",
          "text": [
            "Test set: Average loss: 0.4119, Accuracy: 8630/10000 (86.30%)\n",
            "\n",
            "EPOCH: 187\n"
          ]
        },
        {
          "output_type": "stream",
          "name": "stderr",
          "text": [
            "Train: Loss=0.7792 Batch_id=390 Accuracy=77.69: 100%|██████████| 391/391 [00:13<00:00, 29.92it/s]\n"
          ]
        },
        {
          "output_type": "stream",
          "name": "stdout",
          "text": [
            "Test set: Average loss: 0.4132, Accuracy: 8578/10000 (85.78%)\n",
            "\n",
            "EPOCH: 188\n"
          ]
        },
        {
          "output_type": "stream",
          "name": "stderr",
          "text": [
            "Train: Loss=0.6689 Batch_id=390 Accuracy=77.41: 100%|██████████| 391/391 [00:13<00:00, 29.46it/s]\n"
          ]
        },
        {
          "output_type": "stream",
          "name": "stdout",
          "text": [
            "Test set: Average loss: 0.4123, Accuracy: 8582/10000 (85.82%)\n",
            "\n",
            "EPOCH: 189\n"
          ]
        },
        {
          "output_type": "stream",
          "name": "stderr",
          "text": [
            "Train: Loss=0.7973 Batch_id=390 Accuracy=77.36: 100%|██████████| 391/391 [00:13<00:00, 29.82it/s]\n"
          ]
        },
        {
          "output_type": "stream",
          "name": "stdout",
          "text": [
            "Test set: Average loss: 0.4218, Accuracy: 8576/10000 (85.76%)\n",
            "\n",
            "EPOCH: 190\n"
          ]
        },
        {
          "output_type": "stream",
          "name": "stderr",
          "text": [
            "Train: Loss=0.5328 Batch_id=390 Accuracy=77.34: 100%|██████████| 391/391 [00:13<00:00, 29.80it/s]\n"
          ]
        },
        {
          "output_type": "stream",
          "name": "stdout",
          "text": [
            "Test set: Average loss: 0.4139, Accuracy: 8585/10000 (85.85%)\n",
            "\n",
            "EPOCH: 191\n"
          ]
        },
        {
          "output_type": "stream",
          "name": "stderr",
          "text": [
            "Train: Loss=0.5563 Batch_id=390 Accuracy=77.48: 100%|██████████| 391/391 [00:12<00:00, 30.31it/s]\n"
          ]
        },
        {
          "output_type": "stream",
          "name": "stdout",
          "text": [
            "Test set: Average loss: 0.4128, Accuracy: 8590/10000 (85.90%)\n",
            "\n",
            "EPOCH: 192\n"
          ]
        },
        {
          "output_type": "stream",
          "name": "stderr",
          "text": [
            "Train: Loss=0.5627 Batch_id=390 Accuracy=77.74: 100%|██████████| 391/391 [00:13<00:00, 29.67it/s]\n"
          ]
        },
        {
          "output_type": "stream",
          "name": "stdout",
          "text": [
            "Test set: Average loss: 0.4211, Accuracy: 8593/10000 (85.93%)\n",
            "\n",
            "EPOCH: 193\n"
          ]
        },
        {
          "output_type": "stream",
          "name": "stderr",
          "text": [
            "Train: Loss=0.4178 Batch_id=390 Accuracy=77.63: 100%|██████████| 391/391 [00:13<00:00, 30.05it/s]\n"
          ]
        },
        {
          "output_type": "stream",
          "name": "stdout",
          "text": [
            "Test set: Average loss: 0.4176, Accuracy: 8590/10000 (85.90%)\n",
            "\n",
            "EPOCH: 194\n"
          ]
        },
        {
          "output_type": "stream",
          "name": "stderr",
          "text": [
            "Train: Loss=0.6685 Batch_id=390 Accuracy=77.39: 100%|██████████| 391/391 [00:13<00:00, 29.86it/s]\n"
          ]
        },
        {
          "output_type": "stream",
          "name": "stdout",
          "text": [
            "Test set: Average loss: 0.4156, Accuracy: 8590/10000 (85.90%)\n",
            "\n",
            "EPOCH: 195\n"
          ]
        },
        {
          "output_type": "stream",
          "name": "stderr",
          "text": [
            "Train: Loss=0.5185 Batch_id=390 Accuracy=77.54: 100%|██████████| 391/391 [00:13<00:00, 29.74it/s]\n"
          ]
        },
        {
          "output_type": "stream",
          "name": "stdout",
          "text": [
            "Test set: Average loss: 0.4157, Accuracy: 8607/10000 (86.07%)\n",
            "\n",
            "EPOCH: 196\n"
          ]
        },
        {
          "output_type": "stream",
          "name": "stderr",
          "text": [
            "Train: Loss=0.7597 Batch_id=390 Accuracy=77.80: 100%|██████████| 391/391 [00:13<00:00, 28.35it/s]\n"
          ]
        },
        {
          "output_type": "stream",
          "name": "stdout",
          "text": [
            "Test set: Average loss: 0.4198, Accuracy: 8574/10000 (85.74%)\n",
            "\n",
            "EPOCH: 197\n"
          ]
        },
        {
          "output_type": "stream",
          "name": "stderr",
          "text": [
            "Train: Loss=0.6066 Batch_id=390 Accuracy=77.55: 100%|██████████| 391/391 [00:13<00:00, 29.93it/s]\n"
          ]
        },
        {
          "output_type": "stream",
          "name": "stdout",
          "text": [
            "Test set: Average loss: 0.4145, Accuracy: 8585/10000 (85.85%)\n",
            "\n",
            "EPOCH: 198\n"
          ]
        },
        {
          "output_type": "stream",
          "name": "stderr",
          "text": [
            "Train: Loss=0.7481 Batch_id=390 Accuracy=77.67: 100%|██████████| 391/391 [00:13<00:00, 30.02it/s]\n"
          ]
        },
        {
          "output_type": "stream",
          "name": "stdout",
          "text": [
            "Test set: Average loss: 0.4211, Accuracy: 8595/10000 (85.95%)\n",
            "\n",
            "EPOCH: 199\n"
          ]
        },
        {
          "output_type": "stream",
          "name": "stderr",
          "text": [
            "Train: Loss=0.6681 Batch_id=390 Accuracy=77.53: 100%|██████████| 391/391 [00:13<00:00, 28.57it/s]\n"
          ]
        },
        {
          "output_type": "stream",
          "name": "stdout",
          "text": [
            "Test set: Average loss: 0.4166, Accuracy: 8581/10000 (85.81%)\n",
            "\n",
            "EPOCH: 200\n"
          ]
        },
        {
          "output_type": "stream",
          "name": "stderr",
          "text": [
            "Train: Loss=0.5836 Batch_id=390 Accuracy=77.83: 100%|██████████| 391/391 [00:13<00:00, 28.48it/s]\n"
          ]
        },
        {
          "output_type": "stream",
          "name": "stdout",
          "text": [
            "Test set: Average loss: 0.4231, Accuracy: 8553/10000 (85.53%)\n",
            "\n",
            "EPOCH: 201\n"
          ]
        },
        {
          "output_type": "stream",
          "name": "stderr",
          "text": [
            "Train: Loss=0.6260 Batch_id=390 Accuracy=77.53: 100%|██████████| 391/391 [00:13<00:00, 28.26it/s]\n"
          ]
        },
        {
          "output_type": "stream",
          "name": "stdout",
          "text": [
            "Test set: Average loss: 0.4163, Accuracy: 8567/10000 (85.67%)\n",
            "\n",
            "EPOCH: 202\n"
          ]
        },
        {
          "output_type": "stream",
          "name": "stderr",
          "text": [
            "Train: Loss=0.6540 Batch_id=390 Accuracy=77.58: 100%|██████████| 391/391 [00:13<00:00, 28.17it/s]\n"
          ]
        },
        {
          "output_type": "stream",
          "name": "stdout",
          "text": [
            "Test set: Average loss: 0.4131, Accuracy: 8589/10000 (85.89%)\n",
            "\n",
            "EPOCH: 203\n"
          ]
        },
        {
          "output_type": "stream",
          "name": "stderr",
          "text": [
            "Train: Loss=0.6186 Batch_id=390 Accuracy=77.68: 100%|██████████| 391/391 [00:13<00:00, 29.31it/s]\n"
          ]
        },
        {
          "output_type": "stream",
          "name": "stdout",
          "text": [
            "Test set: Average loss: 0.4148, Accuracy: 8604/10000 (86.04%)\n",
            "\n",
            "EPOCH: 204\n"
          ]
        },
        {
          "output_type": "stream",
          "name": "stderr",
          "text": [
            "Train: Loss=0.5416 Batch_id=390 Accuracy=77.75: 100%|██████████| 391/391 [00:13<00:00, 29.89it/s]\n"
          ]
        },
        {
          "output_type": "stream",
          "name": "stdout",
          "text": [
            "Test set: Average loss: 0.4117, Accuracy: 8628/10000 (86.28%)\n",
            "\n",
            "EPOCH: 205\n"
          ]
        },
        {
          "output_type": "stream",
          "name": "stderr",
          "text": [
            "Train: Loss=0.5249 Batch_id=390 Accuracy=77.91: 100%|██████████| 391/391 [00:13<00:00, 29.67it/s]\n"
          ]
        },
        {
          "output_type": "stream",
          "name": "stdout",
          "text": [
            "Test set: Average loss: 0.4123, Accuracy: 8596/10000 (85.96%)\n",
            "\n",
            "EPOCH: 206\n"
          ]
        },
        {
          "output_type": "stream",
          "name": "stderr",
          "text": [
            "Train: Loss=0.6280 Batch_id=390 Accuracy=77.93: 100%|██████████| 391/391 [00:13<00:00, 28.90it/s]\n"
          ]
        },
        {
          "output_type": "stream",
          "name": "stdout",
          "text": [
            "Test set: Average loss: 0.4102, Accuracy: 8604/10000 (86.04%)\n",
            "\n",
            "EPOCH: 207\n"
          ]
        },
        {
          "output_type": "stream",
          "name": "stderr",
          "text": [
            "Train: Loss=0.6632 Batch_id=390 Accuracy=77.96: 100%|██████████| 391/391 [00:13<00:00, 28.01it/s]\n"
          ]
        },
        {
          "output_type": "stream",
          "name": "stdout",
          "text": [
            "Test set: Average loss: 0.4065, Accuracy: 8604/10000 (86.04%)\n",
            "\n",
            "EPOCH: 208\n"
          ]
        },
        {
          "output_type": "stream",
          "name": "stderr",
          "text": [
            "Train: Loss=0.6202 Batch_id=390 Accuracy=77.76: 100%|██████████| 391/391 [00:13<00:00, 29.52it/s]\n"
          ]
        },
        {
          "output_type": "stream",
          "name": "stdout",
          "text": [
            "Test set: Average loss: 0.4160, Accuracy: 8569/10000 (85.69%)\n",
            "\n",
            "EPOCH: 209\n"
          ]
        },
        {
          "output_type": "stream",
          "name": "stderr",
          "text": [
            "Train: Loss=0.5468 Batch_id=390 Accuracy=77.75: 100%|██████████| 391/391 [00:13<00:00, 29.50it/s]\n"
          ]
        },
        {
          "output_type": "stream",
          "name": "stdout",
          "text": [
            "Test set: Average loss: 0.4134, Accuracy: 8594/10000 (85.94%)\n",
            "\n",
            "EPOCH: 210\n"
          ]
        },
        {
          "output_type": "stream",
          "name": "stderr",
          "text": [
            "Train: Loss=0.5906 Batch_id=390 Accuracy=77.83: 100%|██████████| 391/391 [00:13<00:00, 29.79it/s]\n"
          ]
        },
        {
          "output_type": "stream",
          "name": "stdout",
          "text": [
            "Test set: Average loss: 0.4119, Accuracy: 8617/10000 (86.17%)\n",
            "\n",
            "EPOCH: 211\n"
          ]
        },
        {
          "output_type": "stream",
          "name": "stderr",
          "text": [
            "Train: Loss=0.6457 Batch_id=390 Accuracy=78.13: 100%|██████████| 391/391 [00:13<00:00, 29.72it/s]\n"
          ]
        },
        {
          "output_type": "stream",
          "name": "stdout",
          "text": [
            "Test set: Average loss: 0.4126, Accuracy: 8613/10000 (86.13%)\n",
            "\n",
            "EPOCH: 212\n"
          ]
        },
        {
          "output_type": "stream",
          "name": "stderr",
          "text": [
            "Train: Loss=0.5869 Batch_id=390 Accuracy=77.96: 100%|██████████| 391/391 [00:13<00:00, 29.82it/s]\n"
          ]
        },
        {
          "output_type": "stream",
          "name": "stdout",
          "text": [
            "Test set: Average loss: 0.4196, Accuracy: 8582/10000 (85.82%)\n",
            "\n",
            "EPOCH: 213\n"
          ]
        },
        {
          "output_type": "stream",
          "name": "stderr",
          "text": [
            "Train: Loss=0.7226 Batch_id=390 Accuracy=77.94: 100%|██████████| 391/391 [00:13<00:00, 30.02it/s]\n"
          ]
        },
        {
          "output_type": "stream",
          "name": "stdout",
          "text": [
            "Test set: Average loss: 0.4196, Accuracy: 8556/10000 (85.56%)\n",
            "\n",
            "EPOCH: 214\n"
          ]
        },
        {
          "output_type": "stream",
          "name": "stderr",
          "text": [
            "Train: Loss=0.7960 Batch_id=390 Accuracy=77.48: 100%|██████████| 391/391 [00:13<00:00, 29.10it/s]\n"
          ]
        },
        {
          "output_type": "stream",
          "name": "stdout",
          "text": [
            "Test set: Average loss: 0.4216, Accuracy: 8594/10000 (85.94%)\n",
            "\n",
            "EPOCH: 215\n"
          ]
        },
        {
          "output_type": "stream",
          "name": "stderr",
          "text": [
            "Train: Loss=0.8422 Batch_id=390 Accuracy=77.58: 100%|██████████| 391/391 [00:13<00:00, 29.98it/s]\n"
          ]
        },
        {
          "output_type": "stream",
          "name": "stdout",
          "text": [
            "Test set: Average loss: 0.4217, Accuracy: 8595/10000 (85.95%)\n",
            "\n",
            "EPOCH: 216\n"
          ]
        },
        {
          "output_type": "stream",
          "name": "stderr",
          "text": [
            "Train: Loss=0.6841 Batch_id=390 Accuracy=77.95: 100%|██████████| 391/391 [00:13<00:00, 29.65it/s]\n"
          ]
        },
        {
          "output_type": "stream",
          "name": "stdout",
          "text": [
            "Test set: Average loss: 0.4184, Accuracy: 8585/10000 (85.85%)\n",
            "\n",
            "EPOCH: 217\n"
          ]
        },
        {
          "output_type": "stream",
          "name": "stderr",
          "text": [
            "Train: Loss=0.7811 Batch_id=390 Accuracy=77.96: 100%|██████████| 391/391 [00:13<00:00, 29.82it/s]\n"
          ]
        },
        {
          "output_type": "stream",
          "name": "stdout",
          "text": [
            "Test set: Average loss: 0.4163, Accuracy: 8584/10000 (85.84%)\n",
            "\n",
            "EPOCH: 218\n"
          ]
        },
        {
          "output_type": "stream",
          "name": "stderr",
          "text": [
            "Train: Loss=0.5946 Batch_id=390 Accuracy=77.98: 100%|██████████| 391/391 [00:13<00:00, 29.13it/s]\n"
          ]
        },
        {
          "output_type": "stream",
          "name": "stdout",
          "text": [
            "Test set: Average loss: 0.4202, Accuracy: 8548/10000 (85.48%)\n",
            "\n",
            "EPOCH: 219\n"
          ]
        },
        {
          "output_type": "stream",
          "name": "stderr",
          "text": [
            "Train: Loss=0.7343 Batch_id=390 Accuracy=77.95: 100%|██████████| 391/391 [00:13<00:00, 28.15it/s]\n"
          ]
        },
        {
          "output_type": "stream",
          "name": "stdout",
          "text": [
            "Test set: Average loss: 0.4069, Accuracy: 8613/10000 (86.13%)\n",
            "\n",
            "EPOCH: 220\n"
          ]
        },
        {
          "output_type": "stream",
          "name": "stderr",
          "text": [
            "Train: Loss=0.4703 Batch_id=390 Accuracy=77.92: 100%|██████████| 391/391 [00:13<00:00, 29.51it/s]\n"
          ]
        },
        {
          "output_type": "stream",
          "name": "stdout",
          "text": [
            "Test set: Average loss: 0.4172, Accuracy: 8603/10000 (86.03%)\n",
            "\n",
            "EPOCH: 221\n"
          ]
        },
        {
          "output_type": "stream",
          "name": "stderr",
          "text": [
            "Train: Loss=0.8603 Batch_id=390 Accuracy=78.10: 100%|██████████| 391/391 [00:13<00:00, 29.34it/s]\n"
          ]
        },
        {
          "output_type": "stream",
          "name": "stdout",
          "text": [
            "Test set: Average loss: 0.4114, Accuracy: 8605/10000 (86.05%)\n",
            "\n",
            "EPOCH: 222\n"
          ]
        },
        {
          "output_type": "stream",
          "name": "stderr",
          "text": [
            "Train: Loss=0.8076 Batch_id=390 Accuracy=77.89: 100%|██████████| 391/391 [00:14<00:00, 27.68it/s]\n"
          ]
        },
        {
          "output_type": "stream",
          "name": "stdout",
          "text": [
            "Test set: Average loss: 0.4097, Accuracy: 8598/10000 (85.98%)\n",
            "\n",
            "EPOCH: 223\n"
          ]
        },
        {
          "output_type": "stream",
          "name": "stderr",
          "text": [
            "Train: Loss=0.8305 Batch_id=390 Accuracy=78.09: 100%|██████████| 391/391 [00:13<00:00, 28.74it/s]\n"
          ]
        },
        {
          "output_type": "stream",
          "name": "stdout",
          "text": [
            "Test set: Average loss: 0.4092, Accuracy: 8621/10000 (86.21%)\n",
            "\n",
            "EPOCH: 224\n"
          ]
        },
        {
          "output_type": "stream",
          "name": "stderr",
          "text": [
            "Train: Loss=0.6002 Batch_id=390 Accuracy=78.15: 100%|██████████| 391/391 [00:13<00:00, 29.51it/s]\n"
          ]
        },
        {
          "output_type": "stream",
          "name": "stdout",
          "text": [
            "Test set: Average loss: 0.4118, Accuracy: 8600/10000 (86.00%)\n",
            "\n",
            "EPOCH: 225\n"
          ]
        },
        {
          "output_type": "stream",
          "name": "stderr",
          "text": [
            "Train: Loss=0.5304 Batch_id=390 Accuracy=77.98: 100%|██████████| 391/391 [00:13<00:00, 29.64it/s]\n"
          ]
        },
        {
          "output_type": "stream",
          "name": "stdout",
          "text": [
            "Test set: Average loss: 0.4150, Accuracy: 8567/10000 (85.67%)\n",
            "\n",
            "EPOCH: 226\n"
          ]
        },
        {
          "output_type": "stream",
          "name": "stderr",
          "text": [
            "Train: Loss=0.6343 Batch_id=390 Accuracy=78.19: 100%|██████████| 391/391 [00:13<00:00, 29.45it/s]\n"
          ]
        },
        {
          "output_type": "stream",
          "name": "stdout",
          "text": [
            "Test set: Average loss: 0.4201, Accuracy: 8572/10000 (85.72%)\n",
            "\n",
            "EPOCH: 227\n"
          ]
        },
        {
          "output_type": "stream",
          "name": "stderr",
          "text": [
            "Train: Loss=0.4891 Batch_id=390 Accuracy=77.81: 100%|██████████| 391/391 [00:13<00:00, 29.63it/s]\n"
          ]
        },
        {
          "output_type": "stream",
          "name": "stdout",
          "text": [
            "Test set: Average loss: 0.4145, Accuracy: 8587/10000 (85.87%)\n",
            "\n",
            "EPOCH: 228\n"
          ]
        },
        {
          "output_type": "stream",
          "name": "stderr",
          "text": [
            "Train: Loss=0.5671 Batch_id=390 Accuracy=78.17: 100%|██████████| 391/391 [00:13<00:00, 28.95it/s]\n"
          ]
        },
        {
          "output_type": "stream",
          "name": "stdout",
          "text": [
            "Test set: Average loss: 0.4074, Accuracy: 8623/10000 (86.23%)\n",
            "\n",
            "EPOCH: 229\n"
          ]
        },
        {
          "output_type": "stream",
          "name": "stderr",
          "text": [
            "Train: Loss=0.6109 Batch_id=390 Accuracy=78.19: 100%|██████████| 391/391 [00:13<00:00, 29.47it/s]\n"
          ]
        },
        {
          "output_type": "stream",
          "name": "stdout",
          "text": [
            "Test set: Average loss: 0.4117, Accuracy: 8622/10000 (86.22%)\n",
            "\n",
            "EPOCH: 230\n"
          ]
        },
        {
          "output_type": "stream",
          "name": "stderr",
          "text": [
            "Train: Loss=0.6003 Batch_id=390 Accuracy=77.97: 100%|██████████| 391/391 [00:14<00:00, 27.58it/s]\n"
          ]
        },
        {
          "output_type": "stream",
          "name": "stdout",
          "text": [
            "Test set: Average loss: 0.4082, Accuracy: 8616/10000 (86.16%)\n",
            "\n",
            "EPOCH: 231\n"
          ]
        },
        {
          "output_type": "stream",
          "name": "stderr",
          "text": [
            "Train: Loss=0.5905 Batch_id=390 Accuracy=78.36: 100%|██████████| 391/391 [00:13<00:00, 29.43it/s]\n"
          ]
        },
        {
          "output_type": "stream",
          "name": "stdout",
          "text": [
            "Test set: Average loss: 0.4067, Accuracy: 8634/10000 (86.34%)\n",
            "\n",
            "EPOCH: 232\n"
          ]
        },
        {
          "output_type": "stream",
          "name": "stderr",
          "text": [
            "Train: Loss=1.0980 Batch_id=390 Accuracy=78.33: 100%|██████████| 391/391 [00:13<00:00, 29.33it/s]\n"
          ]
        },
        {
          "output_type": "stream",
          "name": "stdout",
          "text": [
            "Test set: Average loss: 0.4107, Accuracy: 8626/10000 (86.26%)\n",
            "\n",
            "EPOCH: 233\n"
          ]
        },
        {
          "output_type": "stream",
          "name": "stderr",
          "text": [
            "Train: Loss=0.5876 Batch_id=390 Accuracy=78.22: 100%|██████████| 391/391 [00:13<00:00, 29.07it/s]\n"
          ]
        },
        {
          "output_type": "stream",
          "name": "stdout",
          "text": [
            "Test set: Average loss: 0.4225, Accuracy: 8560/10000 (85.60%)\n",
            "\n",
            "EPOCH: 234\n"
          ]
        },
        {
          "output_type": "stream",
          "name": "stderr",
          "text": [
            "Train: Loss=0.4986 Batch_id=390 Accuracy=78.35: 100%|██████████| 391/391 [00:13<00:00, 29.62it/s]\n"
          ]
        },
        {
          "output_type": "stream",
          "name": "stdout",
          "text": [
            "Test set: Average loss: 0.4200, Accuracy: 8603/10000 (86.03%)\n",
            "\n",
            "EPOCH: 235\n"
          ]
        },
        {
          "output_type": "stream",
          "name": "stderr",
          "text": [
            "Train: Loss=0.7582 Batch_id=390 Accuracy=78.25: 100%|██████████| 391/391 [00:13<00:00, 29.44it/s]\n"
          ]
        },
        {
          "output_type": "stream",
          "name": "stdout",
          "text": [
            "Test set: Average loss: 0.4131, Accuracy: 8620/10000 (86.20%)\n",
            "\n",
            "EPOCH: 236\n"
          ]
        },
        {
          "output_type": "stream",
          "name": "stderr",
          "text": [
            "Train: Loss=0.6804 Batch_id=390 Accuracy=77.90: 100%|██████████| 391/391 [00:13<00:00, 29.46it/s]\n"
          ]
        },
        {
          "output_type": "stream",
          "name": "stdout",
          "text": [
            "Test set: Average loss: 0.4099, Accuracy: 8610/10000 (86.10%)\n",
            "\n",
            "EPOCH: 237\n"
          ]
        },
        {
          "output_type": "stream",
          "name": "stderr",
          "text": [
            "Train: Loss=0.5710 Batch_id=390 Accuracy=78.34: 100%|██████████| 391/391 [00:13<00:00, 29.27it/s]\n"
          ]
        },
        {
          "output_type": "stream",
          "name": "stdout",
          "text": [
            "Test set: Average loss: 0.4120, Accuracy: 8633/10000 (86.33%)\n",
            "\n",
            "EPOCH: 238\n"
          ]
        },
        {
          "output_type": "stream",
          "name": "stderr",
          "text": [
            "Train: Loss=0.6467 Batch_id=390 Accuracy=78.18: 100%|██████████| 391/391 [00:13<00:00, 29.06it/s]\n"
          ]
        },
        {
          "output_type": "stream",
          "name": "stdout",
          "text": [
            "Test set: Average loss: 0.4104, Accuracy: 8635/10000 (86.35%)\n",
            "\n",
            "EPOCH: 239\n"
          ]
        },
        {
          "output_type": "stream",
          "name": "stderr",
          "text": [
            "Train: Loss=0.6606 Batch_id=390 Accuracy=78.03: 100%|██████████| 391/391 [00:13<00:00, 28.95it/s]\n"
          ]
        },
        {
          "output_type": "stream",
          "name": "stdout",
          "text": [
            "Test set: Average loss: 0.4200, Accuracy: 8563/10000 (85.63%)\n",
            "\n",
            "EPOCH: 240\n"
          ]
        },
        {
          "output_type": "stream",
          "name": "stderr",
          "text": [
            "Train: Loss=0.8040 Batch_id=390 Accuracy=78.59: 100%|██████████| 391/391 [00:13<00:00, 29.45it/s]\n"
          ]
        },
        {
          "output_type": "stream",
          "name": "stdout",
          "text": [
            "Test set: Average loss: 0.4105, Accuracy: 8635/10000 (86.35%)\n",
            "\n",
            "EPOCH: 241\n"
          ]
        },
        {
          "output_type": "stream",
          "name": "stderr",
          "text": [
            "Train: Loss=0.5948 Batch_id=390 Accuracy=77.99: 100%|██████████| 391/391 [00:13<00:00, 28.80it/s]\n"
          ]
        },
        {
          "output_type": "stream",
          "name": "stdout",
          "text": [
            "Test set: Average loss: 0.4146, Accuracy: 8599/10000 (85.99%)\n",
            "\n",
            "EPOCH: 242\n"
          ]
        },
        {
          "output_type": "stream",
          "name": "stderr",
          "text": [
            "Train: Loss=0.3911 Batch_id=390 Accuracy=78.11: 100%|██████████| 391/391 [00:13<00:00, 29.73it/s]\n"
          ]
        },
        {
          "output_type": "stream",
          "name": "stdout",
          "text": [
            "Test set: Average loss: 0.4100, Accuracy: 8620/10000 (86.20%)\n",
            "\n",
            "EPOCH: 243\n"
          ]
        },
        {
          "output_type": "stream",
          "name": "stderr",
          "text": [
            "Train: Loss=0.6679 Batch_id=390 Accuracy=78.10: 100%|██████████| 391/391 [00:13<00:00, 29.09it/s]\n"
          ]
        },
        {
          "output_type": "stream",
          "name": "stdout",
          "text": [
            "Test set: Average loss: 0.4079, Accuracy: 8599/10000 (85.99%)\n",
            "\n",
            "EPOCH: 244\n"
          ]
        },
        {
          "output_type": "stream",
          "name": "stderr",
          "text": [
            "Train: Loss=0.5935 Batch_id=390 Accuracy=78.45: 100%|██████████| 391/391 [00:13<00:00, 28.97it/s]\n"
          ]
        },
        {
          "output_type": "stream",
          "name": "stdout",
          "text": [
            "Test set: Average loss: 0.4073, Accuracy: 8628/10000 (86.28%)\n",
            "\n",
            "EPOCH: 245\n"
          ]
        },
        {
          "output_type": "stream",
          "name": "stderr",
          "text": [
            "Train: Loss=0.6019 Batch_id=390 Accuracy=78.49: 100%|██████████| 391/391 [00:13<00:00, 29.26it/s]\n"
          ]
        },
        {
          "output_type": "stream",
          "name": "stdout",
          "text": [
            "Test set: Average loss: 0.4068, Accuracy: 8622/10000 (86.22%)\n",
            "\n",
            "EPOCH: 246\n"
          ]
        },
        {
          "output_type": "stream",
          "name": "stderr",
          "text": [
            "Train: Loss=0.5462 Batch_id=390 Accuracy=78.39: 100%|██████████| 391/391 [00:13<00:00, 29.64it/s]\n"
          ]
        },
        {
          "output_type": "stream",
          "name": "stdout",
          "text": [
            "Test set: Average loss: 0.4125, Accuracy: 8608/10000 (86.08%)\n",
            "\n",
            "EPOCH: 247\n"
          ]
        },
        {
          "output_type": "stream",
          "name": "stderr",
          "text": [
            "Train: Loss=0.6527 Batch_id=390 Accuracy=78.64: 100%|██████████| 391/391 [00:13<00:00, 29.48it/s]\n"
          ]
        },
        {
          "output_type": "stream",
          "name": "stdout",
          "text": [
            "Test set: Average loss: 0.4134, Accuracy: 8590/10000 (85.90%)\n",
            "\n",
            "EPOCH: 248\n"
          ]
        },
        {
          "output_type": "stream",
          "name": "stderr",
          "text": [
            "Train: Loss=0.5576 Batch_id=390 Accuracy=78.22: 100%|██████████| 391/391 [00:13<00:00, 29.28it/s]\n"
          ]
        },
        {
          "output_type": "stream",
          "name": "stdout",
          "text": [
            "Test set: Average loss: 0.4076, Accuracy: 8621/10000 (86.21%)\n",
            "\n",
            "EPOCH: 249\n"
          ]
        },
        {
          "output_type": "stream",
          "name": "stderr",
          "text": [
            "Train: Loss=0.7357 Batch_id=390 Accuracy=78.65: 100%|██████████| 391/391 [00:13<00:00, 28.97it/s]\n"
          ]
        },
        {
          "output_type": "stream",
          "name": "stdout",
          "text": [
            "Test set: Average loss: 0.4128, Accuracy: 8598/10000 (85.98%)\n",
            "\n",
            "EPOCH: 250\n"
          ]
        },
        {
          "output_type": "stream",
          "name": "stderr",
          "text": [
            "Train: Loss=0.6093 Batch_id=390 Accuracy=78.18: 100%|██████████| 391/391 [00:13<00:00, 29.03it/s]\n"
          ]
        },
        {
          "output_type": "stream",
          "name": "stdout",
          "text": [
            "Test set: Average loss: 0.4130, Accuracy: 8601/10000 (86.01%)\n",
            "\n",
            "EPOCH: 251\n"
          ]
        },
        {
          "output_type": "stream",
          "name": "stderr",
          "text": [
            "Train: Loss=0.7921 Batch_id=390 Accuracy=78.38: 100%|██████████| 391/391 [00:13<00:00, 28.54it/s]\n"
          ]
        },
        {
          "output_type": "stream",
          "name": "stdout",
          "text": [
            "Test set: Average loss: 0.4078, Accuracy: 8605/10000 (86.05%)\n",
            "\n",
            "EPOCH: 252\n"
          ]
        },
        {
          "output_type": "stream",
          "name": "stderr",
          "text": [
            "Train: Loss=0.5362 Batch_id=390 Accuracy=78.41: 100%|██████████| 391/391 [00:13<00:00, 28.64it/s]\n"
          ]
        },
        {
          "output_type": "stream",
          "name": "stdout",
          "text": [
            "Test set: Average loss: 0.4014, Accuracy: 8651/10000 (86.51%)\n",
            "\n",
            "EPOCH: 253\n"
          ]
        },
        {
          "output_type": "stream",
          "name": "stderr",
          "text": [
            "Train: Loss=0.7068 Batch_id=390 Accuracy=78.24: 100%|██████████| 391/391 [00:13<00:00, 28.59it/s]\n"
          ]
        },
        {
          "output_type": "stream",
          "name": "stdout",
          "text": [
            "Test set: Average loss: 0.4151, Accuracy: 8609/10000 (86.09%)\n",
            "\n",
            "EPOCH: 254\n"
          ]
        },
        {
          "output_type": "stream",
          "name": "stderr",
          "text": [
            "Train: Loss=0.5298 Batch_id=390 Accuracy=78.37: 100%|██████████| 391/391 [00:13<00:00, 28.89it/s]\n"
          ]
        },
        {
          "output_type": "stream",
          "name": "stdout",
          "text": [
            "Test set: Average loss: 0.4052, Accuracy: 8642/10000 (86.42%)\n",
            "\n",
            "EPOCH: 255\n"
          ]
        },
        {
          "output_type": "stream",
          "name": "stderr",
          "text": [
            "Train: Loss=0.5205 Batch_id=390 Accuracy=78.84: 100%|██████████| 391/391 [00:13<00:00, 29.48it/s]\n"
          ]
        },
        {
          "output_type": "stream",
          "name": "stdout",
          "text": [
            "Test set: Average loss: 0.4093, Accuracy: 8597/10000 (85.97%)\n",
            "\n",
            "EPOCH: 256\n"
          ]
        },
        {
          "output_type": "stream",
          "name": "stderr",
          "text": [
            "Train: Loss=0.5942 Batch_id=390 Accuracy=78.62: 100%|██████████| 391/391 [00:13<00:00, 29.03it/s]\n"
          ]
        },
        {
          "output_type": "stream",
          "name": "stdout",
          "text": [
            "Test set: Average loss: 0.4095, Accuracy: 8633/10000 (86.33%)\n",
            "\n",
            "EPOCH: 257\n"
          ]
        },
        {
          "output_type": "stream",
          "name": "stderr",
          "text": [
            "Train: Loss=0.6785 Batch_id=390 Accuracy=78.45: 100%|██████████| 391/391 [00:13<00:00, 28.79it/s]\n"
          ]
        },
        {
          "output_type": "stream",
          "name": "stdout",
          "text": [
            "Test set: Average loss: 0.4017, Accuracy: 8679/10000 (86.79%)\n",
            "\n",
            "EPOCH: 258\n"
          ]
        },
        {
          "output_type": "stream",
          "name": "stderr",
          "text": [
            "Train: Loss=0.5410 Batch_id=390 Accuracy=78.56: 100%|██████████| 391/391 [00:13<00:00, 28.60it/s]\n"
          ]
        },
        {
          "output_type": "stream",
          "name": "stdout",
          "text": [
            "Test set: Average loss: 0.4008, Accuracy: 8635/10000 (86.35%)\n",
            "\n",
            "EPOCH: 259\n"
          ]
        },
        {
          "output_type": "stream",
          "name": "stderr",
          "text": [
            "Train: Loss=0.5426 Batch_id=390 Accuracy=78.30: 100%|██████████| 391/391 [00:13<00:00, 29.10it/s]\n"
          ]
        },
        {
          "output_type": "stream",
          "name": "stdout",
          "text": [
            "Test set: Average loss: 0.4008, Accuracy: 8667/10000 (86.67%)\n",
            "\n",
            "EPOCH: 260\n"
          ]
        },
        {
          "output_type": "stream",
          "name": "stderr",
          "text": [
            "Train: Loss=0.5082 Batch_id=390 Accuracy=78.54: 100%|██████████| 391/391 [00:13<00:00, 29.53it/s]\n"
          ]
        },
        {
          "output_type": "stream",
          "name": "stdout",
          "text": [
            "Test set: Average loss: 0.4042, Accuracy: 8638/10000 (86.38%)\n",
            "\n",
            "EPOCH: 261\n"
          ]
        },
        {
          "output_type": "stream",
          "name": "stderr",
          "text": [
            "Train: Loss=0.6953 Batch_id=390 Accuracy=78.37: 100%|██████████| 391/391 [00:13<00:00, 29.06it/s]\n"
          ]
        },
        {
          "output_type": "stream",
          "name": "stdout",
          "text": [
            "Test set: Average loss: 0.3989, Accuracy: 8654/10000 (86.54%)\n",
            "\n",
            "EPOCH: 262\n"
          ]
        },
        {
          "output_type": "stream",
          "name": "stderr",
          "text": [
            "Train: Loss=0.6843 Batch_id=390 Accuracy=78.61: 100%|██████████| 391/391 [00:13<00:00, 29.21it/s]\n"
          ]
        },
        {
          "output_type": "stream",
          "name": "stdout",
          "text": [
            "Test set: Average loss: 0.4097, Accuracy: 8605/10000 (86.05%)\n",
            "\n",
            "EPOCH: 263\n"
          ]
        },
        {
          "output_type": "stream",
          "name": "stderr",
          "text": [
            "Train: Loss=0.5932 Batch_id=390 Accuracy=78.44: 100%|██████████| 391/391 [00:13<00:00, 29.32it/s]\n"
          ]
        },
        {
          "output_type": "stream",
          "name": "stdout",
          "text": [
            "Test set: Average loss: 0.4101, Accuracy: 8623/10000 (86.23%)\n",
            "\n",
            "EPOCH: 264\n"
          ]
        },
        {
          "output_type": "stream",
          "name": "stderr",
          "text": [
            "Train: Loss=0.5289 Batch_id=390 Accuracy=78.69: 100%|██████████| 391/391 [00:14<00:00, 27.35it/s]\n"
          ]
        },
        {
          "output_type": "stream",
          "name": "stdout",
          "text": [
            "Test set: Average loss: 0.4053, Accuracy: 8634/10000 (86.34%)\n",
            "\n",
            "EPOCH: 265\n"
          ]
        },
        {
          "output_type": "stream",
          "name": "stderr",
          "text": [
            "Train: Loss=0.5824 Batch_id=390 Accuracy=78.65: 100%|██████████| 391/391 [00:13<00:00, 29.14it/s]\n"
          ]
        },
        {
          "output_type": "stream",
          "name": "stdout",
          "text": [
            "Test set: Average loss: 0.4050, Accuracy: 8637/10000 (86.37%)\n",
            "\n",
            "EPOCH: 266\n"
          ]
        },
        {
          "output_type": "stream",
          "name": "stderr",
          "text": [
            "Train: Loss=0.6167 Batch_id=390 Accuracy=78.61: 100%|██████████| 391/391 [00:13<00:00, 28.67it/s]\n"
          ]
        },
        {
          "output_type": "stream",
          "name": "stdout",
          "text": [
            "Test set: Average loss: 0.4046, Accuracy: 8643/10000 (86.43%)\n",
            "\n",
            "EPOCH: 267\n"
          ]
        },
        {
          "output_type": "stream",
          "name": "stderr",
          "text": [
            "Train: Loss=0.5775 Batch_id=390 Accuracy=78.20: 100%|██████████| 391/391 [00:13<00:00, 29.15it/s]\n"
          ]
        },
        {
          "output_type": "stream",
          "name": "stdout",
          "text": [
            "Test set: Average loss: 0.4054, Accuracy: 8641/10000 (86.41%)\n",
            "\n",
            "EPOCH: 268\n"
          ]
        },
        {
          "output_type": "stream",
          "name": "stderr",
          "text": [
            "Train: Loss=0.7370 Batch_id=390 Accuracy=78.56: 100%|██████████| 391/391 [00:13<00:00, 28.93it/s]\n"
          ]
        },
        {
          "output_type": "stream",
          "name": "stdout",
          "text": [
            "Test set: Average loss: 0.4021, Accuracy: 8653/10000 (86.53%)\n",
            "\n",
            "EPOCH: 269\n"
          ]
        },
        {
          "output_type": "stream",
          "name": "stderr",
          "text": [
            "Train: Loss=0.5589 Batch_id=390 Accuracy=78.75: 100%|██████████| 391/391 [00:13<00:00, 29.16it/s]\n"
          ]
        },
        {
          "output_type": "stream",
          "name": "stdout",
          "text": [
            "Test set: Average loss: 0.4111, Accuracy: 8624/10000 (86.24%)\n",
            "\n",
            "EPOCH: 270\n"
          ]
        },
        {
          "output_type": "stream",
          "name": "stderr",
          "text": [
            "Train: Loss=0.7631 Batch_id=390 Accuracy=78.36: 100%|██████████| 391/391 [00:13<00:00, 28.99it/s]\n"
          ]
        },
        {
          "output_type": "stream",
          "name": "stdout",
          "text": [
            "Test set: Average loss: 0.3981, Accuracy: 8679/10000 (86.79%)\n",
            "\n",
            "EPOCH: 271\n"
          ]
        },
        {
          "output_type": "stream",
          "name": "stderr",
          "text": [
            "Train: Loss=0.6481 Batch_id=390 Accuracy=78.75: 100%|██████████| 391/391 [00:13<00:00, 29.12it/s]\n"
          ]
        },
        {
          "output_type": "stream",
          "name": "stdout",
          "text": [
            "Test set: Average loss: 0.4005, Accuracy: 8652/10000 (86.52%)\n",
            "\n",
            "EPOCH: 272\n"
          ]
        },
        {
          "output_type": "stream",
          "name": "stderr",
          "text": [
            "Train: Loss=0.6462 Batch_id=390 Accuracy=78.76: 100%|██████████| 391/391 [00:13<00:00, 29.22it/s]\n"
          ]
        },
        {
          "output_type": "stream",
          "name": "stdout",
          "text": [
            "Test set: Average loss: 0.4024, Accuracy: 8647/10000 (86.47%)\n",
            "\n",
            "EPOCH: 273\n"
          ]
        },
        {
          "output_type": "stream",
          "name": "stderr",
          "text": [
            "Train: Loss=0.4792 Batch_id=390 Accuracy=78.52: 100%|██████████| 391/391 [00:13<00:00, 28.74it/s]\n"
          ]
        },
        {
          "output_type": "stream",
          "name": "stdout",
          "text": [
            "Test set: Average loss: 0.4021, Accuracy: 8650/10000 (86.50%)\n",
            "\n",
            "EPOCH: 274\n"
          ]
        },
        {
          "output_type": "stream",
          "name": "stderr",
          "text": [
            "Train: Loss=0.6574 Batch_id=390 Accuracy=78.48: 100%|██████████| 391/391 [00:13<00:00, 28.94it/s]\n"
          ]
        },
        {
          "output_type": "stream",
          "name": "stdout",
          "text": [
            "Test set: Average loss: 0.4081, Accuracy: 8635/10000 (86.35%)\n",
            "\n",
            "EPOCH: 275\n"
          ]
        },
        {
          "output_type": "stream",
          "name": "stderr",
          "text": [
            "Train: Loss=0.6545 Batch_id=390 Accuracy=78.69: 100%|██████████| 391/391 [00:14<00:00, 27.77it/s]\n"
          ]
        },
        {
          "output_type": "stream",
          "name": "stdout",
          "text": [
            "Test set: Average loss: 0.4062, Accuracy: 8645/10000 (86.45%)\n",
            "\n",
            "EPOCH: 276\n"
          ]
        },
        {
          "output_type": "stream",
          "name": "stderr",
          "text": [
            "Train: Loss=0.5714 Batch_id=390 Accuracy=78.70: 100%|██████████| 391/391 [00:13<00:00, 29.17it/s]\n"
          ]
        },
        {
          "output_type": "stream",
          "name": "stdout",
          "text": [
            "Test set: Average loss: 0.4034, Accuracy: 8648/10000 (86.48%)\n",
            "\n",
            "EPOCH: 277\n"
          ]
        },
        {
          "output_type": "stream",
          "name": "stderr",
          "text": [
            "Train: Loss=0.6021 Batch_id=390 Accuracy=78.85: 100%|██████████| 391/391 [00:13<00:00, 28.99it/s]\n"
          ]
        },
        {
          "output_type": "stream",
          "name": "stdout",
          "text": [
            "Test set: Average loss: 0.4026, Accuracy: 8646/10000 (86.46%)\n",
            "\n",
            "EPOCH: 278\n"
          ]
        },
        {
          "output_type": "stream",
          "name": "stderr",
          "text": [
            "Train: Loss=0.3548 Batch_id=390 Accuracy=78.67: 100%|██████████| 391/391 [00:13<00:00, 28.68it/s]\n"
          ]
        },
        {
          "output_type": "stream",
          "name": "stdout",
          "text": [
            "Test set: Average loss: 0.4044, Accuracy: 8636/10000 (86.36%)\n",
            "\n",
            "EPOCH: 279\n"
          ]
        },
        {
          "output_type": "stream",
          "name": "stderr",
          "text": [
            "Train: Loss=0.4656 Batch_id=390 Accuracy=78.63: 100%|██████████| 391/391 [00:13<00:00, 29.20it/s]\n"
          ]
        },
        {
          "output_type": "stream",
          "name": "stdout",
          "text": [
            "Test set: Average loss: 0.3988, Accuracy: 8652/10000 (86.52%)\n",
            "\n",
            "EPOCH: 280\n"
          ]
        },
        {
          "output_type": "stream",
          "name": "stderr",
          "text": [
            "Train: Loss=0.7020 Batch_id=390 Accuracy=78.41: 100%|██████████| 391/391 [00:13<00:00, 28.68it/s]\n"
          ]
        },
        {
          "output_type": "stream",
          "name": "stdout",
          "text": [
            "Test set: Average loss: 0.4031, Accuracy: 8637/10000 (86.37%)\n",
            "\n",
            "EPOCH: 281\n"
          ]
        },
        {
          "output_type": "stream",
          "name": "stderr",
          "text": [
            "Train: Loss=0.6479 Batch_id=390 Accuracy=78.56: 100%|██████████| 391/391 [00:13<00:00, 28.94it/s]\n"
          ]
        },
        {
          "output_type": "stream",
          "name": "stdout",
          "text": [
            "Test set: Average loss: 0.3990, Accuracy: 8655/10000 (86.55%)\n",
            "\n",
            "EPOCH: 282\n"
          ]
        },
        {
          "output_type": "stream",
          "name": "stderr",
          "text": [
            "Train: Loss=0.8865 Batch_id=390 Accuracy=78.94: 100%|██████████| 391/391 [00:13<00:00, 28.86it/s]\n"
          ]
        },
        {
          "output_type": "stream",
          "name": "stdout",
          "text": [
            "Test set: Average loss: 0.4090, Accuracy: 8634/10000 (86.34%)\n",
            "\n",
            "EPOCH: 283\n"
          ]
        },
        {
          "output_type": "stream",
          "name": "stderr",
          "text": [
            "Train: Loss=0.9803 Batch_id=390 Accuracy=78.49: 100%|██████████| 391/391 [00:13<00:00, 29.19it/s]\n"
          ]
        },
        {
          "output_type": "stream",
          "name": "stdout",
          "text": [
            "Test set: Average loss: 0.4018, Accuracy: 8678/10000 (86.78%)\n",
            "\n",
            "EPOCH: 284\n"
          ]
        },
        {
          "output_type": "stream",
          "name": "stderr",
          "text": [
            "Train: Loss=0.8102 Batch_id=390 Accuracy=78.71: 100%|██████████| 391/391 [00:13<00:00, 29.13it/s]\n"
          ]
        },
        {
          "output_type": "stream",
          "name": "stdout",
          "text": [
            "Test set: Average loss: 0.3993, Accuracy: 8663/10000 (86.63%)\n",
            "\n",
            "EPOCH: 285\n"
          ]
        },
        {
          "output_type": "stream",
          "name": "stderr",
          "text": [
            "Train: Loss=0.5818 Batch_id=390 Accuracy=78.72: 100%|██████████| 391/391 [00:13<00:00, 29.11it/s]\n"
          ]
        },
        {
          "output_type": "stream",
          "name": "stdout",
          "text": [
            "Test set: Average loss: 0.3994, Accuracy: 8655/10000 (86.55%)\n",
            "\n",
            "EPOCH: 286\n"
          ]
        },
        {
          "output_type": "stream",
          "name": "stderr",
          "text": [
            "Train: Loss=0.6017 Batch_id=390 Accuracy=78.74: 100%|██████████| 391/391 [00:14<00:00, 27.36it/s]\n"
          ]
        },
        {
          "output_type": "stream",
          "name": "stdout",
          "text": [
            "Test set: Average loss: 0.3990, Accuracy: 8661/10000 (86.61%)\n",
            "\n",
            "EPOCH: 287\n"
          ]
        },
        {
          "output_type": "stream",
          "name": "stderr",
          "text": [
            "Train: Loss=0.7214 Batch_id=390 Accuracy=78.79: 100%|██████████| 391/391 [00:13<00:00, 28.93it/s]\n"
          ]
        },
        {
          "output_type": "stream",
          "name": "stdout",
          "text": [
            "Test set: Average loss: 0.4020, Accuracy: 8641/10000 (86.41%)\n",
            "\n",
            "EPOCH: 288\n"
          ]
        },
        {
          "output_type": "stream",
          "name": "stderr",
          "text": [
            "Train: Loss=0.7235 Batch_id=390 Accuracy=78.65: 100%|██████████| 391/391 [00:13<00:00, 29.49it/s]\n"
          ]
        },
        {
          "output_type": "stream",
          "name": "stdout",
          "text": [
            "Test set: Average loss: 0.4025, Accuracy: 8615/10000 (86.15%)\n",
            "\n",
            "EPOCH: 289\n"
          ]
        },
        {
          "output_type": "stream",
          "name": "stderr",
          "text": [
            "Train: Loss=0.4069 Batch_id=390 Accuracy=78.72: 100%|██████████| 391/391 [00:13<00:00, 28.62it/s]\n"
          ]
        },
        {
          "output_type": "stream",
          "name": "stdout",
          "text": [
            "Test set: Average loss: 0.4048, Accuracy: 8606/10000 (86.06%)\n",
            "\n",
            "EPOCH: 290\n"
          ]
        },
        {
          "output_type": "stream",
          "name": "stderr",
          "text": [
            "Train: Loss=0.5801 Batch_id=390 Accuracy=78.78: 100%|██████████| 391/391 [00:13<00:00, 29.15it/s]\n"
          ]
        },
        {
          "output_type": "stream",
          "name": "stdout",
          "text": [
            "Test set: Average loss: 0.4007, Accuracy: 8646/10000 (86.46%)\n",
            "\n",
            "EPOCH: 291\n"
          ]
        },
        {
          "output_type": "stream",
          "name": "stderr",
          "text": [
            "Train: Loss=0.5841 Batch_id=390 Accuracy=78.85: 100%|██████████| 391/391 [00:13<00:00, 28.97it/s]\n"
          ]
        },
        {
          "output_type": "stream",
          "name": "stdout",
          "text": [
            "Test set: Average loss: 0.4052, Accuracy: 8627/10000 (86.27%)\n",
            "\n",
            "EPOCH: 292\n"
          ]
        },
        {
          "output_type": "stream",
          "name": "stderr",
          "text": [
            "Train: Loss=0.5754 Batch_id=390 Accuracy=79.02: 100%|██████████| 391/391 [00:13<00:00, 28.79it/s]\n"
          ]
        },
        {
          "output_type": "stream",
          "name": "stdout",
          "text": [
            "Test set: Average loss: 0.3967, Accuracy: 8660/10000 (86.60%)\n",
            "\n",
            "EPOCH: 293\n"
          ]
        },
        {
          "output_type": "stream",
          "name": "stderr",
          "text": [
            "Train: Loss=0.7233 Batch_id=390 Accuracy=78.82: 100%|██████████| 391/391 [00:13<00:00, 28.93it/s]\n"
          ]
        },
        {
          "output_type": "stream",
          "name": "stdout",
          "text": [
            "Test set: Average loss: 0.4046, Accuracy: 8627/10000 (86.27%)\n",
            "\n",
            "EPOCH: 294\n"
          ]
        },
        {
          "output_type": "stream",
          "name": "stderr",
          "text": [
            "Train: Loss=0.6763 Batch_id=390 Accuracy=78.91: 100%|██████████| 391/391 [00:13<00:00, 28.00it/s]\n"
          ]
        },
        {
          "output_type": "stream",
          "name": "stdout",
          "text": [
            "Test set: Average loss: 0.4044, Accuracy: 8633/10000 (86.33%)\n",
            "\n",
            "EPOCH: 295\n"
          ]
        },
        {
          "output_type": "stream",
          "name": "stderr",
          "text": [
            "Train: Loss=0.7916 Batch_id=390 Accuracy=78.90: 100%|██████████| 391/391 [00:13<00:00, 28.57it/s]\n"
          ]
        },
        {
          "output_type": "stream",
          "name": "stdout",
          "text": [
            "Test set: Average loss: 0.3977, Accuracy: 8662/10000 (86.62%)\n",
            "\n",
            "EPOCH: 296\n"
          ]
        },
        {
          "output_type": "stream",
          "name": "stderr",
          "text": [
            "Train: Loss=0.5545 Batch_id=390 Accuracy=79.29: 100%|██████████| 391/391 [00:13<00:00, 28.00it/s]\n"
          ]
        },
        {
          "output_type": "stream",
          "name": "stdout",
          "text": [
            "Test set: Average loss: 0.4008, Accuracy: 8644/10000 (86.44%)\n",
            "\n",
            "EPOCH: 297\n"
          ]
        },
        {
          "output_type": "stream",
          "name": "stderr",
          "text": [
            "Train: Loss=0.6689 Batch_id=390 Accuracy=79.06: 100%|██████████| 391/391 [00:13<00:00, 28.64it/s]\n"
          ]
        },
        {
          "output_type": "stream",
          "name": "stdout",
          "text": [
            "Test set: Average loss: 0.3986, Accuracy: 8653/10000 (86.53%)\n",
            "\n",
            "EPOCH: 298\n"
          ]
        },
        {
          "output_type": "stream",
          "name": "stderr",
          "text": [
            "Train: Loss=0.5768 Batch_id=390 Accuracy=79.02: 100%|██████████| 391/391 [00:13<00:00, 28.49it/s]\n"
          ]
        },
        {
          "output_type": "stream",
          "name": "stdout",
          "text": [
            "Test set: Average loss: 0.4004, Accuracy: 8628/10000 (86.28%)\n",
            "\n",
            "EPOCH: 299\n"
          ]
        },
        {
          "output_type": "stream",
          "name": "stderr",
          "text": [
            "Train: Loss=0.6176 Batch_id=390 Accuracy=78.55: 100%|██████████| 391/391 [00:13<00:00, 28.64it/s]\n"
          ]
        },
        {
          "output_type": "stream",
          "name": "stdout",
          "text": [
            "Test set: Average loss: 0.4028, Accuracy: 8634/10000 (86.34%)\n",
            "\n"
          ]
        }
      ],
      "source": [
        "model =  Net(norm='BN').to(device)\n",
        "optimizer = optim.SGD(model.parameters(), lr=0.01, momentum=0.9)\n",
        "EPOCHS = 300\n",
        "for epoch in range(EPOCHS):\n",
        "    print(\"EPOCH:\", epoch)\n",
        "    train(model, device, train_loader, optimizer)\n",
        "    test(model, device, test_loader)"
      ]
    },
    {
      "cell_type": "code",
      "execution_count": 13,
      "metadata": {
        "id": "Wu0l7dli4eC9",
        "colab": {
          "base_uri": "https://localhost:8080/",
          "height": 569
        },
        "outputId": "a1a9c2c3-52c8-4a1d-fc04-a83a48e386e5"
      },
      "outputs": [
        {
          "output_type": "display_data",
          "data": {
            "text/plain": [
              "<Figure size 1500x1000 with 4 Axes>"
            ],
            "image/png": "[encoded data removed]"
          },
          "metadata": {}
        }
      ],
      "source": [
        "plot_curves()"
      ]
    },
    {
      "cell_type": "code",
      "source": [
        "wrong_prediction_list = get_incorrect_predictions(model,test_loader,device)"
      ],
      "metadata": {
        "id": "e5h8T0QEaJQC"
      },
      "execution_count": 14,
      "outputs": []
    },
    {
      "cell_type": "code",
      "source": [
        "plot_incorrect_predictions(wrong_prediction_list,classes)"
      ],
      "metadata": {
        "colab": {
          "base_uri": "https://localhost:8080/",
          "height": 660
        },
        "id": "nI8z4ahOcUpo",
        "outputId": "037c68be-77e6-4c0c-fa01-c4377238434f"
      },
      "execution_count": 15,
      "outputs": [
        {
          "output_type": "stream",
          "name": "stderr",
          "text": [
            "WARNING:matplotlib.image:Clipping input data to the valid range for imshow with RGB data ([0..1] for floats or [0..255] for integers).\n",
            "WARNING:matplotlib.image:Clipping input data to the valid range for imshow with RGB data ([0..1] for floats or [0..255] for integers).\n",
            "WARNING:matplotlib.image:Clipping input data to the valid range for imshow with RGB data ([0..1] for floats or [0..255] for integers).\n",
            "WARNING:matplotlib.image:Clipping input data to the valid range for imshow with RGB data ([0..1] for floats or [0..255] for integers).\n",
            "WARNING:matplotlib.image:Clipping input data to the valid range for imshow with RGB data ([0..1] for floats or [0..255] for integers).\n",
            "WARNING:matplotlib.image:Clipping input data to the valid range for imshow with RGB data ([0..1] for floats or [0..255] for integers).\n",
            "WARNING:matplotlib.image:Clipping input data to the valid range for imshow with RGB data ([0..1] for floats or [0..255] for integers).\n",
            "WARNING:matplotlib.image:Clipping input data to the valid range for imshow with RGB data ([0..1] for floats or [0..255] for integers).\n",
            "WARNING:matplotlib.image:Clipping input data to the valid range for imshow with RGB data ([0..1] for floats or [0..255] for integers).\n",
            "WARNING:matplotlib.image:Clipping input data to the valid range for imshow with RGB data ([0..1] for floats or [0..255] for integers).\n"
          ]
        },
        {
          "output_type": "stream",
          "name": "stdout",
          "text": [
            "Total Incorrect Predictions 1366\n"
          ]
        },
        {
          "output_type": "display_data",
          "data": {
            "text/plain": [
              "<Figure size 1000x500 with 10 Axes>"
            ],
            "image/png": "[encoded data removed]"
          },
          "metadata": {}
        }
      ]
    },
    {
      "cell_type": "markdown",
      "metadata": {
        "id": "9ElX1g4V4j1m"
      },
      "source": [
        "## Confusion Matrix"
      ]
    },
    {
      "cell_type": "code",
      "source": [
        "from utils import get_all_predictions, get_incorrect_predictions, prepare_confusion_matrix\n",
        "\n",
        "all_preds, all_targets = get_all_predictions(model, test_loader, device)\n",
        "confusion_matrix = prepare_confusion_matrix(all_preds, all_targets, classes)\n",
        "plot_confusion_matrix(confusion_matrix, classes, False)"
      ],
      "metadata": {
        "colab": {
          "base_uri": "https://localhost:8080/",
          "height": 825
        },
        "id": "Gkzod0GQI2pD",
        "outputId": "37d2352a-2c11-4ec4-8d2b-a54c3a0f8e7f"
      },
      "execution_count": 16,
      "outputs": [
        {
          "output_type": "stream",
          "name": "stdout",
          "text": [
            "Confusion matrix, without normalization\n"
          ]
        },
        {
          "output_type": "display_data",
          "data": {
            "text/plain": [
              "<Figure size 800x800 with 2 Axes>"
            ],
            "image/png": "[encoded data removed]"
          },
          "metadata": {}
        }
      ]
    },
    {
      "cell_type": "markdown",
      "source": [
        "## Save Model"
      ],
      "metadata": {
        "id": "-5ukP6ONfxol"
      }
    },
    {
      "cell_type": "code",
      "source": [
        "torch.save(model.state_dict(), 'model_bn.pth')"
      ],
      "metadata": {
        "id": "sjgET8_yLBy-"
      },
      "execution_count": 17,
      "outputs": []
    },
    {
      "cell_type": "code",
      "source": [
        "# Load Model\n",
        "#model = Net(norm=\"BN\").to(device)\n",
        "#model.load_state_dict(torch.load('model_bn.pth'))"
      ],
      "metadata": {
        "id": "lsI2D_oTLfnN"
      },
      "execution_count": 18,
      "outputs": []
    },
    {
      "cell_type": "code",
      "source": [],
      "metadata": {
        "id": "tanQMBU0HD-T"
      },
      "execution_count": null,
      "outputs": []
    }
  ],
  "metadata": {
    "accelerator": "GPU",
    "colab": {
      "gpuType": "T4",
      "provenance": []
    },
    "kernelspec": {
      "display_name": "Python 3",
      "name": "python3"
    },
    "language_info": {
      "codemirror_mode": {
        "name": "ipython",
        "version": 3
      },
      "file_extension": ".py",
      "mimetype": "text/x-python",
      "name": "python",
      "nbconvert_exporter": "python",
      "pygments_lexer": "ipython3",
      "version": "3.9.10"
    }
  },
  "nbformat": 4,
  "nbformat_minor": 0
}